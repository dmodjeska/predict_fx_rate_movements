{
 "cells": [
  {
   "cell_type": "markdown",
   "metadata": {},
   "source": [
    "CSCI E-82 - Advanced Machine Learning, Data Mining and Artificial Intelligence\n",
    "=====\n",
    "\n",
    "# Project - Ensemble Notebook\n",
    "\n",
    "### *Dominic Murphy and David Modjeska*\n",
    "\n",
    "------"
   ]
  },
  {
   "cell_type": "markdown",
   "metadata": {},
   "source": [
    "# Introduction"
   ]
  },
  {
   "cell_type": "code",
   "execution_count": 1,
   "metadata": {},
   "outputs": [],
   "source": [
    "import glob\n",
    "import math\n",
    "import os\n",
    "import re\n",
    "import matplotlib.pyplot as plt\n",
    "import numpy as np\n",
    "import pandas as pd\n",
    "import seaborn as sns\n",
    "import sys\n",
    "import warnings\n",
    "import xgboost as xgb\n",
    "\n",
    "from sklearn.base import BaseEstimator, RegressorMixin\n",
    "from sklearn.decomposition import PCA\n",
    "from sklearn.ensemble import RandomForestRegressor as RFR\n",
    "from sklearn.linear_model import LinearRegression as Lin_Reg\n",
    "from sklearn.metrics import mean_squared_error\n",
    "from sklearn.model_selection import train_test_split\n",
    "from sklearn.preprocessing import MinMaxScaler, StandardScaler\n",
    "from sklearn.utils import shuffle\n",
    "\n",
    "from pygam import GAM            ##pip install pygam; pip install --user scikit-sparse\n",
    "from pygam import LinearGAM  \n",
    "from pygam.utils import generate_X_grid\n",
    "\n",
    "%matplotlib inline\n",
    "from IPython.display import Image, display, HTML"
   ]
  },
  {
   "cell_type": "code",
   "execution_count": 2,
   "metadata": {},
   "outputs": [],
   "source": [
    "def my_display(str): \n",
    "    display(HTML(str))\n",
    "    \n",
    "def my_display_df(df): \n",
    "    display(HTML(df.to_html(index=False)))\n",
    "    \n",
    "def my_linespace():\n",
    "    my_display('<p>')\n",
    "    \n",
    "plt.rcParams[\"patch.force_edgecolor\"] = True   \n",
    "plt.style.use('ggplot')\n",
    "\n",
    "palette = sns.color_palette(palette = 'deep')\n",
    "sns.set_palette(palette)"
   ]
  },
  {
   "cell_type": "code",
   "execution_count": 3,
   "metadata": {},
   "outputs": [
    {
     "data": {
      "text/html": [
       "<style>\n",
       "div.output_stderr {display: none}\n"
      ],
      "text/plain": [
       "<IPython.core.display.HTML object>"
      ]
     },
     "execution_count": 3,
     "metadata": {},
     "output_type": "execute_result"
    }
   ],
   "source": [
    "# suppress warnings for submission only\n",
    "\n",
    "HTML('''<style>\n",
    "div.output_stderr {display: none}\n",
    "''')"
   ]
  },
  {
   "cell_type": "markdown",
   "metadata": {},
   "source": [
    "# Modeling"
   ]
  },
  {
   "cell_type": "markdown",
   "metadata": {},
   "source": [
    "*Note: some code has been adapted from https://machinelearningmastery.com/multivariate-time-series-forecasting-lstms-keras/*"
   ]
  },
  {
   "cell_type": "markdown",
   "metadata": {},
   "source": [
    "#### Helper function to convert a dataframe for supervised learning"
   ]
  },
  {
   "cell_type": "code",
   "execution_count": 4,
   "metadata": {},
   "outputs": [],
   "source": [
    "def series_to_supervised(data, n_in = 1, n_out = 1, drop_nan = True):\n",
    "    columns = data.columns.values\n",
    "    \n",
    "    n_vars = 1 if type(data) is list else data.shape[1]\n",
    "    df = pd.DataFrame(data)\n",
    "    cols, names = list(), list()\n",
    "    \n",
    "    # input sequence (t-n, ... t-1)\n",
    "    for i in range(n_in, 0, -1):\n",
    "        cols.append(df.shift(i))\n",
    "        names += [(columns[j] + '(t-%d)' % (i)) for j in range(n_vars)]\n",
    "    \n",
    "    # forecast sequence (t, t+1, ... t+n)\n",
    "    for i in range(0, n_out):\n",
    "        cols.append(df.shift(-i))\n",
    "        if i == 0:\n",
    "            names += [(columns[j] + '(t)' % ()) for j in range(n_vars)]\n",
    "        else:\n",
    "            names += [(columns[j] + '(t+%d)' % (i)) for j in range(n_vars)]\n",
    "    \n",
    "    # put it all together\n",
    "    agg = pd.concat(cols, axis = 1)\n",
    "    agg.columns = names\n",
    "    \n",
    "    # drop rows with NaN values\n",
    "    if drop_nan:\n",
    "        agg.dropna(inplace = True)\n",
    "    \n",
    "    return agg"
   ]
  },
  {
   "cell_type": "markdown",
   "metadata": {},
   "source": [
    "#### Load data"
   ]
  },
  {
   "cell_type": "code",
   "execution_count": 5,
   "metadata": {},
   "outputs": [
    {
     "name": "stdout",
     "output_type": "stream",
     "text": [
      "(6551, 151)\n"
     ]
    }
   ],
   "source": [
    "data = pd.read_csv('source_data.csv', parse_dates = ['date_key'])\n",
    "print(data.shape)"
   ]
  },
  {
   "cell_type": "markdown",
   "metadata": {},
   "source": [
    "#### Display first few rows of data"
   ]
  },
  {
   "cell_type": "code",
   "execution_count": 6,
   "metadata": {},
   "outputs": [
    {
     "data": {
      "text/html": [
       "<div>\n",
       "<style scoped>\n",
       "    .dataframe tbody tr th:only-of-type {\n",
       "        vertical-align: middle;\n",
       "    }\n",
       "\n",
       "    .dataframe tbody tr th {\n",
       "        vertical-align: top;\n",
       "    }\n",
       "\n",
       "    .dataframe thead th {\n",
       "        text-align: right;\n",
       "    }\n",
       "</style>\n",
       "<table border=\"1\" class=\"dataframe\">\n",
       "  <thead>\n",
       "    <tr style=\"text-align: right;\">\n",
       "      <th></th>\n",
       "      <th>date_dayofyear</th>\n",
       "      <th>date_key</th>\n",
       "      <th>date_month</th>\n",
       "      <th>date_qtr</th>\n",
       "      <th>AU_IS_WORK_DAY</th>\n",
       "      <th>US_IS_WORK_DAY</th>\n",
       "      <th>CA_IS_WORK_DAY</th>\n",
       "      <th>UK_IS_WORK_DAY</th>\n",
       "      <th>IS_EURO</th>\n",
       "      <th>AU_FX</th>\n",
       "      <th>...</th>\n",
       "      <th>UK_FX_MA_090</th>\n",
       "      <th>UK_FX_MA_180</th>\n",
       "      <th>UK_FX_MA_365</th>\n",
       "      <th>temperature</th>\n",
       "      <th>AU_BMP_Ratio</th>\n",
       "      <th>CA_BMP_Ratio</th>\n",
       "      <th>UK_BMP_Ratio</th>\n",
       "      <th>CH_BMP_Ratio</th>\n",
       "      <th>JP_BMP_Ratio</th>\n",
       "      <th>time_index</th>\n",
       "    </tr>\n",
       "  </thead>\n",
       "  <tbody>\n",
       "    <tr>\n",
       "      <th>0</th>\n",
       "      <td>3</td>\n",
       "      <td>2000-01-03</td>\n",
       "      <td>1</td>\n",
       "      <td>1</td>\n",
       "      <td>0</td>\n",
       "      <td>1</td>\n",
       "      <td>1</td>\n",
       "      <td>0</td>\n",
       "      <td>1</td>\n",
       "      <td>0.6591</td>\n",
       "      <td>...</td>\n",
       "      <td>1.628023</td>\n",
       "      <td>1.617005</td>\n",
       "      <td>1.617082</td>\n",
       "      <td>-0.943863</td>\n",
       "      <td>0.680107</td>\n",
       "      <td>0.784969</td>\n",
       "      <td>1.231594</td>\n",
       "      <td>3.715825</td>\n",
       "      <td>1.151735</td>\n",
       "      <td>0</td>\n",
       "    </tr>\n",
       "    <tr>\n",
       "      <th>1</th>\n",
       "      <td>4</td>\n",
       "      <td>2000-01-04</td>\n",
       "      <td>1</td>\n",
       "      <td>1</td>\n",
       "      <td>1</td>\n",
       "      <td>1</td>\n",
       "      <td>1</td>\n",
       "      <td>0</td>\n",
       "      <td>1</td>\n",
       "      <td>0.6562</td>\n",
       "      <td>...</td>\n",
       "      <td>1.627812</td>\n",
       "      <td>1.617446</td>\n",
       "      <td>1.617025</td>\n",
       "      <td>-0.940453</td>\n",
       "      <td>0.677115</td>\n",
       "      <td>0.782104</td>\n",
       "      <td>1.239163</td>\n",
       "      <td>3.658705</td>\n",
       "      <td>1.136206</td>\n",
       "      <td>1</td>\n",
       "    </tr>\n",
       "    <tr>\n",
       "      <th>2</th>\n",
       "      <td>5</td>\n",
       "      <td>2000-01-05</td>\n",
       "      <td>1</td>\n",
       "      <td>1</td>\n",
       "      <td>1</td>\n",
       "      <td>1</td>\n",
       "      <td>1</td>\n",
       "      <td>1</td>\n",
       "      <td>1</td>\n",
       "      <td>0.6550</td>\n",
       "      <td>...</td>\n",
       "      <td>1.627695</td>\n",
       "      <td>1.617946</td>\n",
       "      <td>1.616983</td>\n",
       "      <td>-0.940453</td>\n",
       "      <td>0.675876</td>\n",
       "      <td>0.782104</td>\n",
       "      <td>1.242570</td>\n",
       "      <td>3.649538</td>\n",
       "      <td>1.128760</td>\n",
       "      <td>2</td>\n",
       "    </tr>\n",
       "    <tr>\n",
       "      <th>3</th>\n",
       "      <td>6</td>\n",
       "      <td>2000-01-06</td>\n",
       "      <td>1</td>\n",
       "      <td>1</td>\n",
       "      <td>1</td>\n",
       "      <td>1</td>\n",
       "      <td>1</td>\n",
       "      <td>1</td>\n",
       "      <td>1</td>\n",
       "      <td>0.6540</td>\n",
       "      <td>...</td>\n",
       "      <td>1.627645</td>\n",
       "      <td>1.618471</td>\n",
       "      <td>1.616963</td>\n",
       "      <td>-0.936941</td>\n",
       "      <td>0.674845</td>\n",
       "      <td>0.779259</td>\n",
       "      <td>1.247112</td>\n",
       "      <td>3.652829</td>\n",
       "      <td>1.113523</td>\n",
       "      <td>3</td>\n",
       "    </tr>\n",
       "    <tr>\n",
       "      <th>4</th>\n",
       "      <td>7</td>\n",
       "      <td>2000-01-07</td>\n",
       "      <td>1</td>\n",
       "      <td>1</td>\n",
       "      <td>1</td>\n",
       "      <td>1</td>\n",
       "      <td>1</td>\n",
       "      <td>1</td>\n",
       "      <td>1</td>\n",
       "      <td>0.6548</td>\n",
       "      <td>...</td>\n",
       "      <td>1.627491</td>\n",
       "      <td>1.618938</td>\n",
       "      <td>1.616933</td>\n",
       "      <td>-0.936941</td>\n",
       "      <td>0.675670</td>\n",
       "      <td>0.782805</td>\n",
       "      <td>1.240223</td>\n",
       "      <td>3.672339</td>\n",
       "      <td>1.113735</td>\n",
       "      <td>4</td>\n",
       "    </tr>\n",
       "  </tbody>\n",
       "</table>\n",
       "<p>5 rows × 151 columns</p>\n",
       "</div>"
      ],
      "text/plain": [
       "   date_dayofyear   date_key  date_month  date_qtr  AU_IS_WORK_DAY  \\\n",
       "0               3 2000-01-03           1         1               0   \n",
       "1               4 2000-01-04           1         1               1   \n",
       "2               5 2000-01-05           1         1               1   \n",
       "3               6 2000-01-06           1         1               1   \n",
       "4               7 2000-01-07           1         1               1   \n",
       "\n",
       "   US_IS_WORK_DAY  CA_IS_WORK_DAY  UK_IS_WORK_DAY  IS_EURO   AU_FX  \\\n",
       "0               1               1               0        1  0.6591   \n",
       "1               1               1               0        1  0.6562   \n",
       "2               1               1               1        1  0.6550   \n",
       "3               1               1               1        1  0.6540   \n",
       "4               1               1               1        1  0.6548   \n",
       "\n",
       "      ...      UK_FX_MA_090  UK_FX_MA_180  UK_FX_MA_365  temperature  \\\n",
       "0     ...          1.628023      1.617005      1.617082    -0.943863   \n",
       "1     ...          1.627812      1.617446      1.617025    -0.940453   \n",
       "2     ...          1.627695      1.617946      1.616983    -0.940453   \n",
       "3     ...          1.627645      1.618471      1.616963    -0.936941   \n",
       "4     ...          1.627491      1.618938      1.616933    -0.936941   \n",
       "\n",
       "   AU_BMP_Ratio  CA_BMP_Ratio  UK_BMP_Ratio  CH_BMP_Ratio  JP_BMP_Ratio  \\\n",
       "0      0.680107      0.784969      1.231594      3.715825      1.151735   \n",
       "1      0.677115      0.782104      1.239163      3.658705      1.136206   \n",
       "2      0.675876      0.782104      1.242570      3.649538      1.128760   \n",
       "3      0.674845      0.779259      1.247112      3.652829      1.113523   \n",
       "4      0.675670      0.782805      1.240223      3.672339      1.113735   \n",
       "\n",
       "   time_index  \n",
       "0           0  \n",
       "1           1  \n",
       "2           2  \n",
       "3           3  \n",
       "4           4  \n",
       "\n",
       "[5 rows x 151 columns]"
      ]
     },
     "execution_count": 6,
     "metadata": {},
     "output_type": "execute_result"
    }
   ],
   "source": [
    "data.head()"
   ]
  },
  {
   "cell_type": "markdown",
   "metadata": {},
   "source": [
    "#### Extract feature columns"
   ]
  },
  {
   "cell_type": "code",
   "execution_count": 7,
   "metadata": {},
   "outputs": [],
   "source": [
    "feature_data = data.drop(['date_key', 'time_index'], axis = 1)\n",
    "feature_cols = feature_data.columns\n",
    "n_feature_cols = feature_data.shape[1]"
   ]
  },
  {
   "cell_type": "markdown",
   "metadata": {},
   "source": [
    "# Define stacking regressor class"
   ]
  },
  {
   "cell_type": "code",
   "execution_count": 8,
   "metadata": {},
   "outputs": [],
   "source": [
    "# define stacking estimator for use with sklearn API\n",
    "class StackingRegressor(BaseEstimator, RegressorMixin):\n",
    "\n",
    "    models = []\n",
    "    \n",
    "    num_models_ = 0\n",
    "    combiner_ = None\n",
    "\n",
    "    def __init__(self, models):\n",
    "        self.models = models\n",
    "        self.num_models_ = len(models)\n",
    "        self.combiner_ = Lin_Reg()\n",
    "\n",
    "    def internal_models_predict_(self, X):\n",
    "        internal_models_predict = np.zeros((X.shape[0], self.num_models_))\n",
    "        for i in range(self.num_models_):\n",
    "            model = self.models[i] \n",
    "            internal_models_predict[:, i] = model.predict(X)\n",
    "        return(internal_models_predict)\n",
    "\n",
    "    def fit(self, X, y):\n",
    "        internal_models_predict = self.internal_models_predict_(X)\n",
    "        self.combiner_.fit(internal_models_predict, y)        \n",
    "    \n",
    "    def predict(self, X):\n",
    "        internal_models_predict = self.internal_models_predict_(X)\n",
    "        y_predict = self.combiner_.predict(internal_models_predict)\n",
    "        return(y_predict)    "
   ]
  },
  {
   "cell_type": "markdown",
   "metadata": {},
   "source": [
    "## Helper functions"
   ]
  },
  {
   "cell_type": "markdown",
   "metadata": {},
   "source": [
    "#### Calculate the latest start date among a set of features"
   ]
  },
  {
   "cell_type": "code",
   "execution_count": 9,
   "metadata": {},
   "outputs": [],
   "source": [
    "euro_start_date = '2000-01-03'\n",
    "\n",
    "def get_start_row_index(data, col_names):\n",
    "    return(max([data[col].isnull().idxmin() for col in col_names]))"
   ]
  },
  {
   "cell_type": "markdown",
   "metadata": {},
   "source": [
    "#### Reduce dimensionality of X by PCA"
   ]
  },
  {
   "cell_type": "code",
   "execution_count": 10,
   "metadata": {},
   "outputs": [],
   "source": [
    "def pca_X(currency_name, X):\n",
    "    \n",
    "    # fit a PCA for exploration only\n",
    "    n_pcs_total = int(np.round(X.shape[1] - 1))\n",
    "    pca = PCA(n_components = n_pcs_total, svd_solver = 'full', random_state = 0)\n",
    "    pca.fit(X)\n",
    "    ratios = np.cumsum(pca.explained_variance_ratio_)\n",
    "    \n",
    "    # scree plot of variances explained\n",
    "    plt.plot(1.0 - ratios)\n",
    "    plt.title(currency_name + \" - PCA cumulative variance explained\")\n",
    "    plt.xlabel(\"Number of components\")\n",
    "    plt.ylabel(\"% of variance not explained\")\n",
    "    plt.show()\n",
    "    \n",
    "    # computer number of components to use\n",
    "    n_pcs_to_use = np.where(ratios >= 0.999)[0][0] + 1\n",
    "    print('Cumulative variance explained by the first ' + str(n_pcs_to_use) + ' components: ' + \n",
    "          str(np.round(ratios[n_pcs_to_use], 4)))\n",
    "    \n",
    "    # fit a PCA and transform the data\n",
    "    pca = PCA(n_components = n_pcs_to_use, svd_solver = 'arpack', random_state = 0)\n",
    "    pca.fit(X)    \n",
    "    X_pca = pd.DataFrame(pca.transform(X))\n",
    "    \n",
    "    return(X_pca, pca)"
   ]
  },
  {
   "cell_type": "markdown",
   "metadata": {},
   "source": [
    "#### Helper function to manage data reduction by PCA"
   ]
  },
  {
   "cell_type": "code",
   "execution_count": 11,
   "metadata": {},
   "outputs": [],
   "source": [
    "def do_pca_X(currency_name, do_pca, n_past_lags, this_data_reframed):\n",
    "    if do_pca and (n_past_lags > 1):\n",
    "        X = this_data_reframed.iloc[:, :-1]        \n",
    "        X_pca, pca = pca_X(currency_name, X)\n",
    "        this_data_pca = X_pca        \n",
    "        this_data_pca['y'] = this_data_reframed.iloc[:, -1].values \n",
    "\n",
    "        my_display(\"<h4>Shape of train and test data after PCA</h4>\")\n",
    "        print('Reduced data shape: ' + str(this_data_pca.shape))\n",
    "    else:\n",
    "        this_data_pca = this_data_reframed\n",
    "        pca = None\n",
    "        \n",
    "    return(this_data_pca, pca)"
   ]
  },
  {
   "cell_type": "markdown",
   "metadata": {},
   "source": [
    "#### Helper function to reframe data for supervised training"
   ]
  },
  {
   "cell_type": "code",
   "execution_count": 12,
   "metadata": {},
   "outputs": [],
   "source": [
    "def reframe_data(this_data_scaled, n_past_lags, n_future_lags, n_these_cols):\n",
    "    this_data_reframed = series_to_supervised(this_data_scaled, n_past_lags, n_future_lags) # X, y, and extra\n",
    "    this_data_reframed_past = this_data_reframed.iloc[:, :(n_past_lags*n_these_cols)] # X = past = predictor\n",
    "    this_data_reframed_future = this_data_reframed.iloc[:, -n_these_cols] # y = future = response\n",
    "    this_data_reframed = pd.concat([this_data_reframed_past, this_data_reframed_future], axis = 1) # X and y\n",
    "    \n",
    "    print('Reframed data shape: ' + str(this_data_reframed.shape))\n",
    "    return(this_data_reframed)"
   ]
  },
  {
   "cell_type": "markdown",
   "metadata": {},
   "source": [
    "#### Prepare data for one model"
   ]
  },
  {
   "cell_type": "code",
   "execution_count": 13,
   "metadata": {},
   "outputs": [],
   "source": [
    "n_past_lags = 7\n",
    "n_future_lags = 7\n",
    "\n",
    "def prep_model_data(currency_name, col_names, do_pca = False, verbose = 2):\n",
    "    my_display(\"<h3>Prepare model data</h3>\")\n",
    "    \n",
    "    # extract untransformed data\n",
    "    n_these_cols = len(col_names)\n",
    "    start_row_index = get_start_row_index(data, col_names)\n",
    "    this_data = data[col_names].iloc[start_row_index:, :]\n",
    "    n_these_rows = this_data.shape[0]\n",
    "    \n",
    "    # print data's time period\n",
    "    print(\"Time period: \" + str(data.date_key.dt.date[0]) + ' - ' + \n",
    "          str(data.date_key.dt.date[n_these_rows - 1]))\n",
    "    \n",
    "    # list untransformed model features\n",
    "    if not do_pca:\n",
    "        my_display(\"<h4>Features in Model</h4>\")\n",
    "        print(*col_names, sep = ', ')\n",
    "        print()\n",
    "    \n",
    "    # scale data\n",
    "    scaler = MinMaxScaler(feature_range = (0, 1))\n",
    "    this_data_scaled = pd.DataFrame(scaler.fit_transform(this_data))\n",
    "    this_data_scaled.columns = col_names\n",
    "    print('Scaled data shape: ' + str(this_data_scaled.shape))\n",
    "    \n",
    "    # reframe data for supervised training\n",
    "    this_data_reframed = reframe_data(this_data_scaled, n_past_lags, n_future_lags, n_these_cols)\n",
    "\n",
    "    # PCA X (if needed)\n",
    "    this_data_pca, pca = do_pca_X(currency_name, do_pca, n_past_lags, this_data_reframed)\n",
    "    \n",
    "    # display first few rows of supervised data\n",
    "    if (verbose == 2 and not do_pca):\n",
    "        my_display(\"<h4>First few rows of supervised data</h4>\")\n",
    "        my_linespace()\n",
    "        my_display_df(this_data_pca.head())\n",
    "        my_linespace()\n",
    "\n",
    "    # predict y naively as the previous day (and drop initial rows with resulting NaNs)\n",
    "    yhat_naive = this_data_pca.iloc[:, -1].shift(n_future_lags)\n",
    "    this_data_pca = this_data_pca.iloc[n_future_lags:, :]\n",
    "    yhat_naive = yhat_naive.iloc[n_future_lags:, ]\n",
    "        \n",
    "    # split into train and test sets\n",
    "    train, test, yhat_naive_train, yhat_naive_test = \\\n",
    "        train_test_split(this_data_pca, yhat_naive, test_size = 0.33, shuffle = True, random_state = 0)\n",
    "    \n",
    "    # split into input and outputs\n",
    "    train_X, train_y = train.iloc[:, :-1], train.iloc[:, -1]\n",
    "    test_X, test_y = test.iloc[:, :-1], test.iloc[:, -1]\n",
    "    \n",
    "    if verbose == 2:\n",
    "        my_display(\"<h4>Shape of train and test data</h4>\")\n",
    "        print(train_X.shape, train_y.shape, test_X.shape, test_y.shape)\n",
    "    \n",
    "    return(train_X, test_X, train_y, test_y, scaler, pca, yhat_naive_test, n_these_cols)"
   ]
  },
  {
   "cell_type": "markdown",
   "metadata": {},
   "source": [
    "#### Helper function to instantiate and fit one model, and plot the feature importances"
   ]
  },
  {
   "cell_type": "code",
   "execution_count": 14,
   "metadata": {},
   "outputs": [],
   "source": [
    "def define_fit_model(currency_name, train_X, train_y, do_pca = False, verbose = 2):\n",
    "    my_display(\"<h3>Fit model</h3>\")\n",
    "\n",
    "    # fit RF model\n",
    "    rf_model = RFR(n_estimators = 400, max_depth = None, random_state = 0)\n",
    "    rf_model.fit(train_X.values, train_y)\n",
    "    \n",
    "    # fit GAM model   \n",
    "    gam_model = LinearGAM().gridsearch(train_X.values, train_y);\n",
    "    \n",
    "    # fit XGB model\n",
    "    xgb_model = xgb.XGBRegressor(n_estimators = 100, max_depth = 4, learning_rate = 0.07,\n",
    "                             gamma = 0, subsample = 1.0, colsample_bytree = 1.0,\n",
    "                             seed = 0)\n",
    "    xgb_model.fit(train_X.values, train_y)\n",
    "\n",
    "    # fit stacked model\n",
    "    model = StackingRegressor([rf_model, gam_model, xgb_model])\n",
    "    model.fit(train_X.values, train_y)\n",
    "    \n",
    "    return(model)"
   ]
  },
  {
   "cell_type": "markdown",
   "metadata": {},
   "source": [
    "#### Helper function to inverse transform the data"
   ]
  },
  {
   "cell_type": "code",
   "execution_count": 15,
   "metadata": {},
   "outputs": [],
   "source": [
    "def inverse_transform(y, X, scaler, pca, n_cols):\n",
    "    if pca is not None:\n",
    "        X = pca.inverse_transform(X)\n",
    "    else:\n",
    "        X = X.values\n",
    "        \n",
    "    inv_y = np.concatenate((y, X[:, 1:n_cols]), axis = 1)\n",
    "    inv_y = scaler.inverse_transform(inv_y)\n",
    "    inv_y = inv_y[:, 0]\n",
    "    \n",
    "    return(inv_y)"
   ]
  },
  {
   "cell_type": "markdown",
   "metadata": {},
   "source": [
    "#### Helper function to plot histogram of prediction errors"
   ]
  },
  {
   "cell_type": "code",
   "execution_count": 16,
   "metadata": {},
   "outputs": [],
   "source": [
    "def vis_error(currency_name, error):\n",
    "    fig, ax = plt.subplots(figsize = (8.5, 4))\n",
    "    sns.distplot(a = error, kde = False, bins = 40, hist_kws = {'alpha': 0.8}, ax = ax)\n",
    "    ax.set_xlabel('Error')\n",
    "    ax.set_ylabel('Frequency')\n",
    "    ax.set_title(currency_name + ' - Distribution of test RMSE')\n",
    "    plt.show()"
   ]
  },
  {
   "cell_type": "markdown",
   "metadata": {},
   "source": [
    "#### Helper function to plot predicted vs. actual percentage change"
   ]
  },
  {
   "cell_type": "code",
   "execution_count": 17,
   "metadata": {},
   "outputs": [],
   "source": [
    "def vis_percentage_pred(currency_name, y_pred_perc ,y_actual_perc, verbose=2):\n",
    "    df = pd.DataFrame({'Predicted': y_pred_perc,'Actual'  : y_actual_perc})\n",
    "    \n",
    "    is_green = lambda a, b: (((a <= 0) and (b <=0)) or ((a > 0) and (b > 0))) * 1\n",
    "    df['isGreen'] = df.Actual.combine(df.Predicted, func=is_green)\n",
    "    \n",
    "    fig, ax = plt.subplots(figsize = (21, 6))\n",
    "    ax.scatter(df[df.isGreen==1].Predicted ,df[df.isGreen==1].Actual , edgecolors=(0, 0, 0), \n",
    "               alpha=.4, c='g', label='Profit') #cmap\n",
    "    ax.scatter(df[df.isGreen==0].Predicted ,df[df.isGreen==0].Actual , edgecolors=(0, 0, 0), \n",
    "               alpha=.4, c='r', label='Loss')\n",
    "    plt.axhline(y=0.0, color='grey', linestyle='-')\n",
    "    plt.axvline(x=0.0, color='grey', linestyle='-')\n",
    "    ax.set_xlabel('Predicted (% Change)')\n",
    "    ax.set_ylabel('Actual  (% Change)') \n",
    "    ax.set_title(currency_name + ' - Predicted vs. Actual (% Change)')\n",
    "    plt.legend()\n",
    "    \n",
    "    plt.show()"
   ]
  },
  {
   "cell_type": "markdown",
   "metadata": {},
   "source": [
    "#### Score a model using RMSE with test data"
   ]
  },
  {
   "cell_type": "code",
   "execution_count": 18,
   "metadata": {},
   "outputs": [],
   "source": [
    "no_score = None\n",
    "\n",
    "def score_model(currency_name, best_model, test_X, test_y, scaler, pca, inv_yhat_naive, n_cols, verbose = 2):\n",
    "    my_display(\"<h3>Score model on test data</h3>\")\n",
    "    \n",
    "    # make a prediction on test data\n",
    "    yhat = best_model.predict(test_X.values).reshape(-1, 1)\n",
    "\n",
    "    # invert/reverse/undo scaling for forecast\n",
    "    inv_yhat = inverse_transform(yhat, test_X, scaler, pca, n_cols)    \n",
    "    \n",
    "    # invert scaling for actual\n",
    "    test_y = test_y.values.reshape((len(test_y), 1))\n",
    "    inv_y = inverse_transform(test_y, test_X, scaler, pca, n_cols)\n",
    "    \n",
    "    # invert scaling for y-hat naive\n",
    "    inv_yhat_naive = inv_yhat_naive.values.reshape((len(inv_yhat_naive), 1))  \n",
    "    inv_yhat_naive = inverse_transform(inv_yhat_naive, test_X, scaler, pca, n_cols)    \n",
    "    \n",
    "    # naive model\n",
    "    my_display(\"<h4>RMSE from naive model that always predicts the previous week's rate</h4>\")\n",
    "    naive_rmse = np.sqrt(mean_squared_error(inv_y, inv_yhat_naive))\n",
    "    print(\"RMSE: \" + str(np.round(naive_rmse, 5)))\n",
    "    \n",
    "    # calculate RMSE on test data\n",
    "    my_display(\"<h4>RMSE from fitted model</h4>\")\n",
    "    test_rmse = np.sqrt(mean_squared_error(inv_y, inv_yhat))\n",
    "    print(\"RMSE: \" + str(np.round(test_rmse, 5)))\n",
    "\n",
    "    # calculate relative prediction error percentages\n",
    "    y_pred_perc   = 100 * (1 - (inv_yhat/inv_yhat_naive))\n",
    "    y_actual_perc = 100 * (1 - (inv_y   /inv_yhat_naive))\n",
    "    y_perc_error  = (np.abs(y_pred_perc - y_actual_perc)).mean()    \n",
    "    \n",
    "    # visualize relative prediction error percentages\n",
    "    if verbose == 2 and pca is not None:\n",
    "        vis_error(currency_name, inv_yhat)\n",
    "        vis_percentage_pred(currency_name, y_pred_perc,y_actual_perc)    \n",
    "    \n",
    "    return(naive_rmse, test_rmse)"
   ]
  },
  {
   "cell_type": "markdown",
   "metadata": {},
   "source": [
    "#### Top-level function to create, fit, and score one model"
   ]
  },
  {
   "cell_type": "code",
   "execution_count": 19,
   "metadata": {},
   "outputs": [],
   "source": [
    "def do_one_model(currency_name, feature_col_names, do_pca = False, verbose = 2):\n",
    "    train_X, test_X, train_y, test_y, scaler, pca, yhat_naive_test, n_features = \\\n",
    "        prep_model_data(currency_name, feature_col_names, do_pca, verbose)\n",
    "    best_model = define_fit_model(currency_name, train_X, train_y, do_pca, verbose)\n",
    "    naive_rmse, test_rmse = score_model(currency_name, best_model, test_X, test_y, scaler, pca, \n",
    "                                        yhat_naive_test, n_features, verbose = verbose)\n",
    "    \n",
    "    return(naive_rmse, test_rmse)"
   ]
  },
  {
   "cell_type": "markdown",
   "metadata": {},
   "source": [
    "#### Create a dataframe to accumulate modeling results for all currencies"
   ]
  },
  {
   "cell_type": "code",
   "execution_count": 20,
   "metadata": {},
   "outputs": [],
   "source": [
    "all_results = pd.DataFrame()"
   ]
  },
  {
   "cell_type": "markdown",
   "metadata": {},
   "source": [
    "#### Accumulate results from one model"
   ]
  },
  {
   "cell_type": "code",
   "execution_count": 21,
   "metadata": {},
   "outputs": [],
   "source": [
    "def accum_results(all_results, currency, naive_rmse, fx_rmse, fx_features_rmse, fx_all_rmse):\n",
    "    results = pd.DataFrame({'Currency': currency, \n",
    "                              'Naive': naive_rmse, \n",
    "                              'FX Only': fx_rmse, \n",
    "                              'FX + Features': fx_features_rmse,\n",
    "                              'All Features': fx_all_rmse},\n",
    "                            index = range(1))\n",
    "    all_results = all_results.append(results).reset_index(drop = True)\n",
    "    return(all_results)"
   ]
  },
  {
   "cell_type": "markdown",
   "metadata": {},
   "source": [
    "## Australia"
   ]
  },
  {
   "cell_type": "markdown",
   "metadata": {},
   "source": [
    "### FX rates only"
   ]
  },
  {
   "cell_type": "code",
   "execution_count": 22,
   "metadata": {
    "scrolled": false
   },
   "outputs": [
    {
     "data": {
      "text/html": [
       "<h3>Prepare model data</h3>"
      ],
      "text/plain": [
       "<IPython.core.display.HTML object>"
      ]
     },
     "metadata": {},
     "output_type": "display_data"
    },
    {
     "name": "stdout",
     "output_type": "stream",
     "text": [
      "Time period: 2000-01-03 - 2017-12-09\n"
     ]
    },
    {
     "data": {
      "text/html": [
       "<h4>Features in Model</h4>"
      ],
      "text/plain": [
       "<IPython.core.display.HTML object>"
      ]
     },
     "metadata": {},
     "output_type": "display_data"
    },
    {
     "name": "stdout",
     "output_type": "stream",
     "text": [
      "AU_FX\n",
      "\n",
      "Scaled data shape: (6551, 1)\n",
      "Reframed data shape: (6538, 8)\n"
     ]
    },
    {
     "data": {
      "text/html": [
       "<h3>Fit model</h3>"
      ],
      "text/plain": [
       "<IPython.core.display.HTML object>"
      ]
     },
     "metadata": {},
     "output_type": "display_data"
    },
    {
     "name": "stderr",
     "output_type": "stream",
     "text": [
      "N/A% (0 of 11) |                         | Elapsed Time: 0:00:00 ETA:  --:--:--/Users/davidmodjeska/anaconda/lib/python3.6/site-packages/pygam/utils.py:69: UserWarning: Could not import Scikit-Sparse or Suite-Sparse.\n",
      "This will slow down optimization for models with monotonicity/convexity penalties and many splines.\n",
      "See installation instructions for installing Scikit-Sparse and Suite-Sparse via Conda.\n",
      "  warnings.warn(msg)\n",
      "  9% (1 of 11) |##                        | Elapsed Time: 0:00:00 ETA:  0:00:04/Users/davidmodjeska/anaconda/lib/python3.6/site-packages/pygam/utils.py:69: UserWarning: Could not import Scikit-Sparse or Suite-Sparse.\n",
      "This will slow down optimization for models with monotonicity/convexity penalties and many splines.\n",
      "See installation instructions for installing Scikit-Sparse and Suite-Sparse via Conda.\n",
      "  warnings.warn(msg)\n",
      " 18% (2 of 11) |####                      | Elapsed Time: 0:00:00 ETA:  0:00:02/Users/davidmodjeska/anaconda/lib/python3.6/site-packages/pygam/utils.py:69: UserWarning: Could not import Scikit-Sparse or Suite-Sparse.\n",
      "This will slow down optimization for models with monotonicity/convexity penalties and many splines.\n",
      "See installation instructions for installing Scikit-Sparse and Suite-Sparse via Conda.\n",
      "  warnings.warn(msg)\n",
      " 27% (3 of 11) |#######                   | Elapsed Time: 0:00:00 ETA:  0:00:02/Users/davidmodjeska/anaconda/lib/python3.6/site-packages/pygam/utils.py:69: UserWarning: Could not import Scikit-Sparse or Suite-Sparse.\n",
      "This will slow down optimization for models with monotonicity/convexity penalties and many splines.\n",
      "See installation instructions for installing Scikit-Sparse and Suite-Sparse via Conda.\n",
      "  warnings.warn(msg)\n",
      " 36% (4 of 11) |#########                 | Elapsed Time: 0:00:01 ETA:  0:00:01/Users/davidmodjeska/anaconda/lib/python3.6/site-packages/pygam/utils.py:69: UserWarning: Could not import Scikit-Sparse or Suite-Sparse.\n",
      "This will slow down optimization for models with monotonicity/convexity penalties and many splines.\n",
      "See installation instructions for installing Scikit-Sparse and Suite-Sparse via Conda.\n",
      "  warnings.warn(msg)\n",
      " 45% (5 of 11) |###########               | Elapsed Time: 0:00:01 ETA:  0:00:01/Users/davidmodjeska/anaconda/lib/python3.6/site-packages/pygam/utils.py:69: UserWarning: Could not import Scikit-Sparse or Suite-Sparse.\n",
      "This will slow down optimization for models with monotonicity/convexity penalties and many splines.\n",
      "See installation instructions for installing Scikit-Sparse and Suite-Sparse via Conda.\n",
      "  warnings.warn(msg)\n",
      " 54% (6 of 11) |##############            | Elapsed Time: 0:00:01 ETA:  0:00:01/Users/davidmodjeska/anaconda/lib/python3.6/site-packages/pygam/utils.py:69: UserWarning: Could not import Scikit-Sparse or Suite-Sparse.\n",
      "This will slow down optimization for models with monotonicity/convexity penalties and many splines.\n",
      "See installation instructions for installing Scikit-Sparse and Suite-Sparse via Conda.\n",
      "  warnings.warn(msg)\n",
      " 63% (7 of 11) |################          | Elapsed Time: 0:00:01 ETA:  0:00:00/Users/davidmodjeska/anaconda/lib/python3.6/site-packages/pygam/utils.py:69: UserWarning: Could not import Scikit-Sparse or Suite-Sparse.\n",
      "This will slow down optimization for models with monotonicity/convexity penalties and many splines.\n",
      "See installation instructions for installing Scikit-Sparse and Suite-Sparse via Conda.\n",
      "  warnings.warn(msg)\n",
      " 72% (8 of 11) |##################        | Elapsed Time: 0:00:01 ETA:  0:00:00/Users/davidmodjeska/anaconda/lib/python3.6/site-packages/pygam/utils.py:69: UserWarning: Could not import Scikit-Sparse or Suite-Sparse.\n",
      "This will slow down optimization for models with monotonicity/convexity penalties and many splines.\n",
      "See installation instructions for installing Scikit-Sparse and Suite-Sparse via Conda.\n",
      "  warnings.warn(msg)\n",
      " 81% (9 of 11) |#####################     | Elapsed Time: 0:00:02 ETA:  0:00:00/Users/davidmodjeska/anaconda/lib/python3.6/site-packages/pygam/utils.py:69: UserWarning: Could not import Scikit-Sparse or Suite-Sparse.\n",
      "This will slow down optimization for models with monotonicity/convexity penalties and many splines.\n",
      "See installation instructions for installing Scikit-Sparse and Suite-Sparse via Conda.\n",
      "  warnings.warn(msg)\n",
      " 90% (10 of 11) |######################   | Elapsed Time: 0:00:02 ETA:  0:00:00/Users/davidmodjeska/anaconda/lib/python3.6/site-packages/pygam/utils.py:69: UserWarning: Could not import Scikit-Sparse or Suite-Sparse.\n",
      "This will slow down optimization for models with monotonicity/convexity penalties and many splines.\n",
      "See installation instructions for installing Scikit-Sparse and Suite-Sparse via Conda.\n",
      "  warnings.warn(msg)\n",
      "100% (11 of 11) |#########################| Elapsed Time: 0:00:02 Time: 0:00:02\n",
      "/Users/davidmodjeska/anaconda/lib/python3.6/site-packages/xgboost-0.6-py3.6.egg/xgboost/sklearn.py:201: DeprecationWarning: The seed parameter is deprecated as of version .6.Please use random_state instead.seed is deprecated.\n",
      "  'seed is deprecated.', DeprecationWarning)\n"
     ]
    },
    {
     "data": {
      "text/html": [
       "<h3>Score model on test data</h3>"
      ],
      "text/plain": [
       "<IPython.core.display.HTML object>"
      ]
     },
     "metadata": {},
     "output_type": "display_data"
    },
    {
     "data": {
      "text/html": [
       "<h4>RMSE from naive model that always predicts the previous week's rate</h4>"
      ],
      "text/plain": [
       "<IPython.core.display.HTML object>"
      ]
     },
     "metadata": {},
     "output_type": "display_data"
    },
    {
     "name": "stdout",
     "output_type": "stream",
     "text": [
      "RMSE: 0.01386\n"
     ]
    },
    {
     "data": {
      "text/html": [
       "<h4>RMSE from fitted model</h4>"
      ],
      "text/plain": [
       "<IPython.core.display.HTML object>"
      ]
     },
     "metadata": {},
     "output_type": "display_data"
    },
    {
     "name": "stdout",
     "output_type": "stream",
     "text": [
      "RMSE: 0.01451\n"
     ]
    }
   ],
   "source": [
    "naive_rmse, fx_rmse = do_one_model('AUD', feature_col_names = ['AU_FX'], verbose = 0)"
   ]
  },
  {
   "cell_type": "markdown",
   "metadata": {},
   "source": [
    "### FX rates and other features"
   ]
  },
  {
   "cell_type": "code",
   "execution_count": 23,
   "metadata": {
    "scrolled": false
   },
   "outputs": [
    {
     "data": {
      "text/html": [
       "<h3>Prepare model data</h3>"
      ],
      "text/plain": [
       "<IPython.core.display.HTML object>"
      ]
     },
     "metadata": {},
     "output_type": "display_data"
    },
    {
     "name": "stdout",
     "output_type": "stream",
     "text": [
      "Time period: 2000-01-03 - 2017-12-09\n"
     ]
    },
    {
     "data": {
      "text/html": [
       "<h4>Features in Model</h4>"
      ],
      "text/plain": [
       "<IPython.core.display.HTML object>"
      ]
     },
     "metadata": {},
     "output_type": "display_data"
    },
    {
     "name": "stdout",
     "output_type": "stream",
     "text": [
      "AU_FX, AU_POP, GOLD\n",
      "\n",
      "Scaled data shape: (6551, 3)\n",
      "Reframed data shape: (6538, 22)\n"
     ]
    },
    {
     "data": {
      "text/html": [
       "<h4>First few rows of supervised data</h4>"
      ],
      "text/plain": [
       "<IPython.core.display.HTML object>"
      ]
     },
     "metadata": {},
     "output_type": "display_data"
    },
    {
     "data": {
      "text/html": [
       "<p>"
      ],
      "text/plain": [
       "<IPython.core.display.HTML object>"
      ]
     },
     "metadata": {},
     "output_type": "display_data"
    },
    {
     "data": {
      "text/html": [
       "<table border=\"1\" class=\"dataframe\">\n",
       "  <thead>\n",
       "    <tr style=\"text-align: right;\">\n",
       "      <th>AU_FX(t-7)</th>\n",
       "      <th>AU_POP(t-7)</th>\n",
       "      <th>GOLD(t-7)</th>\n",
       "      <th>AU_FX(t-6)</th>\n",
       "      <th>AU_POP(t-6)</th>\n",
       "      <th>GOLD(t-6)</th>\n",
       "      <th>AU_FX(t-5)</th>\n",
       "      <th>AU_POP(t-5)</th>\n",
       "      <th>GOLD(t-5)</th>\n",
       "      <th>AU_FX(t-4)</th>\n",
       "      <th>AU_POP(t-4)</th>\n",
       "      <th>GOLD(t-4)</th>\n",
       "      <th>AU_FX(t-3)</th>\n",
       "      <th>AU_POP(t-3)</th>\n",
       "      <th>GOLD(t-3)</th>\n",
       "      <th>AU_FX(t-2)</th>\n",
       "      <th>AU_POP(t-2)</th>\n",
       "      <th>GOLD(t-2)</th>\n",
       "      <th>AU_FX(t-1)</th>\n",
       "      <th>AU_POP(t-1)</th>\n",
       "      <th>GOLD(t-1)</th>\n",
       "      <th>AU_FX(t+6)</th>\n",
       "    </tr>\n",
       "  </thead>\n",
       "  <tbody>\n",
       "    <tr>\n",
       "      <td>0.284447</td>\n",
       "      <td>0.395753</td>\n",
       "      <td>0.017248</td>\n",
       "      <td>0.279768</td>\n",
       "      <td>0.396050</td>\n",
       "      <td>0.015459</td>\n",
       "      <td>0.277832</td>\n",
       "      <td>0.396347</td>\n",
       "      <td>0.015490</td>\n",
       "      <td>0.276218</td>\n",
       "      <td>0.396644</td>\n",
       "      <td>0.014422</td>\n",
       "      <td>0.277509</td>\n",
       "      <td>0.396941</td>\n",
       "      <td>0.015429</td>\n",
       "      <td>0.278208</td>\n",
       "      <td>0.397238</td>\n",
       "      <td>0.015368</td>\n",
       "      <td>0.278907</td>\n",
       "      <td>0.397535</td>\n",
       "      <td>0.015307</td>\n",
       "      <td>0.295041</td>\n",
       "    </tr>\n",
       "    <tr>\n",
       "      <td>0.279768</td>\n",
       "      <td>0.396050</td>\n",
       "      <td>0.015459</td>\n",
       "      <td>0.277832</td>\n",
       "      <td>0.396347</td>\n",
       "      <td>0.015490</td>\n",
       "      <td>0.276218</td>\n",
       "      <td>0.396644</td>\n",
       "      <td>0.014422</td>\n",
       "      <td>0.277509</td>\n",
       "      <td>0.396941</td>\n",
       "      <td>0.015429</td>\n",
       "      <td>0.278208</td>\n",
       "      <td>0.397238</td>\n",
       "      <td>0.015368</td>\n",
       "      <td>0.278907</td>\n",
       "      <td>0.397535</td>\n",
       "      <td>0.015307</td>\n",
       "      <td>0.279606</td>\n",
       "      <td>0.397832</td>\n",
       "      <td>0.015246</td>\n",
       "      <td>0.294369</td>\n",
       "    </tr>\n",
       "    <tr>\n",
       "      <td>0.277832</td>\n",
       "      <td>0.396347</td>\n",
       "      <td>0.015490</td>\n",
       "      <td>0.276218</td>\n",
       "      <td>0.396644</td>\n",
       "      <td>0.014422</td>\n",
       "      <td>0.277509</td>\n",
       "      <td>0.396941</td>\n",
       "      <td>0.015429</td>\n",
       "      <td>0.278208</td>\n",
       "      <td>0.397238</td>\n",
       "      <td>0.015368</td>\n",
       "      <td>0.278907</td>\n",
       "      <td>0.397535</td>\n",
       "      <td>0.015307</td>\n",
       "      <td>0.279606</td>\n",
       "      <td>0.397832</td>\n",
       "      <td>0.015246</td>\n",
       "      <td>0.281865</td>\n",
       "      <td>0.398129</td>\n",
       "      <td>0.015246</td>\n",
       "      <td>0.292352</td>\n",
       "    </tr>\n",
       "    <tr>\n",
       "      <td>0.276218</td>\n",
       "      <td>0.396644</td>\n",
       "      <td>0.014422</td>\n",
       "      <td>0.277509</td>\n",
       "      <td>0.396941</td>\n",
       "      <td>0.015429</td>\n",
       "      <td>0.278208</td>\n",
       "      <td>0.397238</td>\n",
       "      <td>0.015368</td>\n",
       "      <td>0.278907</td>\n",
       "      <td>0.397535</td>\n",
       "      <td>0.015307</td>\n",
       "      <td>0.279606</td>\n",
       "      <td>0.397832</td>\n",
       "      <td>0.015246</td>\n",
       "      <td>0.281865</td>\n",
       "      <td>0.398129</td>\n",
       "      <td>0.015246</td>\n",
       "      <td>0.282349</td>\n",
       "      <td>0.398425</td>\n",
       "      <td>0.015581</td>\n",
       "      <td>0.291384</td>\n",
       "    </tr>\n",
       "    <tr>\n",
       "      <td>0.277509</td>\n",
       "      <td>0.396941</td>\n",
       "      <td>0.015429</td>\n",
       "      <td>0.278208</td>\n",
       "      <td>0.397238</td>\n",
       "      <td>0.015368</td>\n",
       "      <td>0.278907</td>\n",
       "      <td>0.397535</td>\n",
       "      <td>0.015307</td>\n",
       "      <td>0.279606</td>\n",
       "      <td>0.397832</td>\n",
       "      <td>0.015246</td>\n",
       "      <td>0.281865</td>\n",
       "      <td>0.398129</td>\n",
       "      <td>0.015246</td>\n",
       "      <td>0.282349</td>\n",
       "      <td>0.398425</td>\n",
       "      <td>0.015581</td>\n",
       "      <td>0.299935</td>\n",
       "      <td>0.398722</td>\n",
       "      <td>0.015551</td>\n",
       "      <td>0.296547</td>\n",
       "    </tr>\n",
       "  </tbody>\n",
       "</table>"
      ],
      "text/plain": [
       "<IPython.core.display.HTML object>"
      ]
     },
     "metadata": {},
     "output_type": "display_data"
    },
    {
     "data": {
      "text/html": [
       "<p>"
      ],
      "text/plain": [
       "<IPython.core.display.HTML object>"
      ]
     },
     "metadata": {},
     "output_type": "display_data"
    },
    {
     "data": {
      "text/html": [
       "<h4>Shape of train and test data</h4>"
      ],
      "text/plain": [
       "<IPython.core.display.HTML object>"
      ]
     },
     "metadata": {},
     "output_type": "display_data"
    },
    {
     "name": "stdout",
     "output_type": "stream",
     "text": [
      "(4375, 21) (4375,) (2156, 21) (2156,)\n"
     ]
    },
    {
     "data": {
      "text/html": [
       "<h3>Fit model</h3>"
      ],
      "text/plain": [
       "<IPython.core.display.HTML object>"
      ]
     },
     "metadata": {},
     "output_type": "display_data"
    },
    {
     "name": "stderr",
     "output_type": "stream",
     "text": [
      "N/A% (0 of 11) |                         | Elapsed Time: 0:00:00 ETA:  --:--:--/Users/davidmodjeska/anaconda/lib/python3.6/site-packages/pygam/utils.py:69: UserWarning: Could not import Scikit-Sparse or Suite-Sparse.\n",
      "This will slow down optimization for models with monotonicity/convexity penalties and many splines.\n",
      "See installation instructions for installing Scikit-Sparse and Suite-Sparse via Conda.\n",
      "  warnings.warn(msg)\n",
      "  9% (1 of 11) |##                        | Elapsed Time: 0:00:00 ETA:  0:00:09/Users/davidmodjeska/anaconda/lib/python3.6/site-packages/pygam/utils.py:69: UserWarning: Could not import Scikit-Sparse or Suite-Sparse.\n",
      "This will slow down optimization for models with monotonicity/convexity penalties and many splines.\n",
      "See installation instructions for installing Scikit-Sparse and Suite-Sparse via Conda.\n",
      "  warnings.warn(msg)\n",
      " 18% (2 of 11) |####                      | Elapsed Time: 0:00:01 ETA:  0:00:08/Users/davidmodjeska/anaconda/lib/python3.6/site-packages/pygam/utils.py:69: UserWarning: Could not import Scikit-Sparse or Suite-Sparse.\n",
      "This will slow down optimization for models with monotonicity/convexity penalties and many splines.\n",
      "See installation instructions for installing Scikit-Sparse and Suite-Sparse via Conda.\n",
      "  warnings.warn(msg)\n",
      " 27% (3 of 11) |#######                   | Elapsed Time: 0:00:02 ETA:  0:00:07/Users/davidmodjeska/anaconda/lib/python3.6/site-packages/pygam/utils.py:69: UserWarning: Could not import Scikit-Sparse or Suite-Sparse.\n",
      "This will slow down optimization for models with monotonicity/convexity penalties and many splines.\n",
      "See installation instructions for installing Scikit-Sparse and Suite-Sparse via Conda.\n",
      "  warnings.warn(msg)\n",
      " 36% (4 of 11) |#########                 | Elapsed Time: 0:00:03 ETA:  0:00:06/Users/davidmodjeska/anaconda/lib/python3.6/site-packages/pygam/utils.py:69: UserWarning: Could not import Scikit-Sparse or Suite-Sparse.\n",
      "This will slow down optimization for models with monotonicity/convexity penalties and many splines.\n",
      "See installation instructions for installing Scikit-Sparse and Suite-Sparse via Conda.\n",
      "  warnings.warn(msg)\n",
      " 45% (5 of 11) |###########               | Elapsed Time: 0:00:04 ETA:  0:00:05/Users/davidmodjeska/anaconda/lib/python3.6/site-packages/pygam/utils.py:69: UserWarning: Could not import Scikit-Sparse or Suite-Sparse.\n",
      "This will slow down optimization for models with monotonicity/convexity penalties and many splines.\n",
      "See installation instructions for installing Scikit-Sparse and Suite-Sparse via Conda.\n",
      "  warnings.warn(msg)\n",
      " 54% (6 of 11) |##############            | Elapsed Time: 0:00:05 ETA:  0:00:04/Users/davidmodjeska/anaconda/lib/python3.6/site-packages/pygam/utils.py:69: UserWarning: Could not import Scikit-Sparse or Suite-Sparse.\n",
      "This will slow down optimization for models with monotonicity/convexity penalties and many splines.\n",
      "See installation instructions for installing Scikit-Sparse and Suite-Sparse via Conda.\n",
      "  warnings.warn(msg)\n",
      " 63% (7 of 11) |################          | Elapsed Time: 0:00:06 ETA:  0:00:03/Users/davidmodjeska/anaconda/lib/python3.6/site-packages/pygam/utils.py:69: UserWarning: Could not import Scikit-Sparse or Suite-Sparse.\n",
      "This will slow down optimization for models with monotonicity/convexity penalties and many splines.\n",
      "See installation instructions for installing Scikit-Sparse and Suite-Sparse via Conda.\n",
      "  warnings.warn(msg)\n",
      " 72% (8 of 11) |##################        | Elapsed Time: 0:00:07 ETA:  0:00:02/Users/davidmodjeska/anaconda/lib/python3.6/site-packages/pygam/utils.py:69: UserWarning: Could not import Scikit-Sparse or Suite-Sparse.\n",
      "This will slow down optimization for models with monotonicity/convexity penalties and many splines.\n",
      "See installation instructions for installing Scikit-Sparse and Suite-Sparse via Conda.\n",
      "  warnings.warn(msg)\n",
      " 81% (9 of 11) |#####################     | Elapsed Time: 0:00:08 ETA:  0:00:01/Users/davidmodjeska/anaconda/lib/python3.6/site-packages/pygam/utils.py:69: UserWarning: Could not import Scikit-Sparse or Suite-Sparse.\n",
      "This will slow down optimization for models with monotonicity/convexity penalties and many splines.\n",
      "See installation instructions for installing Scikit-Sparse and Suite-Sparse via Conda.\n",
      "  warnings.warn(msg)\n",
      " 90% (10 of 11) |######################   | Elapsed Time: 0:00:09 ETA:  0:00:00/Users/davidmodjeska/anaconda/lib/python3.6/site-packages/pygam/utils.py:69: UserWarning: Could not import Scikit-Sparse or Suite-Sparse.\n",
      "This will slow down optimization for models with monotonicity/convexity penalties and many splines.\n",
      "See installation instructions for installing Scikit-Sparse and Suite-Sparse via Conda.\n",
      "  warnings.warn(msg)\n",
      "100% (11 of 11) |#########################| Elapsed Time: 0:00:10 Time: 0:00:10\n",
      "/Users/davidmodjeska/anaconda/lib/python3.6/site-packages/xgboost-0.6-py3.6.egg/xgboost/sklearn.py:201: DeprecationWarning: The seed parameter is deprecated as of version .6.Please use random_state instead.seed is deprecated.\n",
      "  'seed is deprecated.', DeprecationWarning)\n"
     ]
    },
    {
     "data": {
      "text/html": [
       "<h3>Score model on test data</h3>"
      ],
      "text/plain": [
       "<IPython.core.display.HTML object>"
      ]
     },
     "metadata": {},
     "output_type": "display_data"
    },
    {
     "data": {
      "text/html": [
       "<h4>RMSE from naive model that always predicts the previous week's rate</h4>"
      ],
      "text/plain": [
       "<IPython.core.display.HTML object>"
      ]
     },
     "metadata": {},
     "output_type": "display_data"
    },
    {
     "name": "stdout",
     "output_type": "stream",
     "text": [
      "RMSE: 0.01386\n"
     ]
    },
    {
     "data": {
      "text/html": [
       "<h4>RMSE from fitted model</h4>"
      ],
      "text/plain": [
       "<IPython.core.display.HTML object>"
      ]
     },
     "metadata": {},
     "output_type": "display_data"
    },
    {
     "name": "stdout",
     "output_type": "stream",
     "text": [
      "RMSE: 0.00968\n"
     ]
    }
   ],
   "source": [
    "naive_rmse, fx_features_rmse = do_one_model('AUD', feature_col_names = ['AU_FX', 'AU_POP', 'GOLD'])"
   ]
  },
  {
   "cell_type": "markdown",
   "metadata": {},
   "source": [
    "### All features"
   ]
  },
  {
   "cell_type": "code",
   "execution_count": 24,
   "metadata": {
    "scrolled": false
   },
   "outputs": [
    {
     "data": {
      "text/html": [
       "<h3>Prepare model data</h3>"
      ],
      "text/plain": [
       "<IPython.core.display.HTML object>"
      ]
     },
     "metadata": {},
     "output_type": "display_data"
    },
    {
     "name": "stdout",
     "output_type": "stream",
     "text": [
      "Time period: 2000-01-03 - 2012-12-05\n",
      "Scaled data shape: (4721, 141)\n",
      "Reframed data shape: (4708, 988)\n"
     ]
    },
    {
     "data": {
      "image/png": "[encoded data removed]",
      "text/plain": [
       "<matplotlib.figure.Figure at 0x1a16a5eda0>"
      ]
     },
     "metadata": {},
     "output_type": "display_data"
    },
    {
     "name": "stdout",
     "output_type": "stream",
     "text": [
      "Cumulative variance explained by the first 94 components: 0.9991\n"
     ]
    },
    {
     "data": {
      "text/html": [
       "<h4>Shape of train and test data after PCA</h4>"
      ],
      "text/plain": [
       "<IPython.core.display.HTML object>"
      ]
     },
     "metadata": {},
     "output_type": "display_data"
    },
    {
     "name": "stdout",
     "output_type": "stream",
     "text": [
      "Reduced data shape: (4708, 95)\n"
     ]
    },
    {
     "data": {
      "text/html": [
       "<h4>Shape of train and test data</h4>"
      ],
      "text/plain": [
       "<IPython.core.display.HTML object>"
      ]
     },
     "metadata": {},
     "output_type": "display_data"
    },
    {
     "name": "stdout",
     "output_type": "stream",
     "text": [
      "(3149, 94) (3149,) (1552, 94) (1552,)\n"
     ]
    },
    {
     "data": {
      "text/html": [
       "<h3>Fit model</h3>"
      ],
      "text/plain": [
       "<IPython.core.display.HTML object>"
      ]
     },
     "metadata": {},
     "output_type": "display_data"
    },
    {
     "name": "stderr",
     "output_type": "stream",
     "text": [
      "N/A% (0 of 11) |                         | Elapsed Time: 0:00:00 ETA:  --:--:--/Users/davidmodjeska/anaconda/lib/python3.6/site-packages/pygam/utils.py:69: UserWarning: Could not import Scikit-Sparse or Suite-Sparse.\n",
      "This will slow down optimization for models with monotonicity/convexity penalties and many splines.\n",
      "See installation instructions for installing Scikit-Sparse and Suite-Sparse via Conda.\n",
      "  warnings.warn(msg)\n",
      "/Users/davidmodjeska/anaconda/lib/python3.6/site-packages/pygam/pygam.py:597: RuntimeWarning: divide by zero encountered in log\n",
      "  return np.log(self.distribution.pdf(y=y, mu=mu, weights=weights)).sum()\n",
      "  9% (1 of 11) |##                        | Elapsed Time: 0:00:17 ETA:  0:02:54/Users/davidmodjeska/anaconda/lib/python3.6/site-packages/pygam/utils.py:69: UserWarning: Could not import Scikit-Sparse or Suite-Sparse.\n",
      "This will slow down optimization for models with monotonicity/convexity penalties and many splines.\n",
      "See installation instructions for installing Scikit-Sparse and Suite-Sparse via Conda.\n",
      "  warnings.warn(msg)\n",
      "/Users/davidmodjeska/anaconda/lib/python3.6/site-packages/pygam/pygam.py:597: RuntimeWarning: divide by zero encountered in log\n",
      "  return np.log(self.distribution.pdf(y=y, mu=mu, weights=weights)).sum()\n",
      " 18% (2 of 11) |####                      | Elapsed Time: 0:00:36 ETA:  0:02:42/Users/davidmodjeska/anaconda/lib/python3.6/site-packages/pygam/utils.py:69: UserWarning: Could not import Scikit-Sparse or Suite-Sparse.\n",
      "This will slow down optimization for models with monotonicity/convexity penalties and many splines.\n",
      "See installation instructions for installing Scikit-Sparse and Suite-Sparse via Conda.\n",
      "  warnings.warn(msg)\n",
      "/Users/davidmodjeska/anaconda/lib/python3.6/site-packages/pygam/pygam.py:597: RuntimeWarning: divide by zero encountered in log\n",
      "  return np.log(self.distribution.pdf(y=y, mu=mu, weights=weights)).sum()\n",
      " 27% (3 of 11) |#######                   | Elapsed Time: 0:00:54 ETA:  0:02:26/Users/davidmodjeska/anaconda/lib/python3.6/site-packages/pygam/utils.py:69: UserWarning: Could not import Scikit-Sparse or Suite-Sparse.\n",
      "This will slow down optimization for models with monotonicity/convexity penalties and many splines.\n",
      "See installation instructions for installing Scikit-Sparse and Suite-Sparse via Conda.\n",
      "  warnings.warn(msg)\n",
      "/Users/davidmodjeska/anaconda/lib/python3.6/site-packages/pygam/pygam.py:597: RuntimeWarning: divide by zero encountered in log\n",
      "  return np.log(self.distribution.pdf(y=y, mu=mu, weights=weights)).sum()\n",
      " 36% (4 of 11) |#########                 | Elapsed Time: 0:01:13 ETA:  0:02:09/Users/davidmodjeska/anaconda/lib/python3.6/site-packages/pygam/utils.py:69: UserWarning: Could not import Scikit-Sparse or Suite-Sparse.\n",
      "This will slow down optimization for models with monotonicity/convexity penalties and many splines.\n",
      "See installation instructions for installing Scikit-Sparse and Suite-Sparse via Conda.\n",
      "  warnings.warn(msg)\n",
      "/Users/davidmodjeska/anaconda/lib/python3.6/site-packages/pygam/pygam.py:597: RuntimeWarning: divide by zero encountered in log\n",
      "  return np.log(self.distribution.pdf(y=y, mu=mu, weights=weights)).sum()\n",
      " 45% (5 of 11) |###########               | Elapsed Time: 0:01:32 ETA:  0:01:50/Users/davidmodjeska/anaconda/lib/python3.6/site-packages/pygam/utils.py:69: UserWarning: Could not import Scikit-Sparse or Suite-Sparse.\n",
      "This will slow down optimization for models with monotonicity/convexity penalties and many splines.\n",
      "See installation instructions for installing Scikit-Sparse and Suite-Sparse via Conda.\n",
      "  warnings.warn(msg)\n",
      "/Users/davidmodjeska/anaconda/lib/python3.6/site-packages/pygam/pygam.py:597: RuntimeWarning: divide by zero encountered in log\n",
      "  return np.log(self.distribution.pdf(y=y, mu=mu, weights=weights)).sum()\n",
      " 54% (6 of 11) |##############            | Elapsed Time: 0:01:53 ETA:  0:01:34/Users/davidmodjeska/anaconda/lib/python3.6/site-packages/pygam/utils.py:69: UserWarning: Could not import Scikit-Sparse or Suite-Sparse.\n",
      "This will slow down optimization for models with monotonicity/convexity penalties and many splines.\n",
      "See installation instructions for installing Scikit-Sparse and Suite-Sparse via Conda.\n",
      "  warnings.warn(msg)\n",
      " 63% (7 of 11) |################          | Elapsed Time: 0:02:12 ETA:  0:01:15/Users/davidmodjeska/anaconda/lib/python3.6/site-packages/pygam/utils.py:69: UserWarning: Could not import Scikit-Sparse or Suite-Sparse.\n",
      "This will slow down optimization for models with monotonicity/convexity penalties and many splines.\n",
      "See installation instructions for installing Scikit-Sparse and Suite-Sparse via Conda.\n",
      "  warnings.warn(msg)\n",
      " 72% (8 of 11) |##################        | Elapsed Time: 0:02:31 ETA:  0:00:56/Users/davidmodjeska/anaconda/lib/python3.6/site-packages/pygam/utils.py:69: UserWarning: Could not import Scikit-Sparse or Suite-Sparse.\n",
      "This will slow down optimization for models with monotonicity/convexity penalties and many splines.\n",
      "See installation instructions for installing Scikit-Sparse and Suite-Sparse via Conda.\n",
      "  warnings.warn(msg)\n",
      " 81% (9 of 11) |#####################     | Elapsed Time: 0:02:50 ETA:  0:00:37/Users/davidmodjeska/anaconda/lib/python3.6/site-packages/pygam/utils.py:69: UserWarning: Could not import Scikit-Sparse or Suite-Sparse.\n",
      "This will slow down optimization for models with monotonicity/convexity penalties and many splines.\n",
      "See installation instructions for installing Scikit-Sparse and Suite-Sparse via Conda.\n",
      "  warnings.warn(msg)\n",
      " 90% (10 of 11) |######################   | Elapsed Time: 0:03:08 ETA:  0:00:18/Users/davidmodjeska/anaconda/lib/python3.6/site-packages/pygam/utils.py:69: UserWarning: Could not import Scikit-Sparse or Suite-Sparse.\n",
      "This will slow down optimization for models with monotonicity/convexity penalties and many splines.\n",
      "See installation instructions for installing Scikit-Sparse and Suite-Sparse via Conda.\n",
      "  warnings.warn(msg)\n",
      "100% (11 of 11) |#########################| Elapsed Time: 0:03:28 Time: 0:03:28\n",
      "/Users/davidmodjeska/anaconda/lib/python3.6/site-packages/xgboost-0.6-py3.6.egg/xgboost/sklearn.py:201: DeprecationWarning: The seed parameter is deprecated as of version .6.Please use random_state instead.seed is deprecated.\n",
      "  'seed is deprecated.', DeprecationWarning)\n"
     ]
    },
    {
     "data": {
      "text/html": [
       "<h3>Score model on test data</h3>"
      ],
      "text/plain": [
       "<IPython.core.display.HTML object>"
      ]
     },
     "metadata": {},
     "output_type": "display_data"
    },
    {
     "data": {
      "text/html": [
       "<h4>RMSE from naive model that always predicts the previous week's rate</h4>"
      ],
      "text/plain": [
       "<IPython.core.display.HTML object>"
      ]
     },
     "metadata": {},
     "output_type": "display_data"
    },
    {
     "name": "stdout",
     "output_type": "stream",
     "text": [
      "RMSE: 0.01553\n"
     ]
    },
    {
     "data": {
      "text/html": [
       "<h4>RMSE from fitted model</h4>"
      ],
      "text/plain": [
       "<IPython.core.display.HTML object>"
      ]
     },
     "metadata": {},
     "output_type": "display_data"
    },
    {
     "name": "stdout",
     "output_type": "stream",
     "text": [
      "RMSE: 0.00769\n"
     ]
    },
    {
     "data": {
      "image/png": "[encoded data removed]",
      "text/plain": [
       "<matplotlib.figure.Figure at 0x1a17edbc88>"
      ]
     },
     "metadata": {},
     "output_type": "display_data"
    },
    {
     "data": {
      "image/png": "[encoded data removed]",
      "text/plain": [
       "<matplotlib.figure.Figure at 0x1a16aff7f0>"
      ]
     },
     "metadata": {},
     "output_type": "display_data"
    }
   ],
   "source": [
    "cols = [feature_cols[i] for i in range(n_feature_cols) \n",
    "        if re.search('AU_FX', feature_cols[i]) == None]\n",
    "naive_rmse, fx_all_rmse = do_one_model('AUD', feature_col_names = ['AU_FX'] + cols, do_pca = True)"
   ]
  },
  {
   "cell_type": "code",
   "execution_count": 25,
   "metadata": {},
   "outputs": [],
   "source": [
    "all_results = accum_results(all_results, 'AUD', naive_rmse, fx_rmse, fx_features_rmse, fx_all_rmse)"
   ]
  },
  {
   "cell_type": "markdown",
   "metadata": {},
   "source": [
    "## Canada"
   ]
  },
  {
   "cell_type": "markdown",
   "metadata": {},
   "source": [
    "### FX rates only"
   ]
  },
  {
   "cell_type": "code",
   "execution_count": 26,
   "metadata": {
    "scrolled": false
   },
   "outputs": [
    {
     "data": {
      "text/html": [
       "<h3>Prepare model data</h3>"
      ],
      "text/plain": [
       "<IPython.core.display.HTML object>"
      ]
     },
     "metadata": {},
     "output_type": "display_data"
    },
    {
     "name": "stdout",
     "output_type": "stream",
     "text": [
      "Time period: 2000-01-03 - 2017-12-09\n"
     ]
    },
    {
     "data": {
      "text/html": [
       "<h4>Features in Model</h4>"
      ],
      "text/plain": [
       "<IPython.core.display.HTML object>"
      ]
     },
     "metadata": {},
     "output_type": "display_data"
    },
    {
     "name": "stdout",
     "output_type": "stream",
     "text": [
      "CA_FX\n",
      "\n",
      "Scaled data shape: (6551, 1)\n",
      "Reframed data shape: (6538, 8)\n"
     ]
    },
    {
     "data": {
      "text/html": [
       "<h3>Fit model</h3>"
      ],
      "text/plain": [
       "<IPython.core.display.HTML object>"
      ]
     },
     "metadata": {},
     "output_type": "display_data"
    },
    {
     "name": "stderr",
     "output_type": "stream",
     "text": [
      "N/A% (0 of 11) |                         | Elapsed Time: 0:00:00 ETA:  --:--:--/Users/davidmodjeska/anaconda/lib/python3.6/site-packages/pygam/utils.py:69: UserWarning: Could not import Scikit-Sparse or Suite-Sparse.\n",
      "This will slow down optimization for models with monotonicity/convexity penalties and many splines.\n",
      "See installation instructions for installing Scikit-Sparse and Suite-Sparse via Conda.\n",
      "  warnings.warn(msg)\n",
      "  9% (1 of 11) |##                        | Elapsed Time: 0:00:00 ETA:  0:00:02/Users/davidmodjeska/anaconda/lib/python3.6/site-packages/pygam/utils.py:69: UserWarning: Could not import Scikit-Sparse or Suite-Sparse.\n",
      "This will slow down optimization for models with monotonicity/convexity penalties and many splines.\n",
      "See installation instructions for installing Scikit-Sparse and Suite-Sparse via Conda.\n",
      "  warnings.warn(msg)\n",
      " 18% (2 of 11) |####                      | Elapsed Time: 0:00:00 ETA:  0:00:01/Users/davidmodjeska/anaconda/lib/python3.6/site-packages/pygam/utils.py:69: UserWarning: Could not import Scikit-Sparse or Suite-Sparse.\n",
      "This will slow down optimization for models with monotonicity/convexity penalties and many splines.\n",
      "See installation instructions for installing Scikit-Sparse and Suite-Sparse via Conda.\n",
      "  warnings.warn(msg)\n",
      " 27% (3 of 11) |#######                   | Elapsed Time: 0:00:00 ETA:  0:00:01/Users/davidmodjeska/anaconda/lib/python3.6/site-packages/pygam/utils.py:69: UserWarning: Could not import Scikit-Sparse or Suite-Sparse.\n",
      "This will slow down optimization for models with monotonicity/convexity penalties and many splines.\n",
      "See installation instructions for installing Scikit-Sparse and Suite-Sparse via Conda.\n",
      "  warnings.warn(msg)\n",
      " 36% (4 of 11) |#########                 | Elapsed Time: 0:00:00 ETA:  0:00:01/Users/davidmodjeska/anaconda/lib/python3.6/site-packages/pygam/utils.py:69: UserWarning: Could not import Scikit-Sparse or Suite-Sparse.\n",
      "This will slow down optimization for models with monotonicity/convexity penalties and many splines.\n",
      "See installation instructions for installing Scikit-Sparse and Suite-Sparse via Conda.\n",
      "  warnings.warn(msg)\n",
      " 45% (5 of 11) |###########               | Elapsed Time: 0:00:01 ETA:  0:00:01/Users/davidmodjeska/anaconda/lib/python3.6/site-packages/pygam/utils.py:69: UserWarning: Could not import Scikit-Sparse or Suite-Sparse.\n",
      "This will slow down optimization for models with monotonicity/convexity penalties and many splines.\n",
      "See installation instructions for installing Scikit-Sparse and Suite-Sparse via Conda.\n",
      "  warnings.warn(msg)\n",
      " 54% (6 of 11) |##############            | Elapsed Time: 0:00:01 ETA:  0:00:01/Users/davidmodjeska/anaconda/lib/python3.6/site-packages/pygam/utils.py:69: UserWarning: Could not import Scikit-Sparse or Suite-Sparse.\n",
      "This will slow down optimization for models with monotonicity/convexity penalties and many splines.\n",
      "See installation instructions for installing Scikit-Sparse and Suite-Sparse via Conda.\n",
      "  warnings.warn(msg)\n",
      " 63% (7 of 11) |################          | Elapsed Time: 0:00:01 ETA:  0:00:00/Users/davidmodjeska/anaconda/lib/python3.6/site-packages/pygam/utils.py:69: UserWarning: Could not import Scikit-Sparse or Suite-Sparse.\n",
      "This will slow down optimization for models with monotonicity/convexity penalties and many splines.\n",
      "See installation instructions for installing Scikit-Sparse and Suite-Sparse via Conda.\n",
      "  warnings.warn(msg)\n",
      " 72% (8 of 11) |##################        | Elapsed Time: 0:00:01 ETA:  0:00:00/Users/davidmodjeska/anaconda/lib/python3.6/site-packages/pygam/utils.py:69: UserWarning: Could not import Scikit-Sparse or Suite-Sparse.\n",
      "This will slow down optimization for models with monotonicity/convexity penalties and many splines.\n",
      "See installation instructions for installing Scikit-Sparse and Suite-Sparse via Conda.\n",
      "  warnings.warn(msg)\n",
      " 81% (9 of 11) |#####################     | Elapsed Time: 0:00:01 ETA:  0:00:00/Users/davidmodjeska/anaconda/lib/python3.6/site-packages/pygam/utils.py:69: UserWarning: Could not import Scikit-Sparse or Suite-Sparse.\n",
      "This will slow down optimization for models with monotonicity/convexity penalties and many splines.\n",
      "See installation instructions for installing Scikit-Sparse and Suite-Sparse via Conda.\n",
      "  warnings.warn(msg)\n",
      " 90% (10 of 11) |######################   | Elapsed Time: 0:00:02 ETA:  0:00:00/Users/davidmodjeska/anaconda/lib/python3.6/site-packages/pygam/utils.py:69: UserWarning: Could not import Scikit-Sparse or Suite-Sparse.\n",
      "This will slow down optimization for models with monotonicity/convexity penalties and many splines.\n",
      "See installation instructions for installing Scikit-Sparse and Suite-Sparse via Conda.\n",
      "  warnings.warn(msg)\n",
      "100% (11 of 11) |#########################| Elapsed Time: 0:00:02 Time: 0:00:02\n",
      "/Users/davidmodjeska/anaconda/lib/python3.6/site-packages/xgboost-0.6-py3.6.egg/xgboost/sklearn.py:201: DeprecationWarning: The seed parameter is deprecated as of version .6.Please use random_state instead.seed is deprecated.\n",
      "  'seed is deprecated.', DeprecationWarning)\n"
     ]
    },
    {
     "data": {
      "text/html": [
       "<h3>Score model on test data</h3>"
      ],
      "text/plain": [
       "<IPython.core.display.HTML object>"
      ]
     },
     "metadata": {},
     "output_type": "display_data"
    },
    {
     "data": {
      "text/html": [
       "<h4>RMSE from naive model that always predicts the previous week's rate</h4>"
      ],
      "text/plain": [
       "<IPython.core.display.HTML object>"
      ]
     },
     "metadata": {},
     "output_type": "display_data"
    },
    {
     "name": "stdout",
     "output_type": "stream",
     "text": [
      "RMSE: 0.01081\n"
     ]
    },
    {
     "data": {
      "text/html": [
       "<h4>RMSE from fitted model</h4>"
      ],
      "text/plain": [
       "<IPython.core.display.HTML object>"
      ]
     },
     "metadata": {},
     "output_type": "display_data"
    },
    {
     "name": "stdout",
     "output_type": "stream",
     "text": [
      "RMSE: 0.01105\n"
     ]
    }
   ],
   "source": [
    "naive_rmse, fx_rmse = do_one_model('CAD', feature_col_names = ['CA_FX'], verbose = 0)"
   ]
  },
  {
   "cell_type": "markdown",
   "metadata": {},
   "source": [
    "### FX rates and other features"
   ]
  },
  {
   "cell_type": "code",
   "execution_count": 27,
   "metadata": {
    "scrolled": false
   },
   "outputs": [
    {
     "data": {
      "text/html": [
       "<h3>Prepare model data</h3>"
      ],
      "text/plain": [
       "<IPython.core.display.HTML object>"
      ]
     },
     "metadata": {},
     "output_type": "display_data"
    },
    {
     "name": "stdout",
     "output_type": "stream",
     "text": [
      "Time period: 2000-01-03 - 2017-12-09\n"
     ]
    },
    {
     "data": {
      "text/html": [
       "<h4>Features in Model</h4>"
      ],
      "text/plain": [
       "<IPython.core.display.HTML object>"
      ]
     },
     "metadata": {},
     "output_type": "display_data"
    },
    {
     "name": "stdout",
     "output_type": "stream",
     "text": [
      "CA_FX, CA_GDP\n",
      "\n",
      "Scaled data shape: (6551, 2)\n",
      "Reframed data shape: (6538, 15)\n"
     ]
    },
    {
     "data": {
      "text/html": [
       "<h4>First few rows of supervised data</h4>"
      ],
      "text/plain": [
       "<IPython.core.display.HTML object>"
      ]
     },
     "metadata": {},
     "output_type": "display_data"
    },
    {
     "data": {
      "text/html": [
       "<p>"
      ],
      "text/plain": [
       "<IPython.core.display.HTML object>"
      ]
     },
     "metadata": {},
     "output_type": "display_data"
    },
    {
     "data": {
      "text/html": [
       "<table border=\"1\" class=\"dataframe\">\n",
       "  <thead>\n",
       "    <tr style=\"text-align: right;\">\n",
       "      <th>CA_FX(t-7)</th>\n",
       "      <th>CA_GDP(t-7)</th>\n",
       "      <th>CA_FX(t-6)</th>\n",
       "      <th>CA_GDP(t-6)</th>\n",
       "      <th>CA_FX(t-5)</th>\n",
       "      <th>CA_GDP(t-5)</th>\n",
       "      <th>CA_FX(t-4)</th>\n",
       "      <th>CA_GDP(t-4)</th>\n",
       "      <th>CA_FX(t-3)</th>\n",
       "      <th>CA_GDP(t-3)</th>\n",
       "      <th>CA_FX(t-2)</th>\n",
       "      <th>CA_GDP(t-2)</th>\n",
       "      <th>CA_FX(t-1)</th>\n",
       "      <th>CA_GDP(t-1)</th>\n",
       "      <th>CA_FX(t+6)</th>\n",
       "    </tr>\n",
       "  </thead>\n",
       "  <tbody>\n",
       "    <tr>\n",
       "      <td>0.151440</td>\n",
       "      <td>1.000000</td>\n",
       "      <td>0.146078</td>\n",
       "      <td>0.998836</td>\n",
       "      <td>0.146078</td>\n",
       "      <td>0.997672</td>\n",
       "      <td>0.140755</td>\n",
       "      <td>0.996508</td>\n",
       "      <td>0.147389</td>\n",
       "      <td>0.995344</td>\n",
       "      <td>0.145272</td>\n",
       "      <td>0.994180</td>\n",
       "      <td>0.143161</td>\n",
       "      <td>0.993017</td>\n",
       "      <td>0.148029</td>\n",
       "    </tr>\n",
       "    <tr>\n",
       "      <td>0.146078</td>\n",
       "      <td>0.998836</td>\n",
       "      <td>0.146078</td>\n",
       "      <td>0.997672</td>\n",
       "      <td>0.140755</td>\n",
       "      <td>0.996508</td>\n",
       "      <td>0.147389</td>\n",
       "      <td>0.995344</td>\n",
       "      <td>0.145272</td>\n",
       "      <td>0.994180</td>\n",
       "      <td>0.143161</td>\n",
       "      <td>0.993017</td>\n",
       "      <td>0.141056</td>\n",
       "      <td>0.991853</td>\n",
       "      <td>0.147945</td>\n",
       "    </tr>\n",
       "    <tr>\n",
       "      <td>0.146078</td>\n",
       "      <td>0.997672</td>\n",
       "      <td>0.140755</td>\n",
       "      <td>0.996508</td>\n",
       "      <td>0.147389</td>\n",
       "      <td>0.995344</td>\n",
       "      <td>0.145272</td>\n",
       "      <td>0.994180</td>\n",
       "      <td>0.143161</td>\n",
       "      <td>0.993017</td>\n",
       "      <td>0.141056</td>\n",
       "      <td>0.991853</td>\n",
       "      <td>0.140855</td>\n",
       "      <td>0.990689</td>\n",
       "      <td>0.147692</td>\n",
       "    </tr>\n",
       "    <tr>\n",
       "      <td>0.140755</td>\n",
       "      <td>0.996508</td>\n",
       "      <td>0.147389</td>\n",
       "      <td>0.995344</td>\n",
       "      <td>0.145272</td>\n",
       "      <td>0.994180</td>\n",
       "      <td>0.143161</td>\n",
       "      <td>0.993017</td>\n",
       "      <td>0.141056</td>\n",
       "      <td>0.991853</td>\n",
       "      <td>0.140855</td>\n",
       "      <td>0.990689</td>\n",
       "      <td>0.142860</td>\n",
       "      <td>0.989525</td>\n",
       "      <td>0.145171</td>\n",
       "    </tr>\n",
       "    <tr>\n",
       "      <td>0.147389</td>\n",
       "      <td>0.995344</td>\n",
       "      <td>0.145272</td>\n",
       "      <td>0.994180</td>\n",
       "      <td>0.143161</td>\n",
       "      <td>0.993017</td>\n",
       "      <td>0.141056</td>\n",
       "      <td>0.991853</td>\n",
       "      <td>0.140855</td>\n",
       "      <td>0.990689</td>\n",
       "      <td>0.142860</td>\n",
       "      <td>0.989525</td>\n",
       "      <td>0.148400</td>\n",
       "      <td>0.988361</td>\n",
       "      <td>0.149513</td>\n",
       "    </tr>\n",
       "  </tbody>\n",
       "</table>"
      ],
      "text/plain": [
       "<IPython.core.display.HTML object>"
      ]
     },
     "metadata": {},
     "output_type": "display_data"
    },
    {
     "data": {
      "text/html": [
       "<p>"
      ],
      "text/plain": [
       "<IPython.core.display.HTML object>"
      ]
     },
     "metadata": {},
     "output_type": "display_data"
    },
    {
     "data": {
      "text/html": [
       "<h4>Shape of train and test data</h4>"
      ],
      "text/plain": [
       "<IPython.core.display.HTML object>"
      ]
     },
     "metadata": {},
     "output_type": "display_data"
    },
    {
     "name": "stdout",
     "output_type": "stream",
     "text": [
      "(4375, 14) (4375,) (2156, 14) (2156,)\n"
     ]
    },
    {
     "data": {
      "text/html": [
       "<h3>Fit model</h3>"
      ],
      "text/plain": [
       "<IPython.core.display.HTML object>"
      ]
     },
     "metadata": {},
     "output_type": "display_data"
    },
    {
     "name": "stderr",
     "output_type": "stream",
     "text": [
      "N/A% (0 of 11) |                         | Elapsed Time: 0:00:00 ETA:  --:--:--/Users/davidmodjeska/anaconda/lib/python3.6/site-packages/pygam/utils.py:69: UserWarning: Could not import Scikit-Sparse or Suite-Sparse.\n",
      "This will slow down optimization for models with monotonicity/convexity penalties and many splines.\n",
      "See installation instructions for installing Scikit-Sparse and Suite-Sparse via Conda.\n",
      "  warnings.warn(msg)\n",
      "  9% (1 of 11) |##                        | Elapsed Time: 0:00:00 ETA:  0:00:05/Users/davidmodjeska/anaconda/lib/python3.6/site-packages/pygam/utils.py:69: UserWarning: Could not import Scikit-Sparse or Suite-Sparse.\n",
      "This will slow down optimization for models with monotonicity/convexity penalties and many splines.\n",
      "See installation instructions for installing Scikit-Sparse and Suite-Sparse via Conda.\n",
      "  warnings.warn(msg)\n",
      " 18% (2 of 11) |####                      | Elapsed Time: 0:00:01 ETA:  0:00:04/Users/davidmodjeska/anaconda/lib/python3.6/site-packages/pygam/utils.py:69: UserWarning: Could not import Scikit-Sparse or Suite-Sparse.\n",
      "This will slow down optimization for models with monotonicity/convexity penalties and many splines.\n",
      "See installation instructions for installing Scikit-Sparse and Suite-Sparse via Conda.\n",
      "  warnings.warn(msg)\n",
      " 27% (3 of 11) |#######                   | Elapsed Time: 0:00:01 ETA:  0:00:04/Users/davidmodjeska/anaconda/lib/python3.6/site-packages/pygam/utils.py:69: UserWarning: Could not import Scikit-Sparse or Suite-Sparse.\n",
      "This will slow down optimization for models with monotonicity/convexity penalties and many splines.\n",
      "See installation instructions for installing Scikit-Sparse and Suite-Sparse via Conda.\n",
      "  warnings.warn(msg)\n",
      " 36% (4 of 11) |#########                 | Elapsed Time: 0:00:02 ETA:  0:00:03/Users/davidmodjeska/anaconda/lib/python3.6/site-packages/pygam/utils.py:69: UserWarning: Could not import Scikit-Sparse or Suite-Sparse.\n",
      "This will slow down optimization for models with monotonicity/convexity penalties and many splines.\n",
      "See installation instructions for installing Scikit-Sparse and Suite-Sparse via Conda.\n",
      "  warnings.warn(msg)\n",
      " 45% (5 of 11) |###########               | Elapsed Time: 0:00:02 ETA:  0:00:03/Users/davidmodjeska/anaconda/lib/python3.6/site-packages/pygam/utils.py:69: UserWarning: Could not import Scikit-Sparse or Suite-Sparse.\n",
      "This will slow down optimization for models with monotonicity/convexity penalties and many splines.\n",
      "See installation instructions for installing Scikit-Sparse and Suite-Sparse via Conda.\n",
      "  warnings.warn(msg)\n",
      " 54% (6 of 11) |##############            | Elapsed Time: 0:00:03 ETA:  0:00:02/Users/davidmodjeska/anaconda/lib/python3.6/site-packages/pygam/utils.py:69: UserWarning: Could not import Scikit-Sparse or Suite-Sparse.\n",
      "This will slow down optimization for models with monotonicity/convexity penalties and many splines.\n",
      "See installation instructions for installing Scikit-Sparse and Suite-Sparse via Conda.\n",
      "  warnings.warn(msg)\n",
      " 63% (7 of 11) |################          | Elapsed Time: 0:00:03 ETA:  0:00:02/Users/davidmodjeska/anaconda/lib/python3.6/site-packages/pygam/utils.py:69: UserWarning: Could not import Scikit-Sparse or Suite-Sparse.\n",
      "This will slow down optimization for models with monotonicity/convexity penalties and many splines.\n",
      "See installation instructions for installing Scikit-Sparse and Suite-Sparse via Conda.\n",
      "  warnings.warn(msg)\n",
      " 72% (8 of 11) |##################        | Elapsed Time: 0:00:04 ETA:  0:00:01/Users/davidmodjeska/anaconda/lib/python3.6/site-packages/pygam/utils.py:69: UserWarning: Could not import Scikit-Sparse or Suite-Sparse.\n",
      "This will slow down optimization for models with monotonicity/convexity penalties and many splines.\n",
      "See installation instructions for installing Scikit-Sparse and Suite-Sparse via Conda.\n",
      "  warnings.warn(msg)\n",
      " 81% (9 of 11) |#####################     | Elapsed Time: 0:00:05 ETA:  0:00:01/Users/davidmodjeska/anaconda/lib/python3.6/site-packages/pygam/utils.py:69: UserWarning: Could not import Scikit-Sparse or Suite-Sparse.\n",
      "This will slow down optimization for models with monotonicity/convexity penalties and many splines.\n",
      "See installation instructions for installing Scikit-Sparse and Suite-Sparse via Conda.\n",
      "  warnings.warn(msg)\n",
      " 90% (10 of 11) |######################   | Elapsed Time: 0:00:05 ETA:  0:00:00/Users/davidmodjeska/anaconda/lib/python3.6/site-packages/pygam/utils.py:69: UserWarning: Could not import Scikit-Sparse or Suite-Sparse.\n",
      "This will slow down optimization for models with monotonicity/convexity penalties and many splines.\n",
      "See installation instructions for installing Scikit-Sparse and Suite-Sparse via Conda.\n",
      "  warnings.warn(msg)\n",
      "100% (11 of 11) |#########################| Elapsed Time: 0:00:06 Time: 0:00:06\n",
      "/Users/davidmodjeska/anaconda/lib/python3.6/site-packages/xgboost-0.6-py3.6.egg/xgboost/sklearn.py:201: DeprecationWarning: The seed parameter is deprecated as of version .6.Please use random_state instead.seed is deprecated.\n",
      "  'seed is deprecated.', DeprecationWarning)\n"
     ]
    },
    {
     "data": {
      "text/html": [
       "<h3>Score model on test data</h3>"
      ],
      "text/plain": [
       "<IPython.core.display.HTML object>"
      ]
     },
     "metadata": {},
     "output_type": "display_data"
    },
    {
     "data": {
      "text/html": [
       "<h4>RMSE from naive model that always predicts the previous week's rate</h4>"
      ],
      "text/plain": [
       "<IPython.core.display.HTML object>"
      ]
     },
     "metadata": {},
     "output_type": "display_data"
    },
    {
     "name": "stdout",
     "output_type": "stream",
     "text": [
      "RMSE: 0.01081\n"
     ]
    },
    {
     "data": {
      "text/html": [
       "<h4>RMSE from fitted model</h4>"
      ],
      "text/plain": [
       "<IPython.core.display.HTML object>"
      ]
     },
     "metadata": {},
     "output_type": "display_data"
    },
    {
     "name": "stdout",
     "output_type": "stream",
     "text": [
      "RMSE: 0.00831\n"
     ]
    }
   ],
   "source": [
    "naive_rmse, fx_features_rmse = do_one_model('CAD', feature_col_names =  ['CA_FX', 'CA_GDP'])"
   ]
  },
  {
   "cell_type": "markdown",
   "metadata": {},
   "source": [
    "### All features"
   ]
  },
  {
   "cell_type": "code",
   "execution_count": 28,
   "metadata": {
    "scrolled": false
   },
   "outputs": [
    {
     "data": {
      "text/html": [
       "<h3>Prepare model data</h3>"
      ],
      "text/plain": [
       "<IPython.core.display.HTML object>"
      ]
     },
     "metadata": {},
     "output_type": "display_data"
    },
    {
     "name": "stdout",
     "output_type": "stream",
     "text": [
      "Time period: 2000-01-03 - 2012-12-05\n",
      "Scaled data shape: (4721, 139)\n",
      "Reframed data shape: (4708, 974)\n"
     ]
    },
    {
     "data": {
      "image/png": "[encoded data removed]",
      "text/plain": [
       "<matplotlib.figure.Figure at 0x1a17ef3d68>"
      ]
     },
     "metadata": {},
     "output_type": "display_data"
    },
    {
     "name": "stdout",
     "output_type": "stream",
     "text": [
      "Cumulative variance explained by the first 93 components: 0.9991\n"
     ]
    },
    {
     "data": {
      "text/html": [
       "<h4>Shape of train and test data after PCA</h4>"
      ],
      "text/plain": [
       "<IPython.core.display.HTML object>"
      ]
     },
     "metadata": {},
     "output_type": "display_data"
    },
    {
     "name": "stdout",
     "output_type": "stream",
     "text": [
      "Reduced data shape: (4708, 94)\n"
     ]
    },
    {
     "data": {
      "text/html": [
       "<h4>Shape of train and test data</h4>"
      ],
      "text/plain": [
       "<IPython.core.display.HTML object>"
      ]
     },
     "metadata": {},
     "output_type": "display_data"
    },
    {
     "name": "stdout",
     "output_type": "stream",
     "text": [
      "(3149, 93) (3149,) (1552, 93) (1552,)\n"
     ]
    },
    {
     "data": {
      "text/html": [
       "<h3>Fit model</h3>"
      ],
      "text/plain": [
       "<IPython.core.display.HTML object>"
      ]
     },
     "metadata": {},
     "output_type": "display_data"
    },
    {
     "name": "stderr",
     "output_type": "stream",
     "text": [
      "N/A% (0 of 11) |                         | Elapsed Time: 0:00:00 ETA:  --:--:--/Users/davidmodjeska/anaconda/lib/python3.6/site-packages/pygam/utils.py:69: UserWarning: Could not import Scikit-Sparse or Suite-Sparse.\n",
      "This will slow down optimization for models with monotonicity/convexity penalties and many splines.\n",
      "See installation instructions for installing Scikit-Sparse and Suite-Sparse via Conda.\n",
      "  warnings.warn(msg)\n",
      "/Users/davidmodjeska/anaconda/lib/python3.6/site-packages/pygam/pygam.py:597: RuntimeWarning: divide by zero encountered in log\n",
      "  return np.log(self.distribution.pdf(y=y, mu=mu, weights=weights)).sum()\n",
      "  9% (1 of 11) |##                        | Elapsed Time: 0:00:17 ETA:  0:02:52/Users/davidmodjeska/anaconda/lib/python3.6/site-packages/pygam/utils.py:69: UserWarning: Could not import Scikit-Sparse or Suite-Sparse.\n",
      "This will slow down optimization for models with monotonicity/convexity penalties and many splines.\n",
      "See installation instructions for installing Scikit-Sparse and Suite-Sparse via Conda.\n",
      "  warnings.warn(msg)\n",
      "/Users/davidmodjeska/anaconda/lib/python3.6/site-packages/pygam/pygam.py:597: RuntimeWarning: divide by zero encountered in log\n",
      "  return np.log(self.distribution.pdf(y=y, mu=mu, weights=weights)).sum()\n",
      " 18% (2 of 11) |####                      | Elapsed Time: 0:00:35 ETA:  0:02:38/Users/davidmodjeska/anaconda/lib/python3.6/site-packages/pygam/utils.py:69: UserWarning: Could not import Scikit-Sparse or Suite-Sparse.\n",
      "This will slow down optimization for models with monotonicity/convexity penalties and many splines.\n",
      "See installation instructions for installing Scikit-Sparse and Suite-Sparse via Conda.\n",
      "  warnings.warn(msg)\n",
      "/Users/davidmodjeska/anaconda/lib/python3.6/site-packages/pygam/pygam.py:597: RuntimeWarning: divide by zero encountered in log\n",
      "  return np.log(self.distribution.pdf(y=y, mu=mu, weights=weights)).sum()\n",
      " 27% (3 of 11) |#######                   | Elapsed Time: 0:00:53 ETA:  0:02:21/Users/davidmodjeska/anaconda/lib/python3.6/site-packages/pygam/utils.py:69: UserWarning: Could not import Scikit-Sparse or Suite-Sparse.\n",
      "This will slow down optimization for models with monotonicity/convexity penalties and many splines.\n",
      "See installation instructions for installing Scikit-Sparse and Suite-Sparse via Conda.\n",
      "  warnings.warn(msg)\n",
      "/Users/davidmodjeska/anaconda/lib/python3.6/site-packages/pygam/pygam.py:597: RuntimeWarning: divide by zero encountered in log\n",
      "  return np.log(self.distribution.pdf(y=y, mu=mu, weights=weights)).sum()\n",
      " 36% (4 of 11) |#########                 | Elapsed Time: 0:01:10 ETA:  0:02:03/Users/davidmodjeska/anaconda/lib/python3.6/site-packages/pygam/utils.py:69: UserWarning: Could not import Scikit-Sparse or Suite-Sparse.\n",
      "This will slow down optimization for models with monotonicity/convexity penalties and many splines.\n",
      "See installation instructions for installing Scikit-Sparse and Suite-Sparse via Conda.\n",
      "  warnings.warn(msg)\n",
      "/Users/davidmodjeska/anaconda/lib/python3.6/site-packages/pygam/pygam.py:597: RuntimeWarning: divide by zero encountered in log\n",
      "  return np.log(self.distribution.pdf(y=y, mu=mu, weights=weights)).sum()\n",
      " 45% (5 of 11) |###########               | Elapsed Time: 0:01:29 ETA:  0:01:47/Users/davidmodjeska/anaconda/lib/python3.6/site-packages/pygam/utils.py:69: UserWarning: Could not import Scikit-Sparse or Suite-Sparse.\n",
      "This will slow down optimization for models with monotonicity/convexity penalties and many splines.\n",
      "See installation instructions for installing Scikit-Sparse and Suite-Sparse via Conda.\n",
      "  warnings.warn(msg)\n",
      "/Users/davidmodjeska/anaconda/lib/python3.6/site-packages/pygam/pygam.py:597: RuntimeWarning: divide by zero encountered in log\n",
      "  return np.log(self.distribution.pdf(y=y, mu=mu, weights=weights)).sum()\n",
      " 54% (6 of 11) |##############            | Elapsed Time: 0:01:47 ETA:  0:01:29/Users/davidmodjeska/anaconda/lib/python3.6/site-packages/pygam/utils.py:69: UserWarning: Could not import Scikit-Sparse or Suite-Sparse.\n",
      "This will slow down optimization for models with monotonicity/convexity penalties and many splines.\n",
      "See installation instructions for installing Scikit-Sparse and Suite-Sparse via Conda.\n",
      "  warnings.warn(msg)\n",
      " 63% (7 of 11) |################          | Elapsed Time: 0:02:05 ETA:  0:01:11/Users/davidmodjeska/anaconda/lib/python3.6/site-packages/pygam/utils.py:69: UserWarning: Could not import Scikit-Sparse or Suite-Sparse.\n",
      "This will slow down optimization for models with monotonicity/convexity penalties and many splines.\n",
      "See installation instructions for installing Scikit-Sparse and Suite-Sparse via Conda.\n",
      "  warnings.warn(msg)\n",
      " 72% (8 of 11) |##################        | Elapsed Time: 0:02:23 ETA:  0:00:53/Users/davidmodjeska/anaconda/lib/python3.6/site-packages/pygam/utils.py:69: UserWarning: Could not import Scikit-Sparse or Suite-Sparse.\n",
      "This will slow down optimization for models with monotonicity/convexity penalties and many splines.\n",
      "See installation instructions for installing Scikit-Sparse and Suite-Sparse via Conda.\n",
      "  warnings.warn(msg)\n",
      " 81% (9 of 11) |#####################     | Elapsed Time: 0:02:40 ETA:  0:00:35/Users/davidmodjeska/anaconda/lib/python3.6/site-packages/pygam/utils.py:69: UserWarning: Could not import Scikit-Sparse or Suite-Sparse.\n",
      "This will slow down optimization for models with monotonicity/convexity penalties and many splines.\n",
      "See installation instructions for installing Scikit-Sparse and Suite-Sparse via Conda.\n",
      "  warnings.warn(msg)\n",
      " 90% (10 of 11) |######################   | Elapsed Time: 0:02:59 ETA:  0:00:17/Users/davidmodjeska/anaconda/lib/python3.6/site-packages/pygam/utils.py:69: UserWarning: Could not import Scikit-Sparse or Suite-Sparse.\n",
      "This will slow down optimization for models with monotonicity/convexity penalties and many splines.\n",
      "See installation instructions for installing Scikit-Sparse and Suite-Sparse via Conda.\n",
      "  warnings.warn(msg)\n",
      "100% (11 of 11) |#########################| Elapsed Time: 0:03:16 Time: 0:03:16\n",
      "/Users/davidmodjeska/anaconda/lib/python3.6/site-packages/xgboost-0.6-py3.6.egg/xgboost/sklearn.py:201: DeprecationWarning: The seed parameter is deprecated as of version .6.Please use random_state instead.seed is deprecated.\n",
      "  'seed is deprecated.', DeprecationWarning)\n"
     ]
    },
    {
     "data": {
      "text/html": [
       "<h3>Score model on test data</h3>"
      ],
      "text/plain": [
       "<IPython.core.display.HTML object>"
      ]
     },
     "metadata": {},
     "output_type": "display_data"
    },
    {
     "data": {
      "text/html": [
       "<h4>RMSE from naive model that always predicts the previous week's rate</h4>"
      ],
      "text/plain": [
       "<IPython.core.display.HTML object>"
      ]
     },
     "metadata": {},
     "output_type": "display_data"
    },
    {
     "name": "stdout",
     "output_type": "stream",
     "text": [
      "RMSE: 0.01205\n"
     ]
    },
    {
     "data": {
      "text/html": [
       "<h4>RMSE from fitted model</h4>"
      ],
      "text/plain": [
       "<IPython.core.display.HTML object>"
      ]
     },
     "metadata": {},
     "output_type": "display_data"
    },
    {
     "name": "stdout",
     "output_type": "stream",
     "text": [
      "RMSE: 0.00556\n"
     ]
    },
    {
     "data": {
      "image/png": "[encoded data removed]",
      "text/plain": [
       "<matplotlib.figure.Figure at 0x1a22e654a8>"
      ]
     },
     "metadata": {},
     "output_type": "display_data"
    },
    {
     "data": {
      "image/png": "[encoded data removed]",
      "text/plain": [
       "<matplotlib.figure.Figure at 0x1a182f8e80>"
      ]
     },
     "metadata": {},
     "output_type": "display_data"
    }
   ],
   "source": [
    "cols = [feature_cols[i] for i in range(n_feature_cols) \n",
    "        if re.search('CA_FX', feature_cols[i]) == None]\n",
    "naive_rmse, fx_all_rmse = do_one_model('CAD', feature_col_names = ['CA_FX'] + cols, do_pca = True)"
   ]
  },
  {
   "cell_type": "code",
   "execution_count": 29,
   "metadata": {},
   "outputs": [],
   "source": [
    "all_results = accum_results(all_results, 'CAD', naive_rmse, fx_rmse, fx_features_rmse, fx_all_rmse)"
   ]
  },
  {
   "cell_type": "markdown",
   "metadata": {},
   "source": [
    "## EU"
   ]
  },
  {
   "cell_type": "markdown",
   "metadata": {},
   "source": [
    "### FX rates only"
   ]
  },
  {
   "cell_type": "code",
   "execution_count": 30,
   "metadata": {
    "scrolled": false
   },
   "outputs": [
    {
     "data": {
      "text/html": [
       "<h3>Prepare model data</h3>"
      ],
      "text/plain": [
       "<IPython.core.display.HTML object>"
      ]
     },
     "metadata": {},
     "output_type": "display_data"
    },
    {
     "name": "stdout",
     "output_type": "stream",
     "text": [
      "Time period: 2000-01-03 - 2017-12-09\n"
     ]
    },
    {
     "data": {
      "text/html": [
       "<h4>Features in Model</h4>"
      ],
      "text/plain": [
       "<IPython.core.display.HTML object>"
      ]
     },
     "metadata": {},
     "output_type": "display_data"
    },
    {
     "name": "stdout",
     "output_type": "stream",
     "text": [
      "EU_FX\n",
      "\n",
      "Scaled data shape: (6551, 1)\n",
      "Reframed data shape: (6538, 8)\n"
     ]
    },
    {
     "data": {
      "text/html": [
       "<h3>Fit model</h3>"
      ],
      "text/plain": [
       "<IPython.core.display.HTML object>"
      ]
     },
     "metadata": {},
     "output_type": "display_data"
    },
    {
     "name": "stderr",
     "output_type": "stream",
     "text": [
      "N/A% (0 of 11) |                         | Elapsed Time: 0:00:00 ETA:  --:--:--/Users/davidmodjeska/anaconda/lib/python3.6/site-packages/pygam/utils.py:69: UserWarning: Could not import Scikit-Sparse or Suite-Sparse.\n",
      "This will slow down optimization for models with monotonicity/convexity penalties and many splines.\n",
      "See installation instructions for installing Scikit-Sparse and Suite-Sparse via Conda.\n",
      "  warnings.warn(msg)\n",
      "  9% (1 of 11) |##                        | Elapsed Time: 0:00:00 ETA:  0:00:02/Users/davidmodjeska/anaconda/lib/python3.6/site-packages/pygam/utils.py:69: UserWarning: Could not import Scikit-Sparse or Suite-Sparse.\n",
      "This will slow down optimization for models with monotonicity/convexity penalties and many splines.\n",
      "See installation instructions for installing Scikit-Sparse and Suite-Sparse via Conda.\n",
      "  warnings.warn(msg)\n",
      " 18% (2 of 11) |####                      | Elapsed Time: 0:00:00 ETA:  0:00:01/Users/davidmodjeska/anaconda/lib/python3.6/site-packages/pygam/utils.py:69: UserWarning: Could not import Scikit-Sparse or Suite-Sparse.\n",
      "This will slow down optimization for models with monotonicity/convexity penalties and many splines.\n",
      "See installation instructions for installing Scikit-Sparse and Suite-Sparse via Conda.\n",
      "  warnings.warn(msg)\n",
      " 27% (3 of 11) |#######                   | Elapsed Time: 0:00:00 ETA:  0:00:01/Users/davidmodjeska/anaconda/lib/python3.6/site-packages/pygam/utils.py:69: UserWarning: Could not import Scikit-Sparse or Suite-Sparse.\n",
      "This will slow down optimization for models with monotonicity/convexity penalties and many splines.\n",
      "See installation instructions for installing Scikit-Sparse and Suite-Sparse via Conda.\n",
      "  warnings.warn(msg)\n",
      " 36% (4 of 11) |#########                 | Elapsed Time: 0:00:00 ETA:  0:00:01/Users/davidmodjeska/anaconda/lib/python3.6/site-packages/pygam/utils.py:69: UserWarning: Could not import Scikit-Sparse or Suite-Sparse.\n",
      "This will slow down optimization for models with monotonicity/convexity penalties and many splines.\n",
      "See installation instructions for installing Scikit-Sparse and Suite-Sparse via Conda.\n",
      "  warnings.warn(msg)\n",
      " 45% (5 of 11) |###########               | Elapsed Time: 0:00:01 ETA:  0:00:01/Users/davidmodjeska/anaconda/lib/python3.6/site-packages/pygam/utils.py:69: UserWarning: Could not import Scikit-Sparse or Suite-Sparse.\n",
      "This will slow down optimization for models with monotonicity/convexity penalties and many splines.\n",
      "See installation instructions for installing Scikit-Sparse and Suite-Sparse via Conda.\n",
      "  warnings.warn(msg)\n",
      " 54% (6 of 11) |##############            | Elapsed Time: 0:00:01 ETA:  0:00:01/Users/davidmodjeska/anaconda/lib/python3.6/site-packages/pygam/utils.py:69: UserWarning: Could not import Scikit-Sparse or Suite-Sparse.\n",
      "This will slow down optimization for models with monotonicity/convexity penalties and many splines.\n",
      "See installation instructions for installing Scikit-Sparse and Suite-Sparse via Conda.\n",
      "  warnings.warn(msg)\n",
      " 63% (7 of 11) |################          | Elapsed Time: 0:00:01 ETA:  0:00:00/Users/davidmodjeska/anaconda/lib/python3.6/site-packages/pygam/utils.py:69: UserWarning: Could not import Scikit-Sparse or Suite-Sparse.\n",
      "This will slow down optimization for models with monotonicity/convexity penalties and many splines.\n",
      "See installation instructions for installing Scikit-Sparse and Suite-Sparse via Conda.\n",
      "  warnings.warn(msg)\n",
      " 72% (8 of 11) |##################        | Elapsed Time: 0:00:01 ETA:  0:00:00/Users/davidmodjeska/anaconda/lib/python3.6/site-packages/pygam/utils.py:69: UserWarning: Could not import Scikit-Sparse or Suite-Sparse.\n",
      "This will slow down optimization for models with monotonicity/convexity penalties and many splines.\n",
      "See installation instructions for installing Scikit-Sparse and Suite-Sparse via Conda.\n",
      "  warnings.warn(msg)\n",
      " 81% (9 of 11) |#####################     | Elapsed Time: 0:00:01 ETA:  0:00:00/Users/davidmodjeska/anaconda/lib/python3.6/site-packages/pygam/utils.py:69: UserWarning: Could not import Scikit-Sparse or Suite-Sparse.\n",
      "This will slow down optimization for models with monotonicity/convexity penalties and many splines.\n",
      "See installation instructions for installing Scikit-Sparse and Suite-Sparse via Conda.\n",
      "  warnings.warn(msg)\n",
      " 90% (10 of 11) |######################   | Elapsed Time: 0:00:02 ETA:  0:00:00/Users/davidmodjeska/anaconda/lib/python3.6/site-packages/pygam/utils.py:69: UserWarning: Could not import Scikit-Sparse or Suite-Sparse.\n",
      "This will slow down optimization for models with monotonicity/convexity penalties and many splines.\n",
      "See installation instructions for installing Scikit-Sparse and Suite-Sparse via Conda.\n",
      "  warnings.warn(msg)\n",
      "100% (11 of 11) |#########################| Elapsed Time: 0:00:02 Time: 0:00:02\n",
      "/Users/davidmodjeska/anaconda/lib/python3.6/site-packages/xgboost-0.6-py3.6.egg/xgboost/sklearn.py:201: DeprecationWarning: The seed parameter is deprecated as of version .6.Please use random_state instead.seed is deprecated.\n",
      "  'seed is deprecated.', DeprecationWarning)\n"
     ]
    },
    {
     "data": {
      "text/html": [
       "<h3>Score model on test data</h3>"
      ],
      "text/plain": [
       "<IPython.core.display.HTML object>"
      ]
     },
     "metadata": {},
     "output_type": "display_data"
    },
    {
     "data": {
      "text/html": [
       "<h4>RMSE from naive model that always predicts the previous week's rate</h4>"
      ],
      "text/plain": [
       "<IPython.core.display.HTML object>"
      ]
     },
     "metadata": {},
     "output_type": "display_data"
    },
    {
     "name": "stdout",
     "output_type": "stream",
     "text": [
      "RMSE: 0.0169\n"
     ]
    },
    {
     "data": {
      "text/html": [
       "<h4>RMSE from fitted model</h4>"
      ],
      "text/plain": [
       "<IPython.core.display.HTML object>"
      ]
     },
     "metadata": {},
     "output_type": "display_data"
    },
    {
     "name": "stdout",
     "output_type": "stream",
     "text": [
      "RMSE: 0.01708\n"
     ]
    }
   ],
   "source": [
    "naive_rmse, fx_rmse = do_one_model('EUR', feature_col_names = ['EU_FX'], verbose = 0)"
   ]
  },
  {
   "cell_type": "markdown",
   "metadata": {},
   "source": [
    "### FX rates and other features"
   ]
  },
  {
   "cell_type": "code",
   "execution_count": 31,
   "metadata": {
    "scrolled": false
   },
   "outputs": [
    {
     "data": {
      "text/html": [
       "<h3>Prepare model data</h3>"
      ],
      "text/plain": [
       "<IPython.core.display.HTML object>"
      ]
     },
     "metadata": {},
     "output_type": "display_data"
    },
    {
     "name": "stdout",
     "output_type": "stream",
     "text": [
      "Time period: 2000-01-03 - 2017-12-09\n"
     ]
    },
    {
     "data": {
      "text/html": [
       "<h4>Features in Model</h4>"
      ],
      "text/plain": [
       "<IPython.core.display.HTML object>"
      ]
     },
     "metadata": {},
     "output_type": "display_data"
    },
    {
     "name": "stdout",
     "output_type": "stream",
     "text": [
      "EU_FX, CH_FX, DE_INT_TB, US_INT_TB, US_GDP\n",
      "\n",
      "Scaled data shape: (6551, 5)\n",
      "Reframed data shape: (6538, 36)\n"
     ]
    },
    {
     "data": {
      "text/html": [
       "<h4>First few rows of supervised data</h4>"
      ],
      "text/plain": [
       "<IPython.core.display.HTML object>"
      ]
     },
     "metadata": {},
     "output_type": "display_data"
    },
    {
     "data": {
      "text/html": [
       "<p>"
      ],
      "text/plain": [
       "<IPython.core.display.HTML object>"
      ]
     },
     "metadata": {},
     "output_type": "display_data"
    },
    {
     "data": {
      "text/html": [
       "<table border=\"1\" class=\"dataframe\">\n",
       "  <thead>\n",
       "    <tr style=\"text-align: right;\">\n",
       "      <th>EU_FX(t-7)</th>\n",
       "      <th>CH_FX(t-7)</th>\n",
       "      <th>DE_INT_TB(t-7)</th>\n",
       "      <th>US_INT_TB(t-7)</th>\n",
       "      <th>US_GDP(t-7)</th>\n",
       "      <th>EU_FX(t-6)</th>\n",
       "      <th>CH_FX(t-6)</th>\n",
       "      <th>DE_INT_TB(t-6)</th>\n",
       "      <th>US_INT_TB(t-6)</th>\n",
       "      <th>US_GDP(t-6)</th>\n",
       "      <th>EU_FX(t-5)</th>\n",
       "      <th>CH_FX(t-5)</th>\n",
       "      <th>DE_INT_TB(t-5)</th>\n",
       "      <th>US_INT_TB(t-5)</th>\n",
       "      <th>US_GDP(t-5)</th>\n",
       "      <th>EU_FX(t-4)</th>\n",
       "      <th>CH_FX(t-4)</th>\n",
       "      <th>DE_INT_TB(t-4)</th>\n",
       "      <th>US_INT_TB(t-4)</th>\n",
       "      <th>US_GDP(t-4)</th>\n",
       "      <th>EU_FX(t-3)</th>\n",
       "      <th>CH_FX(t-3)</th>\n",
       "      <th>DE_INT_TB(t-3)</th>\n",
       "      <th>US_INT_TB(t-3)</th>\n",
       "      <th>US_GDP(t-3)</th>\n",
       "      <th>EU_FX(t-2)</th>\n",
       "      <th>CH_FX(t-2)</th>\n",
       "      <th>DE_INT_TB(t-2)</th>\n",
       "      <th>US_INT_TB(t-2)</th>\n",
       "      <th>US_GDP(t-2)</th>\n",
       "      <th>EU_FX(t-1)</th>\n",
       "      <th>CH_FX(t-1)</th>\n",
       "      <th>DE_INT_TB(t-1)</th>\n",
       "      <th>US_INT_TB(t-1)</th>\n",
       "      <th>US_GDP(t-1)</th>\n",
       "      <th>EU_FX(t+6)</th>\n",
       "    </tr>\n",
       "  </thead>\n",
       "  <tbody>\n",
       "    <tr>\n",
       "      <td>0.243540</td>\n",
       "      <td>0.777068</td>\n",
       "      <td>0.641026</td>\n",
       "      <td>0.864422</td>\n",
       "      <td>0.608791</td>\n",
       "      <td>0.263437</td>\n",
       "      <td>0.754884</td>\n",
       "      <td>0.641026</td>\n",
       "      <td>0.865626</td>\n",
       "      <td>0.613187</td>\n",
       "      <td>0.266796</td>\n",
       "      <td>0.751324</td>\n",
       "      <td>0.641026</td>\n",
       "      <td>0.866831</td>\n",
       "      <td>0.617582</td>\n",
       "      <td>0.265375</td>\n",
       "      <td>0.752602</td>\n",
       "      <td>0.641026</td>\n",
       "      <td>0.868035</td>\n",
       "      <td>0.621978</td>\n",
       "      <td>0.261499</td>\n",
       "      <td>0.760179</td>\n",
       "      <td>0.641026</td>\n",
       "      <td>0.869240</td>\n",
       "      <td>0.626374</td>\n",
       "      <td>0.259690</td>\n",
       "      <td>0.762644</td>\n",
       "      <td>0.641026</td>\n",
       "      <td>0.870444</td>\n",
       "      <td>0.630769</td>\n",
       "      <td>0.257881</td>\n",
       "      <td>0.765109</td>\n",
       "      <td>0.641026</td>\n",
       "      <td>0.871649</td>\n",
       "      <td>0.635165</td>\n",
       "      <td>0.239750</td>\n",
       "    </tr>\n",
       "    <tr>\n",
       "      <td>0.263437</td>\n",
       "      <td>0.754884</td>\n",
       "      <td>0.641026</td>\n",
       "      <td>0.865626</td>\n",
       "      <td>0.613187</td>\n",
       "      <td>0.266796</td>\n",
       "      <td>0.751324</td>\n",
       "      <td>0.641026</td>\n",
       "      <td>0.866831</td>\n",
       "      <td>0.617582</td>\n",
       "      <td>0.265375</td>\n",
       "      <td>0.752602</td>\n",
       "      <td>0.641026</td>\n",
       "      <td>0.868035</td>\n",
       "      <td>0.621978</td>\n",
       "      <td>0.261499</td>\n",
       "      <td>0.760179</td>\n",
       "      <td>0.641026</td>\n",
       "      <td>0.869240</td>\n",
       "      <td>0.626374</td>\n",
       "      <td>0.259690</td>\n",
       "      <td>0.762644</td>\n",
       "      <td>0.641026</td>\n",
       "      <td>0.870444</td>\n",
       "      <td>0.630769</td>\n",
       "      <td>0.257881</td>\n",
       "      <td>0.765109</td>\n",
       "      <td>0.641026</td>\n",
       "      <td>0.871649</td>\n",
       "      <td>0.635165</td>\n",
       "      <td>0.256072</td>\n",
       "      <td>0.767573</td>\n",
       "      <td>0.641026</td>\n",
       "      <td>0.872853</td>\n",
       "      <td>0.639560</td>\n",
       "      <td>0.239599</td>\n",
       "    </tr>\n",
       "    <tr>\n",
       "      <td>0.266796</td>\n",
       "      <td>0.751324</td>\n",
       "      <td>0.641026</td>\n",
       "      <td>0.866831</td>\n",
       "      <td>0.617582</td>\n",
       "      <td>0.265375</td>\n",
       "      <td>0.752602</td>\n",
       "      <td>0.641026</td>\n",
       "      <td>0.868035</td>\n",
       "      <td>0.621978</td>\n",
       "      <td>0.261499</td>\n",
       "      <td>0.760179</td>\n",
       "      <td>0.641026</td>\n",
       "      <td>0.869240</td>\n",
       "      <td>0.626374</td>\n",
       "      <td>0.259690</td>\n",
       "      <td>0.762644</td>\n",
       "      <td>0.641026</td>\n",
       "      <td>0.870444</td>\n",
       "      <td>0.630769</td>\n",
       "      <td>0.257881</td>\n",
       "      <td>0.765109</td>\n",
       "      <td>0.641026</td>\n",
       "      <td>0.871649</td>\n",
       "      <td>0.635165</td>\n",
       "      <td>0.256072</td>\n",
       "      <td>0.767573</td>\n",
       "      <td>0.641026</td>\n",
       "      <td>0.872853</td>\n",
       "      <td>0.639560</td>\n",
       "      <td>0.265116</td>\n",
       "      <td>0.758536</td>\n",
       "      <td>0.641026</td>\n",
       "      <td>0.874057</td>\n",
       "      <td>0.643956</td>\n",
       "      <td>0.239147</td>\n",
       "    </tr>\n",
       "    <tr>\n",
       "      <td>0.265375</td>\n",
       "      <td>0.752602</td>\n",
       "      <td>0.641026</td>\n",
       "      <td>0.868035</td>\n",
       "      <td>0.621978</td>\n",
       "      <td>0.261499</td>\n",
       "      <td>0.760179</td>\n",
       "      <td>0.641026</td>\n",
       "      <td>0.869240</td>\n",
       "      <td>0.626374</td>\n",
       "      <td>0.259690</td>\n",
       "      <td>0.762644</td>\n",
       "      <td>0.641026</td>\n",
       "      <td>0.870444</td>\n",
       "      <td>0.630769</td>\n",
       "      <td>0.257881</td>\n",
       "      <td>0.765109</td>\n",
       "      <td>0.641026</td>\n",
       "      <td>0.871649</td>\n",
       "      <td>0.635165</td>\n",
       "      <td>0.256072</td>\n",
       "      <td>0.767573</td>\n",
       "      <td>0.641026</td>\n",
       "      <td>0.872853</td>\n",
       "      <td>0.639560</td>\n",
       "      <td>0.265116</td>\n",
       "      <td>0.758536</td>\n",
       "      <td>0.641026</td>\n",
       "      <td>0.874057</td>\n",
       "      <td>0.643956</td>\n",
       "      <td>0.259819</td>\n",
       "      <td>0.763557</td>\n",
       "      <td>0.641026</td>\n",
       "      <td>0.875262</td>\n",
       "      <td>0.648352</td>\n",
       "      <td>0.238372</td>\n",
       "    </tr>\n",
       "    <tr>\n",
       "      <td>0.261499</td>\n",
       "      <td>0.760179</td>\n",
       "      <td>0.641026</td>\n",
       "      <td>0.869240</td>\n",
       "      <td>0.626374</td>\n",
       "      <td>0.259690</td>\n",
       "      <td>0.762644</td>\n",
       "      <td>0.641026</td>\n",
       "      <td>0.870444</td>\n",
       "      <td>0.630769</td>\n",
       "      <td>0.257881</td>\n",
       "      <td>0.765109</td>\n",
       "      <td>0.641026</td>\n",
       "      <td>0.871649</td>\n",
       "      <td>0.635165</td>\n",
       "      <td>0.256072</td>\n",
       "      <td>0.767573</td>\n",
       "      <td>0.641026</td>\n",
       "      <td>0.872853</td>\n",
       "      <td>0.639560</td>\n",
       "      <td>0.265116</td>\n",
       "      <td>0.758536</td>\n",
       "      <td>0.641026</td>\n",
       "      <td>0.874057</td>\n",
       "      <td>0.643956</td>\n",
       "      <td>0.259819</td>\n",
       "      <td>0.763557</td>\n",
       "      <td>0.641026</td>\n",
       "      <td>0.875262</td>\n",
       "      <td>0.648352</td>\n",
       "      <td>0.258398</td>\n",
       "      <td>0.767847</td>\n",
       "      <td>0.641026</td>\n",
       "      <td>0.876466</td>\n",
       "      <td>0.652747</td>\n",
       "      <td>0.240698</td>\n",
       "    </tr>\n",
       "  </tbody>\n",
       "</table>"
      ],
      "text/plain": [
       "<IPython.core.display.HTML object>"
      ]
     },
     "metadata": {},
     "output_type": "display_data"
    },
    {
     "data": {
      "text/html": [
       "<p>"
      ],
      "text/plain": [
       "<IPython.core.display.HTML object>"
      ]
     },
     "metadata": {},
     "output_type": "display_data"
    },
    {
     "data": {
      "text/html": [
       "<h4>Shape of train and test data</h4>"
      ],
      "text/plain": [
       "<IPython.core.display.HTML object>"
      ]
     },
     "metadata": {},
     "output_type": "display_data"
    },
    {
     "name": "stdout",
     "output_type": "stream",
     "text": [
      "(4375, 35) (4375,) (2156, 35) (2156,)\n"
     ]
    },
    {
     "data": {
      "text/html": [
       "<h3>Fit model</h3>"
      ],
      "text/plain": [
       "<IPython.core.display.HTML object>"
      ]
     },
     "metadata": {},
     "output_type": "display_data"
    },
    {
     "name": "stderr",
     "output_type": "stream",
     "text": [
      "N/A% (0 of 11) |                         | Elapsed Time: 0:00:00 ETA:  --:--:--/Users/davidmodjeska/anaconda/lib/python3.6/site-packages/pygam/utils.py:69: UserWarning: Could not import Scikit-Sparse or Suite-Sparse.\n",
      "This will slow down optimization for models with monotonicity/convexity penalties and many splines.\n",
      "See installation instructions for installing Scikit-Sparse and Suite-Sparse via Conda.\n",
      "  warnings.warn(msg)\n",
      "  9% (1 of 11) |##                        | Elapsed Time: 0:00:02 ETA:  0:00:20/Users/davidmodjeska/anaconda/lib/python3.6/site-packages/pygam/utils.py:69: UserWarning: Could not import Scikit-Sparse or Suite-Sparse.\n",
      "This will slow down optimization for models with monotonicity/convexity penalties and many splines.\n",
      "See installation instructions for installing Scikit-Sparse and Suite-Sparse via Conda.\n",
      "  warnings.warn(msg)\n",
      " 18% (2 of 11) |####                      | Elapsed Time: 0:00:04 ETA:  0:00:18/Users/davidmodjeska/anaconda/lib/python3.6/site-packages/pygam/utils.py:69: UserWarning: Could not import Scikit-Sparse or Suite-Sparse.\n",
      "This will slow down optimization for models with monotonicity/convexity penalties and many splines.\n",
      "See installation instructions for installing Scikit-Sparse and Suite-Sparse via Conda.\n",
      "  warnings.warn(msg)\n",
      " 27% (3 of 11) |#######                   | Elapsed Time: 0:00:06 ETA:  0:00:16/Users/davidmodjeska/anaconda/lib/python3.6/site-packages/pygam/utils.py:69: UserWarning: Could not import Scikit-Sparse or Suite-Sparse.\n",
      "This will slow down optimization for models with monotonicity/convexity penalties and many splines.\n",
      "See installation instructions for installing Scikit-Sparse and Suite-Sparse via Conda.\n",
      "  warnings.warn(msg)\n",
      " 36% (4 of 11) |#########                 | Elapsed Time: 0:00:08 ETA:  0:00:14/Users/davidmodjeska/anaconda/lib/python3.6/site-packages/pygam/utils.py:69: UserWarning: Could not import Scikit-Sparse or Suite-Sparse.\n",
      "This will slow down optimization for models with monotonicity/convexity penalties and many splines.\n",
      "See installation instructions for installing Scikit-Sparse and Suite-Sparse via Conda.\n",
      "  warnings.warn(msg)\n",
      " 45% (5 of 11) |###########               | Elapsed Time: 0:00:10 ETA:  0:00:12/Users/davidmodjeska/anaconda/lib/python3.6/site-packages/pygam/utils.py:69: UserWarning: Could not import Scikit-Sparse or Suite-Sparse.\n",
      "This will slow down optimization for models with monotonicity/convexity penalties and many splines.\n",
      "See installation instructions for installing Scikit-Sparse and Suite-Sparse via Conda.\n",
      "  warnings.warn(msg)\n",
      " 54% (6 of 11) |##############            | Elapsed Time: 0:00:12 ETA:  0:00:10/Users/davidmodjeska/anaconda/lib/python3.6/site-packages/pygam/utils.py:69: UserWarning: Could not import Scikit-Sparse or Suite-Sparse.\n",
      "This will slow down optimization for models with monotonicity/convexity penalties and many splines.\n",
      "See installation instructions for installing Scikit-Sparse and Suite-Sparse via Conda.\n",
      "  warnings.warn(msg)\n",
      " 63% (7 of 11) |################          | Elapsed Time: 0:00:14 ETA:  0:00:08/Users/davidmodjeska/anaconda/lib/python3.6/site-packages/pygam/utils.py:69: UserWarning: Could not import Scikit-Sparse or Suite-Sparse.\n",
      "This will slow down optimization for models with monotonicity/convexity penalties and many splines.\n",
      "See installation instructions for installing Scikit-Sparse and Suite-Sparse via Conda.\n",
      "  warnings.warn(msg)\n",
      " 72% (8 of 11) |##################        | Elapsed Time: 0:00:16 ETA:  0:00:06/Users/davidmodjeska/anaconda/lib/python3.6/site-packages/pygam/utils.py:69: UserWarning: Could not import Scikit-Sparse or Suite-Sparse.\n",
      "This will slow down optimization for models with monotonicity/convexity penalties and many splines.\n",
      "See installation instructions for installing Scikit-Sparse and Suite-Sparse via Conda.\n",
      "  warnings.warn(msg)\n",
      " 81% (9 of 11) |#####################     | Elapsed Time: 0:00:18 ETA:  0:00:04/Users/davidmodjeska/anaconda/lib/python3.6/site-packages/pygam/utils.py:69: UserWarning: Could not import Scikit-Sparse or Suite-Sparse.\n",
      "This will slow down optimization for models with monotonicity/convexity penalties and many splines.\n",
      "See installation instructions for installing Scikit-Sparse and Suite-Sparse via Conda.\n",
      "  warnings.warn(msg)\n",
      " 90% (10 of 11) |######################   | Elapsed Time: 0:00:20 ETA:  0:00:02/Users/davidmodjeska/anaconda/lib/python3.6/site-packages/pygam/utils.py:69: UserWarning: Could not import Scikit-Sparse or Suite-Sparse.\n",
      "This will slow down optimization for models with monotonicity/convexity penalties and many splines.\n",
      "See installation instructions for installing Scikit-Sparse and Suite-Sparse via Conda.\n",
      "  warnings.warn(msg)\n",
      "100% (11 of 11) |#########################| Elapsed Time: 0:00:22 Time: 0:00:22\n",
      "/Users/davidmodjeska/anaconda/lib/python3.6/site-packages/xgboost-0.6-py3.6.egg/xgboost/sklearn.py:201: DeprecationWarning: The seed parameter is deprecated as of version .6.Please use random_state instead.seed is deprecated.\n",
      "  'seed is deprecated.', DeprecationWarning)\n"
     ]
    },
    {
     "data": {
      "text/html": [
       "<h3>Score model on test data</h3>"
      ],
      "text/plain": [
       "<IPython.core.display.HTML object>"
      ]
     },
     "metadata": {},
     "output_type": "display_data"
    },
    {
     "data": {
      "text/html": [
       "<h4>RMSE from naive model that always predicts the previous week's rate</h4>"
      ],
      "text/plain": [
       "<IPython.core.display.HTML object>"
      ]
     },
     "metadata": {},
     "output_type": "display_data"
    },
    {
     "name": "stdout",
     "output_type": "stream",
     "text": [
      "RMSE: 0.0169\n"
     ]
    },
    {
     "data": {
      "text/html": [
       "<h4>RMSE from fitted model</h4>"
      ],
      "text/plain": [
       "<IPython.core.display.HTML object>"
      ]
     },
     "metadata": {},
     "output_type": "display_data"
    },
    {
     "name": "stdout",
     "output_type": "stream",
     "text": [
      "RMSE: 0.01054\n"
     ]
    }
   ],
   "source": [
    "naive_rmse, fx_features_rmse = do_one_model('EUR', feature_col_names = \\\n",
    "    ['EU_FX', 'CH_FX', 'DE_INT_TB', 'US_INT_TB', 'US_GDP'])"
   ]
  },
  {
   "cell_type": "markdown",
   "metadata": {},
   "source": [
    "### All features"
   ]
  },
  {
   "cell_type": "code",
   "execution_count": 32,
   "metadata": {
    "scrolled": false
   },
   "outputs": [
    {
     "data": {
      "text/html": [
       "<h3>Prepare model data</h3>"
      ],
      "text/plain": [
       "<IPython.core.display.HTML object>"
      ]
     },
     "metadata": {},
     "output_type": "display_data"
    },
    {
     "name": "stdout",
     "output_type": "stream",
     "text": [
      "Time period: 2000-01-03 - 2012-12-05\n",
      "Scaled data shape: (4721, 141)\n",
      "Reframed data shape: (4708, 988)\n"
     ]
    },
    {
     "data": {
      "image/png": "[encoded data removed]",
      "text/plain": [
       "<matplotlib.figure.Figure at 0x112789438>"
      ]
     },
     "metadata": {},
     "output_type": "display_data"
    },
    {
     "name": "stdout",
     "output_type": "stream",
     "text": [
      "Cumulative variance explained by the first 93 components: 0.999\n"
     ]
    },
    {
     "data": {
      "text/html": [
       "<h4>Shape of train and test data after PCA</h4>"
      ],
      "text/plain": [
       "<IPython.core.display.HTML object>"
      ]
     },
     "metadata": {},
     "output_type": "display_data"
    },
    {
     "name": "stdout",
     "output_type": "stream",
     "text": [
      "Reduced data shape: (4708, 94)\n"
     ]
    },
    {
     "data": {
      "text/html": [
       "<h4>Shape of train and test data</h4>"
      ],
      "text/plain": [
       "<IPython.core.display.HTML object>"
      ]
     },
     "metadata": {},
     "output_type": "display_data"
    },
    {
     "name": "stdout",
     "output_type": "stream",
     "text": [
      "(3149, 93) (3149,) (1552, 93) (1552,)\n"
     ]
    },
    {
     "data": {
      "text/html": [
       "<h3>Fit model</h3>"
      ],
      "text/plain": [
       "<IPython.core.display.HTML object>"
      ]
     },
     "metadata": {},
     "output_type": "display_data"
    },
    {
     "name": "stderr",
     "output_type": "stream",
     "text": [
      "N/A% (0 of 11) |                         | Elapsed Time: 0:00:00 ETA:  --:--:--/Users/davidmodjeska/anaconda/lib/python3.6/site-packages/pygam/utils.py:69: UserWarning: Could not import Scikit-Sparse or Suite-Sparse.\n",
      "This will slow down optimization for models with monotonicity/convexity penalties and many splines.\n",
      "See installation instructions for installing Scikit-Sparse and Suite-Sparse via Conda.\n",
      "  warnings.warn(msg)\n",
      "/Users/davidmodjeska/anaconda/lib/python3.6/site-packages/pygam/pygam.py:597: RuntimeWarning: divide by zero encountered in log\n",
      "  return np.log(self.distribution.pdf(y=y, mu=mu, weights=weights)).sum()\n",
      "  9% (1 of 11) |##                        | Elapsed Time: 0:00:16 ETA:  0:02:48/Users/davidmodjeska/anaconda/lib/python3.6/site-packages/pygam/utils.py:69: UserWarning: Could not import Scikit-Sparse or Suite-Sparse.\n",
      "This will slow down optimization for models with monotonicity/convexity penalties and many splines.\n",
      "See installation instructions for installing Scikit-Sparse and Suite-Sparse via Conda.\n",
      "  warnings.warn(msg)\n",
      "/Users/davidmodjeska/anaconda/lib/python3.6/site-packages/pygam/pygam.py:597: RuntimeWarning: divide by zero encountered in log\n",
      "  return np.log(self.distribution.pdf(y=y, mu=mu, weights=weights)).sum()\n",
      " 18% (2 of 11) |####                      | Elapsed Time: 0:00:33 ETA:  0:02:31/Users/davidmodjeska/anaconda/lib/python3.6/site-packages/pygam/utils.py:69: UserWarning: Could not import Scikit-Sparse or Suite-Sparse.\n",
      "This will slow down optimization for models with monotonicity/convexity penalties and many splines.\n",
      "See installation instructions for installing Scikit-Sparse and Suite-Sparse via Conda.\n",
      "  warnings.warn(msg)\n",
      "/Users/davidmodjeska/anaconda/lib/python3.6/site-packages/pygam/pygam.py:597: RuntimeWarning: divide by zero encountered in log\n",
      "  return np.log(self.distribution.pdf(y=y, mu=mu, weights=weights)).sum()\n",
      " 27% (3 of 11) |#######                   | Elapsed Time: 0:00:50 ETA:  0:02:15/Users/davidmodjeska/anaconda/lib/python3.6/site-packages/pygam/utils.py:69: UserWarning: Could not import Scikit-Sparse or Suite-Sparse.\n",
      "This will slow down optimization for models with monotonicity/convexity penalties and many splines.\n",
      "See installation instructions for installing Scikit-Sparse and Suite-Sparse via Conda.\n",
      "  warnings.warn(msg)\n",
      "/Users/davidmodjeska/anaconda/lib/python3.6/site-packages/pygam/pygam.py:597: RuntimeWarning: divide by zero encountered in log\n",
      "  return np.log(self.distribution.pdf(y=y, mu=mu, weights=weights)).sum()\n",
      " 36% (4 of 11) |#########                 | Elapsed Time: 0:01:08 ETA:  0:01:59/Users/davidmodjeska/anaconda/lib/python3.6/site-packages/pygam/utils.py:69: UserWarning: Could not import Scikit-Sparse or Suite-Sparse.\n",
      "This will slow down optimization for models with monotonicity/convexity penalties and many splines.\n",
      "See installation instructions for installing Scikit-Sparse and Suite-Sparse via Conda.\n",
      "  warnings.warn(msg)\n",
      "/Users/davidmodjeska/anaconda/lib/python3.6/site-packages/pygam/pygam.py:597: RuntimeWarning: divide by zero encountered in log\n",
      "  return np.log(self.distribution.pdf(y=y, mu=mu, weights=weights)).sum()\n",
      " 45% (5 of 11) |###########               | Elapsed Time: 0:01:25 ETA:  0:01:42/Users/davidmodjeska/anaconda/lib/python3.6/site-packages/pygam/utils.py:69: UserWarning: Could not import Scikit-Sparse or Suite-Sparse.\n",
      "This will slow down optimization for models with monotonicity/convexity penalties and many splines.\n",
      "See installation instructions for installing Scikit-Sparse and Suite-Sparse via Conda.\n",
      "  warnings.warn(msg)\n",
      "/Users/davidmodjeska/anaconda/lib/python3.6/site-packages/pygam/pygam.py:597: RuntimeWarning: divide by zero encountered in log\n",
      "  return np.log(self.distribution.pdf(y=y, mu=mu, weights=weights)).sum()\n",
      " 54% (6 of 11) |##############            | Elapsed Time: 0:01:42 ETA:  0:01:25/Users/davidmodjeska/anaconda/lib/python3.6/site-packages/pygam/utils.py:69: UserWarning: Could not import Scikit-Sparse or Suite-Sparse.\n",
      "This will slow down optimization for models with monotonicity/convexity penalties and many splines.\n",
      "See installation instructions for installing Scikit-Sparse and Suite-Sparse via Conda.\n",
      "  warnings.warn(msg)\n",
      " 63% (7 of 11) |################          | Elapsed Time: 0:01:59 ETA:  0:01:08/Users/davidmodjeska/anaconda/lib/python3.6/site-packages/pygam/utils.py:69: UserWarning: Could not import Scikit-Sparse or Suite-Sparse.\n",
      "This will slow down optimization for models with monotonicity/convexity penalties and many splines.\n",
      "See installation instructions for installing Scikit-Sparse and Suite-Sparse via Conda.\n",
      "  warnings.warn(msg)\n",
      " 72% (8 of 11) |##################        | Elapsed Time: 0:02:17 ETA:  0:00:51/Users/davidmodjeska/anaconda/lib/python3.6/site-packages/pygam/utils.py:69: UserWarning: Could not import Scikit-Sparse or Suite-Sparse.\n",
      "This will slow down optimization for models with monotonicity/convexity penalties and many splines.\n",
      "See installation instructions for installing Scikit-Sparse and Suite-Sparse via Conda.\n",
      "  warnings.warn(msg)\n",
      " 81% (9 of 11) |#####################     | Elapsed Time: 0:02:34 ETA:  0:00:34/Users/davidmodjeska/anaconda/lib/python3.6/site-packages/pygam/utils.py:69: UserWarning: Could not import Scikit-Sparse or Suite-Sparse.\n",
      "This will slow down optimization for models with monotonicity/convexity penalties and many splines.\n",
      "See installation instructions for installing Scikit-Sparse and Suite-Sparse via Conda.\n",
      "  warnings.warn(msg)\n",
      " 90% (10 of 11) |######################   | Elapsed Time: 0:02:52 ETA:  0:00:17/Users/davidmodjeska/anaconda/lib/python3.6/site-packages/pygam/utils.py:69: UserWarning: Could not import Scikit-Sparse or Suite-Sparse.\n",
      "This will slow down optimization for models with monotonicity/convexity penalties and many splines.\n",
      "See installation instructions for installing Scikit-Sparse and Suite-Sparse via Conda.\n",
      "  warnings.warn(msg)\n",
      "100% (11 of 11) |#########################| Elapsed Time: 0:03:10 Time: 0:03:10\n",
      "/Users/davidmodjeska/anaconda/lib/python3.6/site-packages/xgboost-0.6-py3.6.egg/xgboost/sklearn.py:201: DeprecationWarning: The seed parameter is deprecated as of version .6.Please use random_state instead.seed is deprecated.\n",
      "  'seed is deprecated.', DeprecationWarning)\n"
     ]
    },
    {
     "data": {
      "text/html": [
       "<h3>Score model on test data</h3>"
      ],
      "text/plain": [
       "<IPython.core.display.HTML object>"
      ]
     },
     "metadata": {},
     "output_type": "display_data"
    },
    {
     "data": {
      "text/html": [
       "<h4>RMSE from naive model that always predicts the previous week's rate</h4>"
      ],
      "text/plain": [
       "<IPython.core.display.HTML object>"
      ]
     },
     "metadata": {},
     "output_type": "display_data"
    },
    {
     "name": "stdout",
     "output_type": "stream",
     "text": [
      "RMSE: 0.01811\n"
     ]
    },
    {
     "data": {
      "text/html": [
       "<h4>RMSE from fitted model</h4>"
      ],
      "text/plain": [
       "<IPython.core.display.HTML object>"
      ]
     },
     "metadata": {},
     "output_type": "display_data"
    },
    {
     "name": "stdout",
     "output_type": "stream",
     "text": [
      "RMSE: 0.00833\n"
     ]
    },
    {
     "data": {
      "image/png": "[encoded data removed]",
      "text/plain": [
       "<matplotlib.figure.Figure at 0x10ec8f358>"
      ]
     },
     "metadata": {},
     "output_type": "display_data"
    },
    {
     "data": {
      "image/png": "[encoded data removed]",
      "text/plain": [
       "<matplotlib.figure.Figure at 0x1a19ceaf28>"
      ]
     },
     "metadata": {},
     "output_type": "display_data"
    }
   ],
   "source": [
    "cols = [feature_cols[i] for i in range(n_feature_cols) \n",
    "        if re.search('EU_FX', feature_cols[i]) == None]\n",
    "naive_rmse, fx_all_rmse = do_one_model('EUR', feature_col_names = ['EU_FX'] + cols, do_pca = True)"
   ]
  },
  {
   "cell_type": "code",
   "execution_count": 33,
   "metadata": {},
   "outputs": [],
   "source": [
    "all_results = accum_results(all_results, 'EUR', naive_rmse, fx_rmse, fx_features_rmse, fx_all_rmse)"
   ]
  },
  {
   "cell_type": "markdown",
   "metadata": {},
   "source": [
    "## Japan"
   ]
  },
  {
   "cell_type": "markdown",
   "metadata": {},
   "source": [
    "### FX rates only"
   ]
  },
  {
   "cell_type": "code",
   "execution_count": 34,
   "metadata": {
    "scrolled": false
   },
   "outputs": [
    {
     "data": {
      "text/html": [
       "<h3>Prepare model data</h3>"
      ],
      "text/plain": [
       "<IPython.core.display.HTML object>"
      ]
     },
     "metadata": {},
     "output_type": "display_data"
    },
    {
     "name": "stdout",
     "output_type": "stream",
     "text": [
      "Time period: 2000-01-03 - 2017-12-09\n"
     ]
    },
    {
     "data": {
      "text/html": [
       "<h4>Features in Model</h4>"
      ],
      "text/plain": [
       "<IPython.core.display.HTML object>"
      ]
     },
     "metadata": {},
     "output_type": "display_data"
    },
    {
     "name": "stdout",
     "output_type": "stream",
     "text": [
      "JP_FX\n",
      "\n",
      "Scaled data shape: (6551, 1)\n",
      "Reframed data shape: (6538, 8)\n"
     ]
    },
    {
     "data": {
      "text/html": [
       "<h3>Fit model</h3>"
      ],
      "text/plain": [
       "<IPython.core.display.HTML object>"
      ]
     },
     "metadata": {},
     "output_type": "display_data"
    },
    {
     "name": "stderr",
     "output_type": "stream",
     "text": [
      "N/A% (0 of 11) |                         | Elapsed Time: 0:00:00 ETA:  --:--:--/Users/davidmodjeska/anaconda/lib/python3.6/site-packages/pygam/utils.py:69: UserWarning: Could not import Scikit-Sparse or Suite-Sparse.\n",
      "This will slow down optimization for models with monotonicity/convexity penalties and many splines.\n",
      "See installation instructions for installing Scikit-Sparse and Suite-Sparse via Conda.\n",
      "  warnings.warn(msg)\n",
      "  9% (1 of 11) |##                        | Elapsed Time: 0:00:00 ETA:  0:00:02/Users/davidmodjeska/anaconda/lib/python3.6/site-packages/pygam/utils.py:69: UserWarning: Could not import Scikit-Sparse or Suite-Sparse.\n",
      "This will slow down optimization for models with monotonicity/convexity penalties and many splines.\n",
      "See installation instructions for installing Scikit-Sparse and Suite-Sparse via Conda.\n",
      "  warnings.warn(msg)\n",
      " 18% (2 of 11) |####                      | Elapsed Time: 0:00:00 ETA:  0:00:01/Users/davidmodjeska/anaconda/lib/python3.6/site-packages/pygam/utils.py:69: UserWarning: Could not import Scikit-Sparse or Suite-Sparse.\n",
      "This will slow down optimization for models with monotonicity/convexity penalties and many splines.\n",
      "See installation instructions for installing Scikit-Sparse and Suite-Sparse via Conda.\n",
      "  warnings.warn(msg)\n",
      " 27% (3 of 11) |#######                   | Elapsed Time: 0:00:00 ETA:  0:00:01/Users/davidmodjeska/anaconda/lib/python3.6/site-packages/pygam/utils.py:69: UserWarning: Could not import Scikit-Sparse or Suite-Sparse.\n",
      "This will slow down optimization for models with monotonicity/convexity penalties and many splines.\n",
      "See installation instructions for installing Scikit-Sparse and Suite-Sparse via Conda.\n",
      "  warnings.warn(msg)\n",
      " 36% (4 of 11) |#########                 | Elapsed Time: 0:00:00 ETA:  0:00:01/Users/davidmodjeska/anaconda/lib/python3.6/site-packages/pygam/utils.py:69: UserWarning: Could not import Scikit-Sparse or Suite-Sparse.\n",
      "This will slow down optimization for models with monotonicity/convexity penalties and many splines.\n",
      "See installation instructions for installing Scikit-Sparse and Suite-Sparse via Conda.\n",
      "  warnings.warn(msg)\n",
      " 45% (5 of 11) |###########               | Elapsed Time: 0:00:01 ETA:  0:00:01/Users/davidmodjeska/anaconda/lib/python3.6/site-packages/pygam/utils.py:69: UserWarning: Could not import Scikit-Sparse or Suite-Sparse.\n",
      "This will slow down optimization for models with monotonicity/convexity penalties and many splines.\n",
      "See installation instructions for installing Scikit-Sparse and Suite-Sparse via Conda.\n",
      "  warnings.warn(msg)\n",
      " 54% (6 of 11) |##############            | Elapsed Time: 0:00:01 ETA:  0:00:01/Users/davidmodjeska/anaconda/lib/python3.6/site-packages/pygam/utils.py:69: UserWarning: Could not import Scikit-Sparse or Suite-Sparse.\n",
      "This will slow down optimization for models with monotonicity/convexity penalties and many splines.\n",
      "See installation instructions for installing Scikit-Sparse and Suite-Sparse via Conda.\n",
      "  warnings.warn(msg)\n",
      " 63% (7 of 11) |################          | Elapsed Time: 0:00:01 ETA:  0:00:00/Users/davidmodjeska/anaconda/lib/python3.6/site-packages/pygam/utils.py:69: UserWarning: Could not import Scikit-Sparse or Suite-Sparse.\n",
      "This will slow down optimization for models with monotonicity/convexity penalties and many splines.\n",
      "See installation instructions for installing Scikit-Sparse and Suite-Sparse via Conda.\n",
      "  warnings.warn(msg)\n",
      " 72% (8 of 11) |##################        | Elapsed Time: 0:00:01 ETA:  0:00:00/Users/davidmodjeska/anaconda/lib/python3.6/site-packages/pygam/utils.py:69: UserWarning: Could not import Scikit-Sparse or Suite-Sparse.\n",
      "This will slow down optimization for models with monotonicity/convexity penalties and many splines.\n",
      "See installation instructions for installing Scikit-Sparse and Suite-Sparse via Conda.\n",
      "  warnings.warn(msg)\n",
      " 81% (9 of 11) |#####################     | Elapsed Time: 0:00:01 ETA:  0:00:00/Users/davidmodjeska/anaconda/lib/python3.6/site-packages/pygam/utils.py:69: UserWarning: Could not import Scikit-Sparse or Suite-Sparse.\n",
      "This will slow down optimization for models with monotonicity/convexity penalties and many splines.\n",
      "See installation instructions for installing Scikit-Sparse and Suite-Sparse via Conda.\n",
      "  warnings.warn(msg)\n",
      " 90% (10 of 11) |######################   | Elapsed Time: 0:00:02 ETA:  0:00:00/Users/davidmodjeska/anaconda/lib/python3.6/site-packages/pygam/utils.py:69: UserWarning: Could not import Scikit-Sparse or Suite-Sparse.\n",
      "This will slow down optimization for models with monotonicity/convexity penalties and many splines.\n",
      "See installation instructions for installing Scikit-Sparse and Suite-Sparse via Conda.\n",
      "  warnings.warn(msg)\n",
      "100% (11 of 11) |#########################| Elapsed Time: 0:00:02 Time: 0:00:02\n",
      "/Users/davidmodjeska/anaconda/lib/python3.6/site-packages/xgboost-0.6-py3.6.egg/xgboost/sklearn.py:201: DeprecationWarning: The seed parameter is deprecated as of version .6.Please use random_state instead.seed is deprecated.\n",
      "  'seed is deprecated.', DeprecationWarning)\n"
     ]
    },
    {
     "data": {
      "text/html": [
       "<h3>Score model on test data</h3>"
      ],
      "text/plain": [
       "<IPython.core.display.HTML object>"
      ]
     },
     "metadata": {},
     "output_type": "display_data"
    },
    {
     "data": {
      "text/html": [
       "<h4>RMSE from naive model that always predicts the previous week's rate</h4>"
      ],
      "text/plain": [
       "<IPython.core.display.HTML object>"
      ]
     },
     "metadata": {},
     "output_type": "display_data"
    },
    {
     "name": "stdout",
     "output_type": "stream",
     "text": [
      "RMSE: 0.00013\n"
     ]
    },
    {
     "data": {
      "text/html": [
       "<h4>RMSE from fitted model</h4>"
      ],
      "text/plain": [
       "<IPython.core.display.HTML object>"
      ]
     },
     "metadata": {},
     "output_type": "display_data"
    },
    {
     "name": "stdout",
     "output_type": "stream",
     "text": [
      "RMSE: 0.00014\n"
     ]
    }
   ],
   "source": [
    "naive_rmse, fx_rmse = do_one_model('JPY', feature_col_names = ['JP_FX'], verbose = 0)"
   ]
  },
  {
   "cell_type": "markdown",
   "metadata": {},
   "source": [
    "### FX rates and other features"
   ]
  },
  {
   "cell_type": "code",
   "execution_count": 35,
   "metadata": {
    "scrolled": false
   },
   "outputs": [
    {
     "data": {
      "text/html": [
       "<h3>Prepare model data</h3>"
      ],
      "text/plain": [
       "<IPython.core.display.HTML object>"
      ]
     },
     "metadata": {},
     "output_type": "display_data"
    },
    {
     "name": "stdout",
     "output_type": "stream",
     "text": [
      "Time period: 2000-01-03 - 2017-12-09\n"
     ]
    },
    {
     "data": {
      "text/html": [
       "<h4>Features in Model</h4>"
      ],
      "text/plain": [
       "<IPython.core.display.HTML object>"
      ]
     },
     "metadata": {},
     "output_type": "display_data"
    },
    {
     "name": "stdout",
     "output_type": "stream",
     "text": [
      "JP_FX, JP_GDP, JP_UR, JP_CPI\n",
      "\n",
      "Scaled data shape: (6551, 4)\n",
      "Reframed data shape: (6538, 29)\n"
     ]
    },
    {
     "data": {
      "text/html": [
       "<h4>First few rows of supervised data</h4>"
      ],
      "text/plain": [
       "<IPython.core.display.HTML object>"
      ]
     },
     "metadata": {},
     "output_type": "display_data"
    },
    {
     "data": {
      "text/html": [
       "<p>"
      ],
      "text/plain": [
       "<IPython.core.display.HTML object>"
      ]
     },
     "metadata": {},
     "output_type": "display_data"
    },
    {
     "data": {
      "text/html": [
       "<table border=\"1\" class=\"dataframe\">\n",
       "  <thead>\n",
       "    <tr style=\"text-align: right;\">\n",
       "      <th>JP_FX(t-7)</th>\n",
       "      <th>JP_GDP(t-7)</th>\n",
       "      <th>JP_UR(t-7)</th>\n",
       "      <th>JP_CPI(t-7)</th>\n",
       "      <th>JP_FX(t-6)</th>\n",
       "      <th>JP_GDP(t-6)</th>\n",
       "      <th>JP_UR(t-6)</th>\n",
       "      <th>JP_CPI(t-6)</th>\n",
       "      <th>JP_FX(t-5)</th>\n",
       "      <th>JP_GDP(t-5)</th>\n",
       "      <th>JP_UR(t-5)</th>\n",
       "      <th>JP_CPI(t-5)</th>\n",
       "      <th>JP_FX(t-4)</th>\n",
       "      <th>JP_GDP(t-4)</th>\n",
       "      <th>JP_UR(t-4)</th>\n",
       "      <th>JP_CPI(t-4)</th>\n",
       "      <th>JP_FX(t-3)</th>\n",
       "      <th>JP_GDP(t-3)</th>\n",
       "      <th>JP_UR(t-3)</th>\n",
       "      <th>JP_CPI(t-3)</th>\n",
       "      <th>JP_FX(t-2)</th>\n",
       "      <th>JP_GDP(t-2)</th>\n",
       "      <th>JP_UR(t-2)</th>\n",
       "      <th>JP_CPI(t-2)</th>\n",
       "      <th>JP_FX(t-1)</th>\n",
       "      <th>JP_GDP(t-1)</th>\n",
       "      <th>JP_UR(t-1)</th>\n",
       "      <th>JP_CPI(t-1)</th>\n",
       "      <th>JP_FX(t+6)</th>\n",
       "    </tr>\n",
       "  </thead>\n",
       "  <tbody>\n",
       "    <tr>\n",
       "      <td>0.416969</td>\n",
       "      <td>0.941484</td>\n",
       "      <td>0.691880</td>\n",
       "      <td>0.261186</td>\n",
       "      <td>0.394057</td>\n",
       "      <td>0.938837</td>\n",
       "      <td>0.692992</td>\n",
       "      <td>0.262747</td>\n",
       "      <td>0.383072</td>\n",
       "      <td>0.936190</td>\n",
       "      <td>0.694105</td>\n",
       "      <td>0.264308</td>\n",
       "      <td>0.360591</td>\n",
       "      <td>0.933543</td>\n",
       "      <td>0.695217</td>\n",
       "      <td>0.265869</td>\n",
       "      <td>0.360903</td>\n",
       "      <td>0.930895</td>\n",
       "      <td>0.696329</td>\n",
       "      <td>0.267430</td>\n",
       "      <td>0.360330</td>\n",
       "      <td>0.928248</td>\n",
       "      <td>0.697442</td>\n",
       "      <td>0.268991</td>\n",
       "      <td>0.359758</td>\n",
       "      <td>0.925601</td>\n",
       "      <td>0.698554</td>\n",
       "      <td>0.270552</td>\n",
       "      <td>0.352097</td>\n",
       "    </tr>\n",
       "    <tr>\n",
       "      <td>0.394057</td>\n",
       "      <td>0.938837</td>\n",
       "      <td>0.692992</td>\n",
       "      <td>0.262747</td>\n",
       "      <td>0.383072</td>\n",
       "      <td>0.936190</td>\n",
       "      <td>0.694105</td>\n",
       "      <td>0.264308</td>\n",
       "      <td>0.360591</td>\n",
       "      <td>0.933543</td>\n",
       "      <td>0.695217</td>\n",
       "      <td>0.265869</td>\n",
       "      <td>0.360903</td>\n",
       "      <td>0.930895</td>\n",
       "      <td>0.696329</td>\n",
       "      <td>0.267430</td>\n",
       "      <td>0.360330</td>\n",
       "      <td>0.928248</td>\n",
       "      <td>0.697442</td>\n",
       "      <td>0.268991</td>\n",
       "      <td>0.359758</td>\n",
       "      <td>0.925601</td>\n",
       "      <td>0.698554</td>\n",
       "      <td>0.270552</td>\n",
       "      <td>0.359186</td>\n",
       "      <td>0.922954</td>\n",
       "      <td>0.699666</td>\n",
       "      <td>0.272112</td>\n",
       "      <td>0.353050</td>\n",
       "    </tr>\n",
       "    <tr>\n",
       "      <td>0.383072</td>\n",
       "      <td>0.936190</td>\n",
       "      <td>0.694105</td>\n",
       "      <td>0.264308</td>\n",
       "      <td>0.360591</td>\n",
       "      <td>0.933543</td>\n",
       "      <td>0.695217</td>\n",
       "      <td>0.265869</td>\n",
       "      <td>0.360903</td>\n",
       "      <td>0.930895</td>\n",
       "      <td>0.696329</td>\n",
       "      <td>0.267430</td>\n",
       "      <td>0.360330</td>\n",
       "      <td>0.928248</td>\n",
       "      <td>0.697442</td>\n",
       "      <td>0.268991</td>\n",
       "      <td>0.359758</td>\n",
       "      <td>0.925601</td>\n",
       "      <td>0.698554</td>\n",
       "      <td>0.270552</td>\n",
       "      <td>0.359186</td>\n",
       "      <td>0.922954</td>\n",
       "      <td>0.699666</td>\n",
       "      <td>0.272112</td>\n",
       "      <td>0.346653</td>\n",
       "      <td>0.920307</td>\n",
       "      <td>0.700779</td>\n",
       "      <td>0.273673</td>\n",
       "      <td>0.355918</td>\n",
       "    </tr>\n",
       "    <tr>\n",
       "      <td>0.360591</td>\n",
       "      <td>0.933543</td>\n",
       "      <td>0.695217</td>\n",
       "      <td>0.265869</td>\n",
       "      <td>0.360903</td>\n",
       "      <td>0.930895</td>\n",
       "      <td>0.696329</td>\n",
       "      <td>0.267430</td>\n",
       "      <td>0.360330</td>\n",
       "      <td>0.928248</td>\n",
       "      <td>0.697442</td>\n",
       "      <td>0.268991</td>\n",
       "      <td>0.359758</td>\n",
       "      <td>0.925601</td>\n",
       "      <td>0.698554</td>\n",
       "      <td>0.270552</td>\n",
       "      <td>0.359186</td>\n",
       "      <td>0.922954</td>\n",
       "      <td>0.699666</td>\n",
       "      <td>0.272112</td>\n",
       "      <td>0.346653</td>\n",
       "      <td>0.920307</td>\n",
       "      <td>0.700779</td>\n",
       "      <td>0.273673</td>\n",
       "      <td>0.351736</td>\n",
       "      <td>0.917659</td>\n",
       "      <td>0.701891</td>\n",
       "      <td>0.275234</td>\n",
       "      <td>0.357473</td>\n",
       "    </tr>\n",
       "    <tr>\n",
       "      <td>0.360903</td>\n",
       "      <td>0.930895</td>\n",
       "      <td>0.696329</td>\n",
       "      <td>0.267430</td>\n",
       "      <td>0.360330</td>\n",
       "      <td>0.928248</td>\n",
       "      <td>0.697442</td>\n",
       "      <td>0.268991</td>\n",
       "      <td>0.359758</td>\n",
       "      <td>0.925601</td>\n",
       "      <td>0.698554</td>\n",
       "      <td>0.270552</td>\n",
       "      <td>0.359186</td>\n",
       "      <td>0.922954</td>\n",
       "      <td>0.699666</td>\n",
       "      <td>0.272112</td>\n",
       "      <td>0.346653</td>\n",
       "      <td>0.920307</td>\n",
       "      <td>0.700779</td>\n",
       "      <td>0.273673</td>\n",
       "      <td>0.351736</td>\n",
       "      <td>0.917659</td>\n",
       "      <td>0.701891</td>\n",
       "      <td>0.275234</td>\n",
       "      <td>0.346653</td>\n",
       "      <td>0.915012</td>\n",
       "      <td>0.703003</td>\n",
       "      <td>0.276795</td>\n",
       "      <td>0.356540</td>\n",
       "    </tr>\n",
       "  </tbody>\n",
       "</table>"
      ],
      "text/plain": [
       "<IPython.core.display.HTML object>"
      ]
     },
     "metadata": {},
     "output_type": "display_data"
    },
    {
     "data": {
      "text/html": [
       "<p>"
      ],
      "text/plain": [
       "<IPython.core.display.HTML object>"
      ]
     },
     "metadata": {},
     "output_type": "display_data"
    },
    {
     "data": {
      "text/html": [
       "<h4>Shape of train and test data</h4>"
      ],
      "text/plain": [
       "<IPython.core.display.HTML object>"
      ]
     },
     "metadata": {},
     "output_type": "display_data"
    },
    {
     "name": "stdout",
     "output_type": "stream",
     "text": [
      "(4375, 28) (4375,) (2156, 28) (2156,)\n"
     ]
    },
    {
     "data": {
      "text/html": [
       "<h3>Fit model</h3>"
      ],
      "text/plain": [
       "<IPython.core.display.HTML object>"
      ]
     },
     "metadata": {},
     "output_type": "display_data"
    },
    {
     "name": "stderr",
     "output_type": "stream",
     "text": [
      "N/A% (0 of 11) |                         | Elapsed Time: 0:00:00 ETA:  --:--:--/Users/davidmodjeska/anaconda/lib/python3.6/site-packages/pygam/utils.py:69: UserWarning: Could not import Scikit-Sparse or Suite-Sparse.\n",
      "This will slow down optimization for models with monotonicity/convexity penalties and many splines.\n",
      "See installation instructions for installing Scikit-Sparse and Suite-Sparse via Conda.\n",
      "  warnings.warn(msg)\n",
      "  9% (1 of 11) |##                        | Elapsed Time: 0:00:01 ETA:  0:00:14/Users/davidmodjeska/anaconda/lib/python3.6/site-packages/pygam/utils.py:69: UserWarning: Could not import Scikit-Sparse or Suite-Sparse.\n",
      "This will slow down optimization for models with monotonicity/convexity penalties and many splines.\n",
      "See installation instructions for installing Scikit-Sparse and Suite-Sparse via Conda.\n",
      "  warnings.warn(msg)\n",
      " 18% (2 of 11) |####                      | Elapsed Time: 0:00:02 ETA:  0:00:12/Users/davidmodjeska/anaconda/lib/python3.6/site-packages/pygam/utils.py:69: UserWarning: Could not import Scikit-Sparse or Suite-Sparse.\n",
      "This will slow down optimization for models with monotonicity/convexity penalties and many splines.\n",
      "See installation instructions for installing Scikit-Sparse and Suite-Sparse via Conda.\n",
      "  warnings.warn(msg)\n",
      " 27% (3 of 11) |#######                   | Elapsed Time: 0:00:04 ETA:  0:00:11/Users/davidmodjeska/anaconda/lib/python3.6/site-packages/pygam/utils.py:69: UserWarning: Could not import Scikit-Sparse or Suite-Sparse.\n",
      "This will slow down optimization for models with monotonicity/convexity penalties and many splines.\n",
      "See installation instructions for installing Scikit-Sparse and Suite-Sparse via Conda.\n",
      "  warnings.warn(msg)\n",
      " 36% (4 of 11) |#########                 | Elapsed Time: 0:00:05 ETA:  0:00:09/Users/davidmodjeska/anaconda/lib/python3.6/site-packages/pygam/utils.py:69: UserWarning: Could not import Scikit-Sparse or Suite-Sparse.\n",
      "This will slow down optimization for models with monotonicity/convexity penalties and many splines.\n",
      "See installation instructions for installing Scikit-Sparse and Suite-Sparse via Conda.\n",
      "  warnings.warn(msg)\n",
      " 45% (5 of 11) |###########               | Elapsed Time: 0:00:07 ETA:  0:00:08/Users/davidmodjeska/anaconda/lib/python3.6/site-packages/pygam/utils.py:69: UserWarning: Could not import Scikit-Sparse or Suite-Sparse.\n",
      "This will slow down optimization for models with monotonicity/convexity penalties and many splines.\n",
      "See installation instructions for installing Scikit-Sparse and Suite-Sparse via Conda.\n",
      "  warnings.warn(msg)\n",
      " 54% (6 of 11) |##############            | Elapsed Time: 0:00:08 ETA:  0:00:07/Users/davidmodjeska/anaconda/lib/python3.6/site-packages/pygam/utils.py:69: UserWarning: Could not import Scikit-Sparse or Suite-Sparse.\n",
      "This will slow down optimization for models with monotonicity/convexity penalties and many splines.\n",
      "See installation instructions for installing Scikit-Sparse and Suite-Sparse via Conda.\n",
      "  warnings.warn(msg)\n",
      " 63% (7 of 11) |################          | Elapsed Time: 0:00:09 ETA:  0:00:05/Users/davidmodjeska/anaconda/lib/python3.6/site-packages/pygam/utils.py:69: UserWarning: Could not import Scikit-Sparse or Suite-Sparse.\n",
      "This will slow down optimization for models with monotonicity/convexity penalties and many splines.\n",
      "See installation instructions for installing Scikit-Sparse and Suite-Sparse via Conda.\n",
      "  warnings.warn(msg)\n",
      " 72% (8 of 11) |##################        | Elapsed Time: 0:00:11 ETA:  0:00:04/Users/davidmodjeska/anaconda/lib/python3.6/site-packages/pygam/utils.py:69: UserWarning: Could not import Scikit-Sparse or Suite-Sparse.\n",
      "This will slow down optimization for models with monotonicity/convexity penalties and many splines.\n",
      "See installation instructions for installing Scikit-Sparse and Suite-Sparse via Conda.\n",
      "  warnings.warn(msg)\n",
      " 81% (9 of 11) |#####################     | Elapsed Time: 0:00:12 ETA:  0:00:02/Users/davidmodjeska/anaconda/lib/python3.6/site-packages/pygam/utils.py:69: UserWarning: Could not import Scikit-Sparse or Suite-Sparse.\n",
      "This will slow down optimization for models with monotonicity/convexity penalties and many splines.\n",
      "See installation instructions for installing Scikit-Sparse and Suite-Sparse via Conda.\n",
      "  warnings.warn(msg)\n",
      " 90% (10 of 11) |######################   | Elapsed Time: 0:00:14 ETA:  0:00:01/Users/davidmodjeska/anaconda/lib/python3.6/site-packages/pygam/utils.py:69: UserWarning: Could not import Scikit-Sparse or Suite-Sparse.\n",
      "This will slow down optimization for models with monotonicity/convexity penalties and many splines.\n",
      "See installation instructions for installing Scikit-Sparse and Suite-Sparse via Conda.\n",
      "  warnings.warn(msg)\n",
      "100% (11 of 11) |#########################| Elapsed Time: 0:00:15 Time: 0:00:15\n",
      "/Users/davidmodjeska/anaconda/lib/python3.6/site-packages/xgboost-0.6-py3.6.egg/xgboost/sklearn.py:201: DeprecationWarning: The seed parameter is deprecated as of version .6.Please use random_state instead.seed is deprecated.\n",
      "  'seed is deprecated.', DeprecationWarning)\n"
     ]
    },
    {
     "data": {
      "text/html": [
       "<h3>Score model on test data</h3>"
      ],
      "text/plain": [
       "<IPython.core.display.HTML object>"
      ]
     },
     "metadata": {},
     "output_type": "display_data"
    },
    {
     "data": {
      "text/html": [
       "<h4>RMSE from naive model that always predicts the previous week's rate</h4>"
      ],
      "text/plain": [
       "<IPython.core.display.HTML object>"
      ]
     },
     "metadata": {},
     "output_type": "display_data"
    },
    {
     "name": "stdout",
     "output_type": "stream",
     "text": [
      "RMSE: 0.00013\n"
     ]
    },
    {
     "data": {
      "text/html": [
       "<h4>RMSE from fitted model</h4>"
      ],
      "text/plain": [
       "<IPython.core.display.HTML object>"
      ]
     },
     "metadata": {},
     "output_type": "display_data"
    },
    {
     "name": "stdout",
     "output_type": "stream",
     "text": [
      "RMSE: 7e-05\n"
     ]
    }
   ],
   "source": [
    "naive_rmse, fx_features_rmse = do_one_model('JPY', feature_col_names = ['JP_FX', 'JP_GDP', 'JP_UR', 'JP_CPI'])"
   ]
  },
  {
   "cell_type": "markdown",
   "metadata": {},
   "source": [
    "### All features"
   ]
  },
  {
   "cell_type": "code",
   "execution_count": 36,
   "metadata": {
    "scrolled": false
   },
   "outputs": [
    {
     "data": {
      "text/html": [
       "<h3>Prepare model data</h3>"
      ],
      "text/plain": [
       "<IPython.core.display.HTML object>"
      ]
     },
     "metadata": {},
     "output_type": "display_data"
    },
    {
     "name": "stdout",
     "output_type": "stream",
     "text": [
      "Time period: 2000-01-03 - 2012-12-05\n",
      "Scaled data shape: (4721, 141)\n",
      "Reframed data shape: (4708, 988)\n"
     ]
    },
    {
     "data": {
      "image/png": "[encoded data removed]",
      "text/plain": [
       "<matplotlib.figure.Figure at 0x1a16aa36a0>"
      ]
     },
     "metadata": {},
     "output_type": "display_data"
    },
    {
     "name": "stdout",
     "output_type": "stream",
     "text": [
      "Cumulative variance explained by the first 93 components: 0.999\n"
     ]
    },
    {
     "data": {
      "text/html": [
       "<h4>Shape of train and test data after PCA</h4>"
      ],
      "text/plain": [
       "<IPython.core.display.HTML object>"
      ]
     },
     "metadata": {},
     "output_type": "display_data"
    },
    {
     "name": "stdout",
     "output_type": "stream",
     "text": [
      "Reduced data shape: (4708, 94)\n"
     ]
    },
    {
     "data": {
      "text/html": [
       "<h4>Shape of train and test data</h4>"
      ],
      "text/plain": [
       "<IPython.core.display.HTML object>"
      ]
     },
     "metadata": {},
     "output_type": "display_data"
    },
    {
     "name": "stdout",
     "output_type": "stream",
     "text": [
      "(3149, 93) (3149,) (1552, 93) (1552,)\n"
     ]
    },
    {
     "data": {
      "text/html": [
       "<h3>Fit model</h3>"
      ],
      "text/plain": [
       "<IPython.core.display.HTML object>"
      ]
     },
     "metadata": {},
     "output_type": "display_data"
    },
    {
     "name": "stderr",
     "output_type": "stream",
     "text": [
      "N/A% (0 of 11) |                         | Elapsed Time: 0:00:00 ETA:  --:--:--/Users/davidmodjeska/anaconda/lib/python3.6/site-packages/pygam/utils.py:69: UserWarning: Could not import Scikit-Sparse or Suite-Sparse.\n",
      "This will slow down optimization for models with monotonicity/convexity penalties and many splines.\n",
      "See installation instructions for installing Scikit-Sparse and Suite-Sparse via Conda.\n",
      "  warnings.warn(msg)\n",
      "/Users/davidmodjeska/anaconda/lib/python3.6/site-packages/pygam/pygam.py:597: RuntimeWarning: divide by zero encountered in log\n",
      "  return np.log(self.distribution.pdf(y=y, mu=mu, weights=weights)).sum()\n",
      "  9% (1 of 11) |##                        | Elapsed Time: 0:00:16 ETA:  0:02:41/Users/davidmodjeska/anaconda/lib/python3.6/site-packages/pygam/utils.py:69: UserWarning: Could not import Scikit-Sparse or Suite-Sparse.\n",
      "This will slow down optimization for models with monotonicity/convexity penalties and many splines.\n",
      "See installation instructions for installing Scikit-Sparse and Suite-Sparse via Conda.\n",
      "  warnings.warn(msg)\n",
      "/Users/davidmodjeska/anaconda/lib/python3.6/site-packages/pygam/pygam.py:597: RuntimeWarning: divide by zero encountered in log\n",
      "  return np.log(self.distribution.pdf(y=y, mu=mu, weights=weights)).sum()\n",
      " 18% (2 of 11) |####                      | Elapsed Time: 0:00:33 ETA:  0:02:28/Users/davidmodjeska/anaconda/lib/python3.6/site-packages/pygam/utils.py:69: UserWarning: Could not import Scikit-Sparse or Suite-Sparse.\n",
      "This will slow down optimization for models with monotonicity/convexity penalties and many splines.\n",
      "See installation instructions for installing Scikit-Sparse and Suite-Sparse via Conda.\n",
      "  warnings.warn(msg)\n",
      "/Users/davidmodjeska/anaconda/lib/python3.6/site-packages/pygam/pygam.py:597: RuntimeWarning: divide by zero encountered in log\n",
      "  return np.log(self.distribution.pdf(y=y, mu=mu, weights=weights)).sum()\n",
      " 27% (3 of 11) |#######                   | Elapsed Time: 0:00:50 ETA:  0:02:14/Users/davidmodjeska/anaconda/lib/python3.6/site-packages/pygam/utils.py:69: UserWarning: Could not import Scikit-Sparse or Suite-Sparse.\n",
      "This will slow down optimization for models with monotonicity/convexity penalties and many splines.\n",
      "See installation instructions for installing Scikit-Sparse and Suite-Sparse via Conda.\n",
      "  warnings.warn(msg)\n",
      "/Users/davidmodjeska/anaconda/lib/python3.6/site-packages/pygam/pygam.py:597: RuntimeWarning: divide by zero encountered in log\n",
      "  return np.log(self.distribution.pdf(y=y, mu=mu, weights=weights)).sum()\n",
      " 36% (4 of 11) |#########                 | Elapsed Time: 0:01:07 ETA:  0:01:58/Users/davidmodjeska/anaconda/lib/python3.6/site-packages/pygam/utils.py:69: UserWarning: Could not import Scikit-Sparse or Suite-Sparse.\n",
      "This will slow down optimization for models with monotonicity/convexity penalties and many splines.\n",
      "See installation instructions for installing Scikit-Sparse and Suite-Sparse via Conda.\n",
      "  warnings.warn(msg)\n",
      "/Users/davidmodjeska/anaconda/lib/python3.6/site-packages/pygam/pygam.py:597: RuntimeWarning: divide by zero encountered in log\n",
      "  return np.log(self.distribution.pdf(y=y, mu=mu, weights=weights)).sum()\n",
      " 45% (5 of 11) |###########               | Elapsed Time: 0:01:24 ETA:  0:01:41/Users/davidmodjeska/anaconda/lib/python3.6/site-packages/pygam/utils.py:69: UserWarning: Could not import Scikit-Sparse or Suite-Sparse.\n",
      "This will slow down optimization for models with monotonicity/convexity penalties and many splines.\n",
      "See installation instructions for installing Scikit-Sparse and Suite-Sparse via Conda.\n",
      "  warnings.warn(msg)\n",
      "/Users/davidmodjeska/anaconda/lib/python3.6/site-packages/pygam/pygam.py:597: RuntimeWarning: divide by zero encountered in log\n",
      "  return np.log(self.distribution.pdf(y=y, mu=mu, weights=weights)).sum()\n",
      " 54% (6 of 11) |##############            | Elapsed Time: 0:01:42 ETA:  0:01:25/Users/davidmodjeska/anaconda/lib/python3.6/site-packages/pygam/utils.py:69: UserWarning: Could not import Scikit-Sparse or Suite-Sparse.\n",
      "This will slow down optimization for models with monotonicity/convexity penalties and many splines.\n",
      "See installation instructions for installing Scikit-Sparse and Suite-Sparse via Conda.\n",
      "  warnings.warn(msg)\n",
      "/Users/davidmodjeska/anaconda/lib/python3.6/site-packages/pygam/pygam.py:597: RuntimeWarning: divide by zero encountered in log\n",
      "  return np.log(self.distribution.pdf(y=y, mu=mu, weights=weights)).sum()\n",
      " 63% (7 of 11) |################          | Elapsed Time: 0:01:59 ETA:  0:01:08/Users/davidmodjeska/anaconda/lib/python3.6/site-packages/pygam/utils.py:69: UserWarning: Could not import Scikit-Sparse or Suite-Sparse.\n",
      "This will slow down optimization for models with monotonicity/convexity penalties and many splines.\n",
      "See installation instructions for installing Scikit-Sparse and Suite-Sparse via Conda.\n",
      "  warnings.warn(msg)\n",
      " 72% (8 of 11) |##################        | Elapsed Time: 0:02:16 ETA:  0:00:51/Users/davidmodjeska/anaconda/lib/python3.6/site-packages/pygam/utils.py:69: UserWarning: Could not import Scikit-Sparse or Suite-Sparse.\n",
      "This will slow down optimization for models with monotonicity/convexity penalties and many splines.\n",
      "See installation instructions for installing Scikit-Sparse and Suite-Sparse via Conda.\n",
      "  warnings.warn(msg)\n",
      " 81% (9 of 11) |#####################     | Elapsed Time: 0:02:34 ETA:  0:00:34/Users/davidmodjeska/anaconda/lib/python3.6/site-packages/pygam/utils.py:69: UserWarning: Could not import Scikit-Sparse or Suite-Sparse.\n",
      "This will slow down optimization for models with monotonicity/convexity penalties and many splines.\n",
      "See installation instructions for installing Scikit-Sparse and Suite-Sparse via Conda.\n",
      "  warnings.warn(msg)\n",
      " 90% (10 of 11) |######################   | Elapsed Time: 0:02:52 ETA:  0:00:17/Users/davidmodjeska/anaconda/lib/python3.6/site-packages/pygam/utils.py:69: UserWarning: Could not import Scikit-Sparse or Suite-Sparse.\n",
      "This will slow down optimization for models with monotonicity/convexity penalties and many splines.\n",
      "See installation instructions for installing Scikit-Sparse and Suite-Sparse via Conda.\n",
      "  warnings.warn(msg)\n",
      "100% (11 of 11) |#########################| Elapsed Time: 0:03:09 Time: 0:03:09\n",
      "/Users/davidmodjeska/anaconda/lib/python3.6/site-packages/xgboost-0.6-py3.6.egg/xgboost/sklearn.py:201: DeprecationWarning: The seed parameter is deprecated as of version .6.Please use random_state instead.seed is deprecated.\n",
      "  'seed is deprecated.', DeprecationWarning)\n"
     ]
    },
    {
     "data": {
      "text/html": [
       "<h3>Score model on test data</h3>"
      ],
      "text/plain": [
       "<IPython.core.display.HTML object>"
      ]
     },
     "metadata": {},
     "output_type": "display_data"
    },
    {
     "data": {
      "text/html": [
       "<h4>RMSE from naive model that always predicts the previous week's rate</h4>"
      ],
      "text/plain": [
       "<IPython.core.display.HTML object>"
      ]
     },
     "metadata": {},
     "output_type": "display_data"
    },
    {
     "name": "stdout",
     "output_type": "stream",
     "text": [
      "RMSE: 0.00015\n"
     ]
    },
    {
     "data": {
      "text/html": [
       "<h4>RMSE from fitted model</h4>"
      ],
      "text/plain": [
       "<IPython.core.display.HTML object>"
      ]
     },
     "metadata": {},
     "output_type": "display_data"
    },
    {
     "name": "stdout",
     "output_type": "stream",
     "text": [
      "RMSE: 7e-05\n"
     ]
    },
    {
     "data": {
      "image/png": "[encoded data removed]",
      "text/plain": [
       "<matplotlib.figure.Figure at 0x11278fcc0>"
      ]
     },
     "metadata": {},
     "output_type": "display_data"
    },
    {
     "data": {
      "image/png": "[encoded data removed]",
      "text/plain": [
       "<matplotlib.figure.Figure at 0x1a17395630>"
      ]
     },
     "metadata": {},
     "output_type": "display_data"
    }
   ],
   "source": [
    "cols = [feature_cols[i] for i in range(n_feature_cols) \n",
    "        if re.search('JP_FX', feature_cols[i]) == None]\n",
    "naive_rmse, fx_all_rmse = do_one_model('JPY', feature_col_names = ['JP_FX'] + cols, do_pca = True)"
   ]
  },
  {
   "cell_type": "code",
   "execution_count": 37,
   "metadata": {},
   "outputs": [],
   "source": [
    "all_results = accum_results(all_results, 'JPY', naive_rmse, fx_rmse, fx_features_rmse, fx_all_rmse)"
   ]
  },
  {
   "cell_type": "markdown",
   "metadata": {},
   "source": [
    "## Switzerland"
   ]
  },
  {
   "cell_type": "markdown",
   "metadata": {},
   "source": [
    "### FX rates only"
   ]
  },
  {
   "cell_type": "code",
   "execution_count": 38,
   "metadata": {
    "scrolled": false
   },
   "outputs": [
    {
     "data": {
      "text/html": [
       "<h3>Prepare model data</h3>"
      ],
      "text/plain": [
       "<IPython.core.display.HTML object>"
      ]
     },
     "metadata": {},
     "output_type": "display_data"
    },
    {
     "name": "stdout",
     "output_type": "stream",
     "text": [
      "Time period: 2000-01-03 - 2017-12-09\n"
     ]
    },
    {
     "data": {
      "text/html": [
       "<h4>Features in Model</h4>"
      ],
      "text/plain": [
       "<IPython.core.display.HTML object>"
      ]
     },
     "metadata": {},
     "output_type": "display_data"
    },
    {
     "name": "stdout",
     "output_type": "stream",
     "text": [
      "CH_FX\n",
      "\n",
      "Scaled data shape: (6551, 1)\n",
      "Reframed data shape: (6538, 8)\n"
     ]
    },
    {
     "data": {
      "text/html": [
       "<h3>Fit model</h3>"
      ],
      "text/plain": [
       "<IPython.core.display.HTML object>"
      ]
     },
     "metadata": {},
     "output_type": "display_data"
    },
    {
     "name": "stderr",
     "output_type": "stream",
     "text": [
      "N/A% (0 of 11) |                         | Elapsed Time: 0:00:00 ETA:  --:--:--/Users/davidmodjeska/anaconda/lib/python3.6/site-packages/pygam/utils.py:69: UserWarning: Could not import Scikit-Sparse or Suite-Sparse.\n",
      "This will slow down optimization for models with monotonicity/convexity penalties and many splines.\n",
      "See installation instructions for installing Scikit-Sparse and Suite-Sparse via Conda.\n",
      "  warnings.warn(msg)\n",
      "  9% (1 of 11) |##                        | Elapsed Time: 0:00:00 ETA:  0:00:02/Users/davidmodjeska/anaconda/lib/python3.6/site-packages/pygam/utils.py:69: UserWarning: Could not import Scikit-Sparse or Suite-Sparse.\n",
      "This will slow down optimization for models with monotonicity/convexity penalties and many splines.\n",
      "See installation instructions for installing Scikit-Sparse and Suite-Sparse via Conda.\n",
      "  warnings.warn(msg)\n",
      " 18% (2 of 11) |####                      | Elapsed Time: 0:00:00 ETA:  0:00:01/Users/davidmodjeska/anaconda/lib/python3.6/site-packages/pygam/utils.py:69: UserWarning: Could not import Scikit-Sparse or Suite-Sparse.\n",
      "This will slow down optimization for models with monotonicity/convexity penalties and many splines.\n",
      "See installation instructions for installing Scikit-Sparse and Suite-Sparse via Conda.\n",
      "  warnings.warn(msg)\n",
      " 27% (3 of 11) |#######                   | Elapsed Time: 0:00:00 ETA:  0:00:01/Users/davidmodjeska/anaconda/lib/python3.6/site-packages/pygam/utils.py:69: UserWarning: Could not import Scikit-Sparse or Suite-Sparse.\n",
      "This will slow down optimization for models with monotonicity/convexity penalties and many splines.\n",
      "See installation instructions for installing Scikit-Sparse and Suite-Sparse via Conda.\n",
      "  warnings.warn(msg)\n",
      " 36% (4 of 11) |#########                 | Elapsed Time: 0:00:00 ETA:  0:00:01/Users/davidmodjeska/anaconda/lib/python3.6/site-packages/pygam/utils.py:69: UserWarning: Could not import Scikit-Sparse or Suite-Sparse.\n",
      "This will slow down optimization for models with monotonicity/convexity penalties and many splines.\n",
      "See installation instructions for installing Scikit-Sparse and Suite-Sparse via Conda.\n",
      "  warnings.warn(msg)\n",
      " 45% (5 of 11) |###########               | Elapsed Time: 0:00:01 ETA:  0:00:01/Users/davidmodjeska/anaconda/lib/python3.6/site-packages/pygam/utils.py:69: UserWarning: Could not import Scikit-Sparse or Suite-Sparse.\n",
      "This will slow down optimization for models with monotonicity/convexity penalties and many splines.\n",
      "See installation instructions for installing Scikit-Sparse and Suite-Sparse via Conda.\n",
      "  warnings.warn(msg)\n",
      " 54% (6 of 11) |##############            | Elapsed Time: 0:00:01 ETA:  0:00:01/Users/davidmodjeska/anaconda/lib/python3.6/site-packages/pygam/utils.py:69: UserWarning: Could not import Scikit-Sparse or Suite-Sparse.\n",
      "This will slow down optimization for models with monotonicity/convexity penalties and many splines.\n",
      "See installation instructions for installing Scikit-Sparse and Suite-Sparse via Conda.\n",
      "  warnings.warn(msg)\n",
      " 63% (7 of 11) |################          | Elapsed Time: 0:00:01 ETA:  0:00:00/Users/davidmodjeska/anaconda/lib/python3.6/site-packages/pygam/utils.py:69: UserWarning: Could not import Scikit-Sparse or Suite-Sparse.\n",
      "This will slow down optimization for models with monotonicity/convexity penalties and many splines.\n",
      "See installation instructions for installing Scikit-Sparse and Suite-Sparse via Conda.\n",
      "  warnings.warn(msg)\n",
      " 72% (8 of 11) |##################        | Elapsed Time: 0:00:01 ETA:  0:00:00/Users/davidmodjeska/anaconda/lib/python3.6/site-packages/pygam/utils.py:69: UserWarning: Could not import Scikit-Sparse or Suite-Sparse.\n",
      "This will slow down optimization for models with monotonicity/convexity penalties and many splines.\n",
      "See installation instructions for installing Scikit-Sparse and Suite-Sparse via Conda.\n",
      "  warnings.warn(msg)\n",
      " 81% (9 of 11) |#####################     | Elapsed Time: 0:00:01 ETA:  0:00:00/Users/davidmodjeska/anaconda/lib/python3.6/site-packages/pygam/utils.py:69: UserWarning: Could not import Scikit-Sparse or Suite-Sparse.\n",
      "This will slow down optimization for models with monotonicity/convexity penalties and many splines.\n",
      "See installation instructions for installing Scikit-Sparse and Suite-Sparse via Conda.\n",
      "  warnings.warn(msg)\n",
      " 90% (10 of 11) |######################   | Elapsed Time: 0:00:02 ETA:  0:00:00/Users/davidmodjeska/anaconda/lib/python3.6/site-packages/pygam/utils.py:69: UserWarning: Could not import Scikit-Sparse or Suite-Sparse.\n",
      "This will slow down optimization for models with monotonicity/convexity penalties and many splines.\n",
      "See installation instructions for installing Scikit-Sparse and Suite-Sparse via Conda.\n",
      "  warnings.warn(msg)\n",
      "100% (11 of 11) |#########################| Elapsed Time: 0:00:02 Time: 0:00:02\n",
      "/Users/davidmodjeska/anaconda/lib/python3.6/site-packages/xgboost-0.6-py3.6.egg/xgboost/sklearn.py:201: DeprecationWarning: The seed parameter is deprecated as of version .6.Please use random_state instead.seed is deprecated.\n",
      "  'seed is deprecated.', DeprecationWarning)\n"
     ]
    },
    {
     "data": {
      "text/html": [
       "<h3>Score model on test data</h3>"
      ],
      "text/plain": [
       "<IPython.core.display.HTML object>"
      ]
     },
     "metadata": {},
     "output_type": "display_data"
    },
    {
     "data": {
      "text/html": [
       "<h4>RMSE from naive model that always predicts the previous week's rate</h4>"
      ],
      "text/plain": [
       "<IPython.core.display.HTML object>"
      ]
     },
     "metadata": {},
     "output_type": "display_data"
    },
    {
     "name": "stdout",
     "output_type": "stream",
     "text": [
      "RMSE: 0.01735\n"
     ]
    },
    {
     "data": {
      "text/html": [
       "<h4>RMSE from fitted model</h4>"
      ],
      "text/plain": [
       "<IPython.core.display.HTML object>"
      ]
     },
     "metadata": {},
     "output_type": "display_data"
    },
    {
     "name": "stdout",
     "output_type": "stream",
     "text": [
      "RMSE: 0.01786\n"
     ]
    }
   ],
   "source": [
    "naive_rmse, fx_rmse = do_one_model('CHF', feature_col_names = ['CH_FX'], verbose = 0)"
   ]
  },
  {
   "cell_type": "markdown",
   "metadata": {},
   "source": [
    "### FX rates and other features"
   ]
  },
  {
   "cell_type": "code",
   "execution_count": 39,
   "metadata": {
    "scrolled": false
   },
   "outputs": [
    {
     "data": {
      "text/html": [
       "<h3>Prepare model data</h3>"
      ],
      "text/plain": [
       "<IPython.core.display.HTML object>"
      ]
     },
     "metadata": {},
     "output_type": "display_data"
    },
    {
     "name": "stdout",
     "output_type": "stream",
     "text": [
      "Time period: 2000-01-03 - 2017-12-09\n"
     ]
    },
    {
     "data": {
      "text/html": [
       "<h4>Features in Model</h4>"
      ],
      "text/plain": [
       "<IPython.core.display.HTML object>"
      ]
     },
     "metadata": {},
     "output_type": "display_data"
    },
    {
     "name": "stdout",
     "output_type": "stream",
     "text": [
      "CH_FX, CH_INT_TB, CH_GDP, CH_CPI, CH_UR\n",
      "\n",
      "Scaled data shape: (6551, 5)\n",
      "Reframed data shape: (6538, 36)\n"
     ]
    },
    {
     "data": {
      "text/html": [
       "<h4>First few rows of supervised data</h4>"
      ],
      "text/plain": [
       "<IPython.core.display.HTML object>"
      ]
     },
     "metadata": {},
     "output_type": "display_data"
    },
    {
     "data": {
      "text/html": [
       "<p>"
      ],
      "text/plain": [
       "<IPython.core.display.HTML object>"
      ]
     },
     "metadata": {},
     "output_type": "display_data"
    },
    {
     "data": {
      "text/html": [
       "<table border=\"1\" class=\"dataframe\">\n",
       "  <thead>\n",
       "    <tr style=\"text-align: right;\">\n",
       "      <th>CH_FX(t-7)</th>\n",
       "      <th>CH_INT_TB(t-7)</th>\n",
       "      <th>CH_GDP(t-7)</th>\n",
       "      <th>CH_CPI(t-7)</th>\n",
       "      <th>CH_UR(t-7)</th>\n",
       "      <th>CH_FX(t-6)</th>\n",
       "      <th>CH_INT_TB(t-6)</th>\n",
       "      <th>CH_GDP(t-6)</th>\n",
       "      <th>CH_CPI(t-6)</th>\n",
       "      <th>CH_UR(t-6)</th>\n",
       "      <th>CH_FX(t-5)</th>\n",
       "      <th>CH_INT_TB(t-5)</th>\n",
       "      <th>CH_GDP(t-5)</th>\n",
       "      <th>CH_CPI(t-5)</th>\n",
       "      <th>CH_UR(t-5)</th>\n",
       "      <th>CH_FX(t-4)</th>\n",
       "      <th>CH_INT_TB(t-4)</th>\n",
       "      <th>CH_GDP(t-4)</th>\n",
       "      <th>CH_CPI(t-4)</th>\n",
       "      <th>CH_UR(t-4)</th>\n",
       "      <th>CH_FX(t-3)</th>\n",
       "      <th>CH_INT_TB(t-3)</th>\n",
       "      <th>CH_GDP(t-3)</th>\n",
       "      <th>CH_CPI(t-3)</th>\n",
       "      <th>CH_UR(t-3)</th>\n",
       "      <th>CH_FX(t-2)</th>\n",
       "      <th>CH_INT_TB(t-2)</th>\n",
       "      <th>CH_GDP(t-2)</th>\n",
       "      <th>CH_CPI(t-2)</th>\n",
       "      <th>CH_UR(t-2)</th>\n",
       "      <th>CH_FX(t-1)</th>\n",
       "      <th>CH_INT_TB(t-1)</th>\n",
       "      <th>CH_GDP(t-1)</th>\n",
       "      <th>CH_CPI(t-1)</th>\n",
       "      <th>CH_UR(t-1)</th>\n",
       "      <th>CH_FX(t+6)</th>\n",
       "    </tr>\n",
       "  </thead>\n",
       "  <tbody>\n",
       "    <tr>\n",
       "      <td>0.777068</td>\n",
       "      <td>0.914547</td>\n",
       "      <td>0.811697</td>\n",
       "      <td>0.666667</td>\n",
       "      <td>0.191462</td>\n",
       "      <td>0.754884</td>\n",
       "      <td>0.915161</td>\n",
       "      <td>0.810766</td>\n",
       "      <td>0.666667</td>\n",
       "      <td>0.191040</td>\n",
       "      <td>0.751324</td>\n",
       "      <td>0.915774</td>\n",
       "      <td>0.809834</td>\n",
       "      <td>0.666667</td>\n",
       "      <td>0.190617</td>\n",
       "      <td>0.752602</td>\n",
       "      <td>0.916388</td>\n",
       "      <td>0.808903</td>\n",
       "      <td>0.666667</td>\n",
       "      <td>0.190194</td>\n",
       "      <td>0.760179</td>\n",
       "      <td>0.917002</td>\n",
       "      <td>0.807972</td>\n",
       "      <td>0.666667</td>\n",
       "      <td>0.189772</td>\n",
       "      <td>0.762644</td>\n",
       "      <td>0.917616</td>\n",
       "      <td>0.807040</td>\n",
       "      <td>0.666667</td>\n",
       "      <td>0.189349</td>\n",
       "      <td>0.765109</td>\n",
       "      <td>0.918230</td>\n",
       "      <td>0.806109</td>\n",
       "      <td>0.666667</td>\n",
       "      <td>0.188926</td>\n",
       "      <td>0.789483</td>\n",
       "    </tr>\n",
       "    <tr>\n",
       "      <td>0.754884</td>\n",
       "      <td>0.915161</td>\n",
       "      <td>0.810766</td>\n",
       "      <td>0.666667</td>\n",
       "      <td>0.191040</td>\n",
       "      <td>0.751324</td>\n",
       "      <td>0.915774</td>\n",
       "      <td>0.809834</td>\n",
       "      <td>0.666667</td>\n",
       "      <td>0.190617</td>\n",
       "      <td>0.752602</td>\n",
       "      <td>0.916388</td>\n",
       "      <td>0.808903</td>\n",
       "      <td>0.666667</td>\n",
       "      <td>0.190194</td>\n",
       "      <td>0.760179</td>\n",
       "      <td>0.917002</td>\n",
       "      <td>0.807972</td>\n",
       "      <td>0.666667</td>\n",
       "      <td>0.189772</td>\n",
       "      <td>0.762644</td>\n",
       "      <td>0.917616</td>\n",
       "      <td>0.807040</td>\n",
       "      <td>0.666667</td>\n",
       "      <td>0.189349</td>\n",
       "      <td>0.765109</td>\n",
       "      <td>0.918230</td>\n",
       "      <td>0.806109</td>\n",
       "      <td>0.666667</td>\n",
       "      <td>0.188926</td>\n",
       "      <td>0.767573</td>\n",
       "      <td>0.918843</td>\n",
       "      <td>0.805178</td>\n",
       "      <td>0.666667</td>\n",
       "      <td>0.188504</td>\n",
       "      <td>0.789438</td>\n",
       "    </tr>\n",
       "    <tr>\n",
       "      <td>0.751324</td>\n",
       "      <td>0.915774</td>\n",
       "      <td>0.809834</td>\n",
       "      <td>0.666667</td>\n",
       "      <td>0.190617</td>\n",
       "      <td>0.752602</td>\n",
       "      <td>0.916388</td>\n",
       "      <td>0.808903</td>\n",
       "      <td>0.666667</td>\n",
       "      <td>0.190194</td>\n",
       "      <td>0.760179</td>\n",
       "      <td>0.917002</td>\n",
       "      <td>0.807972</td>\n",
       "      <td>0.666667</td>\n",
       "      <td>0.189772</td>\n",
       "      <td>0.762644</td>\n",
       "      <td>0.917616</td>\n",
       "      <td>0.807040</td>\n",
       "      <td>0.666667</td>\n",
       "      <td>0.189349</td>\n",
       "      <td>0.765109</td>\n",
       "      <td>0.918230</td>\n",
       "      <td>0.806109</td>\n",
       "      <td>0.666667</td>\n",
       "      <td>0.188926</td>\n",
       "      <td>0.767573</td>\n",
       "      <td>0.918843</td>\n",
       "      <td>0.805178</td>\n",
       "      <td>0.666667</td>\n",
       "      <td>0.188504</td>\n",
       "      <td>0.758536</td>\n",
       "      <td>0.919457</td>\n",
       "      <td>0.804247</td>\n",
       "      <td>0.666667</td>\n",
       "      <td>0.188081</td>\n",
       "      <td>0.789301</td>\n",
       "    </tr>\n",
       "    <tr>\n",
       "      <td>0.752602</td>\n",
       "      <td>0.916388</td>\n",
       "      <td>0.808903</td>\n",
       "      <td>0.666667</td>\n",
       "      <td>0.190194</td>\n",
       "      <td>0.760179</td>\n",
       "      <td>0.917002</td>\n",
       "      <td>0.807972</td>\n",
       "      <td>0.666667</td>\n",
       "      <td>0.189772</td>\n",
       "      <td>0.762644</td>\n",
       "      <td>0.917616</td>\n",
       "      <td>0.807040</td>\n",
       "      <td>0.666667</td>\n",
       "      <td>0.189349</td>\n",
       "      <td>0.765109</td>\n",
       "      <td>0.918230</td>\n",
       "      <td>0.806109</td>\n",
       "      <td>0.666667</td>\n",
       "      <td>0.188926</td>\n",
       "      <td>0.767573</td>\n",
       "      <td>0.918843</td>\n",
       "      <td>0.805178</td>\n",
       "      <td>0.666667</td>\n",
       "      <td>0.188504</td>\n",
       "      <td>0.758536</td>\n",
       "      <td>0.919457</td>\n",
       "      <td>0.804247</td>\n",
       "      <td>0.666667</td>\n",
       "      <td>0.188081</td>\n",
       "      <td>0.763557</td>\n",
       "      <td>0.920071</td>\n",
       "      <td>0.803315</td>\n",
       "      <td>0.666667</td>\n",
       "      <td>0.187658</td>\n",
       "      <td>0.791400</td>\n",
       "    </tr>\n",
       "    <tr>\n",
       "      <td>0.760179</td>\n",
       "      <td>0.917002</td>\n",
       "      <td>0.807972</td>\n",
       "      <td>0.666667</td>\n",
       "      <td>0.189772</td>\n",
       "      <td>0.762644</td>\n",
       "      <td>0.917616</td>\n",
       "      <td>0.807040</td>\n",
       "      <td>0.666667</td>\n",
       "      <td>0.189349</td>\n",
       "      <td>0.765109</td>\n",
       "      <td>0.918230</td>\n",
       "      <td>0.806109</td>\n",
       "      <td>0.666667</td>\n",
       "      <td>0.188926</td>\n",
       "      <td>0.767573</td>\n",
       "      <td>0.918843</td>\n",
       "      <td>0.805178</td>\n",
       "      <td>0.666667</td>\n",
       "      <td>0.188504</td>\n",
       "      <td>0.758536</td>\n",
       "      <td>0.919457</td>\n",
       "      <td>0.804247</td>\n",
       "      <td>0.666667</td>\n",
       "      <td>0.188081</td>\n",
       "      <td>0.763557</td>\n",
       "      <td>0.920071</td>\n",
       "      <td>0.803315</td>\n",
       "      <td>0.666667</td>\n",
       "      <td>0.187658</td>\n",
       "      <td>0.767847</td>\n",
       "      <td>0.920685</td>\n",
       "      <td>0.802384</td>\n",
       "      <td>0.666667</td>\n",
       "      <td>0.187236</td>\n",
       "      <td>0.786836</td>\n",
       "    </tr>\n",
       "  </tbody>\n",
       "</table>"
      ],
      "text/plain": [
       "<IPython.core.display.HTML object>"
      ]
     },
     "metadata": {},
     "output_type": "display_data"
    },
    {
     "data": {
      "text/html": [
       "<p>"
      ],
      "text/plain": [
       "<IPython.core.display.HTML object>"
      ]
     },
     "metadata": {},
     "output_type": "display_data"
    },
    {
     "data": {
      "text/html": [
       "<h4>Shape of train and test data</h4>"
      ],
      "text/plain": [
       "<IPython.core.display.HTML object>"
      ]
     },
     "metadata": {},
     "output_type": "display_data"
    },
    {
     "name": "stdout",
     "output_type": "stream",
     "text": [
      "(4375, 35) (4375,) (2156, 35) (2156,)\n"
     ]
    },
    {
     "data": {
      "text/html": [
       "<h3>Fit model</h3>"
      ],
      "text/plain": [
       "<IPython.core.display.HTML object>"
      ]
     },
     "metadata": {},
     "output_type": "display_data"
    },
    {
     "name": "stderr",
     "output_type": "stream",
     "text": [
      "N/A% (0 of 11) |                         | Elapsed Time: 0:00:00 ETA:  --:--:--/Users/davidmodjeska/anaconda/lib/python3.6/site-packages/pygam/utils.py:69: UserWarning: Could not import Scikit-Sparse or Suite-Sparse.\n",
      "This will slow down optimization for models with monotonicity/convexity penalties and many splines.\n",
      "See installation instructions for installing Scikit-Sparse and Suite-Sparse via Conda.\n",
      "  warnings.warn(msg)\n",
      "/Users/davidmodjeska/anaconda/lib/python3.6/site-packages/pygam/pygam.py:597: RuntimeWarning: divide by zero encountered in log\n",
      "  return np.log(self.distribution.pdf(y=y, mu=mu, weights=weights)).sum()\n",
      "  9% (1 of 11) |##                        | Elapsed Time: 0:00:02 ETA:  0:00:20/Users/davidmodjeska/anaconda/lib/python3.6/site-packages/pygam/utils.py:69: UserWarning: Could not import Scikit-Sparse or Suite-Sparse.\n",
      "This will slow down optimization for models with monotonicity/convexity penalties and many splines.\n",
      "See installation instructions for installing Scikit-Sparse and Suite-Sparse via Conda.\n",
      "  warnings.warn(msg)\n",
      "/Users/davidmodjeska/anaconda/lib/python3.6/site-packages/pygam/pygam.py:597: RuntimeWarning: divide by zero encountered in log\n",
      "  return np.log(self.distribution.pdf(y=y, mu=mu, weights=weights)).sum()\n",
      " 18% (2 of 11) |####                      | Elapsed Time: 0:00:04 ETA:  0:00:18/Users/davidmodjeska/anaconda/lib/python3.6/site-packages/pygam/utils.py:69: UserWarning: Could not import Scikit-Sparse or Suite-Sparse.\n",
      "This will slow down optimization for models with monotonicity/convexity penalties and many splines.\n",
      "See installation instructions for installing Scikit-Sparse and Suite-Sparse via Conda.\n",
      "  warnings.warn(msg)\n",
      "/Users/davidmodjeska/anaconda/lib/python3.6/site-packages/pygam/pygam.py:597: RuntimeWarning: divide by zero encountered in log\n",
      "  return np.log(self.distribution.pdf(y=y, mu=mu, weights=weights)).sum()\n",
      " 27% (3 of 11) |#######                   | Elapsed Time: 0:00:06 ETA:  0:00:16/Users/davidmodjeska/anaconda/lib/python3.6/site-packages/pygam/utils.py:69: UserWarning: Could not import Scikit-Sparse or Suite-Sparse.\n",
      "This will slow down optimization for models with monotonicity/convexity penalties and many splines.\n",
      "See installation instructions for installing Scikit-Sparse and Suite-Sparse via Conda.\n",
      "  warnings.warn(msg)\n",
      "/Users/davidmodjeska/anaconda/lib/python3.6/site-packages/pygam/pygam.py:597: RuntimeWarning: divide by zero encountered in log\n",
      "  return np.log(self.distribution.pdf(y=y, mu=mu, weights=weights)).sum()\n",
      " 36% (4 of 11) |#########                 | Elapsed Time: 0:00:08 ETA:  0:00:14/Users/davidmodjeska/anaconda/lib/python3.6/site-packages/pygam/utils.py:69: UserWarning: Could not import Scikit-Sparse or Suite-Sparse.\n",
      "This will slow down optimization for models with monotonicity/convexity penalties and many splines.\n",
      "See installation instructions for installing Scikit-Sparse and Suite-Sparse via Conda.\n",
      "  warnings.warn(msg)\n",
      "/Users/davidmodjeska/anaconda/lib/python3.6/site-packages/pygam/pygam.py:597: RuntimeWarning: divide by zero encountered in log\n",
      "  return np.log(self.distribution.pdf(y=y, mu=mu, weights=weights)).sum()\n",
      " 45% (5 of 11) |###########               | Elapsed Time: 0:00:10 ETA:  0:00:12/Users/davidmodjeska/anaconda/lib/python3.6/site-packages/pygam/utils.py:69: UserWarning: Could not import Scikit-Sparse or Suite-Sparse.\n",
      "This will slow down optimization for models with monotonicity/convexity penalties and many splines.\n",
      "See installation instructions for installing Scikit-Sparse and Suite-Sparse via Conda.\n",
      "  warnings.warn(msg)\n",
      "/Users/davidmodjeska/anaconda/lib/python3.6/site-packages/pygam/pygam.py:597: RuntimeWarning: divide by zero encountered in log\n",
      "  return np.log(self.distribution.pdf(y=y, mu=mu, weights=weights)).sum()\n",
      " 54% (6 of 11) |##############            | Elapsed Time: 0:00:12 ETA:  0:00:10/Users/davidmodjeska/anaconda/lib/python3.6/site-packages/pygam/utils.py:69: UserWarning: Could not import Scikit-Sparse or Suite-Sparse.\n",
      "This will slow down optimization for models with monotonicity/convexity penalties and many splines.\n",
      "See installation instructions for installing Scikit-Sparse and Suite-Sparse via Conda.\n",
      "  warnings.warn(msg)\n",
      "/Users/davidmodjeska/anaconda/lib/python3.6/site-packages/pygam/pygam.py:597: RuntimeWarning: divide by zero encountered in log\n",
      "  return np.log(self.distribution.pdf(y=y, mu=mu, weights=weights)).sum()\n",
      " 63% (7 of 11) |################          | Elapsed Time: 0:00:14 ETA:  0:00:08/Users/davidmodjeska/anaconda/lib/python3.6/site-packages/pygam/utils.py:69: UserWarning: Could not import Scikit-Sparse or Suite-Sparse.\n",
      "This will slow down optimization for models with monotonicity/convexity penalties and many splines.\n",
      "See installation instructions for installing Scikit-Sparse and Suite-Sparse via Conda.\n",
      "  warnings.warn(msg)\n",
      "/Users/davidmodjeska/anaconda/lib/python3.6/site-packages/pygam/pygam.py:597: RuntimeWarning: divide by zero encountered in log\n",
      "  return np.log(self.distribution.pdf(y=y, mu=mu, weights=weights)).sum()\n",
      " 72% (8 of 11) |##################        | Elapsed Time: 0:00:16 ETA:  0:00:06/Users/davidmodjeska/anaconda/lib/python3.6/site-packages/pygam/utils.py:69: UserWarning: Could not import Scikit-Sparse or Suite-Sparse.\n",
      "This will slow down optimization for models with monotonicity/convexity penalties and many splines.\n",
      "See installation instructions for installing Scikit-Sparse and Suite-Sparse via Conda.\n",
      "  warnings.warn(msg)\n",
      "/Users/davidmodjeska/anaconda/lib/python3.6/site-packages/pygam/pygam.py:597: RuntimeWarning: divide by zero encountered in log\n",
      "  return np.log(self.distribution.pdf(y=y, mu=mu, weights=weights)).sum()\n",
      " 81% (9 of 11) |#####################     | Elapsed Time: 0:00:18 ETA:  0:00:04/Users/davidmodjeska/anaconda/lib/python3.6/site-packages/pygam/utils.py:69: UserWarning: Could not import Scikit-Sparse or Suite-Sparse.\n",
      "This will slow down optimization for models with monotonicity/convexity penalties and many splines.\n",
      "See installation instructions for installing Scikit-Sparse and Suite-Sparse via Conda.\n",
      "  warnings.warn(msg)\n",
      "/Users/davidmodjeska/anaconda/lib/python3.6/site-packages/pygam/pygam.py:597: RuntimeWarning: divide by zero encountered in log\n",
      "  return np.log(self.distribution.pdf(y=y, mu=mu, weights=weights)).sum()\n",
      " 90% (10 of 11) |######################   | Elapsed Time: 0:00:20 ETA:  0:00:02/Users/davidmodjeska/anaconda/lib/python3.6/site-packages/pygam/utils.py:69: UserWarning: Could not import Scikit-Sparse or Suite-Sparse.\n",
      "This will slow down optimization for models with monotonicity/convexity penalties and many splines.\n",
      "See installation instructions for installing Scikit-Sparse and Suite-Sparse via Conda.\n",
      "  warnings.warn(msg)\n",
      "100% (11 of 11) |#########################| Elapsed Time: 0:00:23 Time: 0:00:23\n",
      "/Users/davidmodjeska/anaconda/lib/python3.6/site-packages/xgboost-0.6-py3.6.egg/xgboost/sklearn.py:201: DeprecationWarning: The seed parameter is deprecated as of version .6.Please use random_state instead.seed is deprecated.\n",
      "  'seed is deprecated.', DeprecationWarning)\n"
     ]
    },
    {
     "data": {
      "text/html": [
       "<h3>Score model on test data</h3>"
      ],
      "text/plain": [
       "<IPython.core.display.HTML object>"
      ]
     },
     "metadata": {},
     "output_type": "display_data"
    },
    {
     "data": {
      "text/html": [
       "<h4>RMSE from naive model that always predicts the previous week's rate</h4>"
      ],
      "text/plain": [
       "<IPython.core.display.HTML object>"
      ]
     },
     "metadata": {},
     "output_type": "display_data"
    },
    {
     "name": "stdout",
     "output_type": "stream",
     "text": [
      "RMSE: 0.01735\n"
     ]
    },
    {
     "data": {
      "text/html": [
       "<h4>RMSE from fitted model</h4>"
      ],
      "text/plain": [
       "<IPython.core.display.HTML object>"
      ]
     },
     "metadata": {},
     "output_type": "display_data"
    },
    {
     "name": "stdout",
     "output_type": "stream",
     "text": [
      "RMSE: 0.00908\n"
     ]
    }
   ],
   "source": [
    "naive_rmse, fx_features_rmse = do_one_model('CHF', feature_col_names = \\\n",
    "    ['CH_FX', 'CH_INT_TB', 'CH_GDP', 'CH_CPI', 'CH_UR'])"
   ]
  },
  {
   "cell_type": "markdown",
   "metadata": {},
   "source": [
    "### All features"
   ]
  },
  {
   "cell_type": "code",
   "execution_count": 40,
   "metadata": {
    "scrolled": false
   },
   "outputs": [
    {
     "data": {
      "text/html": [
       "<h3>Prepare model data</h3>"
      ],
      "text/plain": [
       "<IPython.core.display.HTML object>"
      ]
     },
     "metadata": {},
     "output_type": "display_data"
    },
    {
     "name": "stdout",
     "output_type": "stream",
     "text": [
      "Time period: 2000-01-03 - 2012-12-05\n",
      "Scaled data shape: (4721, 141)\n",
      "Reframed data shape: (4708, 988)\n"
     ]
    },
    {
     "data": {
      "image/png": "[encoded data removed]",
      "text/plain": [
       "<matplotlib.figure.Figure at 0x1a1827ab00>"
      ]
     },
     "metadata": {},
     "output_type": "display_data"
    },
    {
     "name": "stdout",
     "output_type": "stream",
     "text": [
      "Cumulative variance explained by the first 93 components: 0.999\n"
     ]
    },
    {
     "data": {
      "text/html": [
       "<h4>Shape of train and test data after PCA</h4>"
      ],
      "text/plain": [
       "<IPython.core.display.HTML object>"
      ]
     },
     "metadata": {},
     "output_type": "display_data"
    },
    {
     "name": "stdout",
     "output_type": "stream",
     "text": [
      "Reduced data shape: (4708, 94)\n"
     ]
    },
    {
     "data": {
      "text/html": [
       "<h4>Shape of train and test data</h4>"
      ],
      "text/plain": [
       "<IPython.core.display.HTML object>"
      ]
     },
     "metadata": {},
     "output_type": "display_data"
    },
    {
     "name": "stdout",
     "output_type": "stream",
     "text": [
      "(3149, 93) (3149,) (1552, 93) (1552,)\n"
     ]
    },
    {
     "data": {
      "text/html": [
       "<h3>Fit model</h3>"
      ],
      "text/plain": [
       "<IPython.core.display.HTML object>"
      ]
     },
     "metadata": {},
     "output_type": "display_data"
    },
    {
     "name": "stderr",
     "output_type": "stream",
     "text": [
      "N/A% (0 of 11) |                         | Elapsed Time: 0:00:00 ETA:  --:--:--/Users/davidmodjeska/anaconda/lib/python3.6/site-packages/pygam/utils.py:69: UserWarning: Could not import Scikit-Sparse or Suite-Sparse.\n",
      "This will slow down optimization for models with monotonicity/convexity penalties and many splines.\n",
      "See installation instructions for installing Scikit-Sparse and Suite-Sparse via Conda.\n",
      "  warnings.warn(msg)\n",
      "/Users/davidmodjeska/anaconda/lib/python3.6/site-packages/pygam/pygam.py:597: RuntimeWarning: divide by zero encountered in log\n",
      "  return np.log(self.distribution.pdf(y=y, mu=mu, weights=weights)).sum()\n",
      "  9% (1 of 11) |##                        | Elapsed Time: 0:00:16 ETA:  0:02:46/Users/davidmodjeska/anaconda/lib/python3.6/site-packages/pygam/utils.py:69: UserWarning: Could not import Scikit-Sparse or Suite-Sparse.\n",
      "This will slow down optimization for models with monotonicity/convexity penalties and many splines.\n",
      "See installation instructions for installing Scikit-Sparse and Suite-Sparse via Conda.\n",
      "  warnings.warn(msg)\n",
      "/Users/davidmodjeska/anaconda/lib/python3.6/site-packages/pygam/pygam.py:597: RuntimeWarning: divide by zero encountered in log\n",
      "  return np.log(self.distribution.pdf(y=y, mu=mu, weights=weights)).sum()\n",
      " 18% (2 of 11) |####                      | Elapsed Time: 0:00:37 ETA:  0:02:49/Users/davidmodjeska/anaconda/lib/python3.6/site-packages/pygam/utils.py:69: UserWarning: Could not import Scikit-Sparse or Suite-Sparse.\n",
      "This will slow down optimization for models with monotonicity/convexity penalties and many splines.\n",
      "See installation instructions for installing Scikit-Sparse and Suite-Sparse via Conda.\n",
      "  warnings.warn(msg)\n",
      "/Users/davidmodjeska/anaconda/lib/python3.6/site-packages/pygam/pygam.py:597: RuntimeWarning: divide by zero encountered in log\n",
      "  return np.log(self.distribution.pdf(y=y, mu=mu, weights=weights)).sum()\n",
      " 27% (3 of 11) |#######                   | Elapsed Time: 0:00:56 ETA:  0:02:31/Users/davidmodjeska/anaconda/lib/python3.6/site-packages/pygam/utils.py:69: UserWarning: Could not import Scikit-Sparse or Suite-Sparse.\n",
      "This will slow down optimization for models with monotonicity/convexity penalties and many splines.\n",
      "See installation instructions for installing Scikit-Sparse and Suite-Sparse via Conda.\n",
      "  warnings.warn(msg)\n",
      "/Users/davidmodjeska/anaconda/lib/python3.6/site-packages/pygam/pygam.py:597: RuntimeWarning: divide by zero encountered in log\n",
      "  return np.log(self.distribution.pdf(y=y, mu=mu, weights=weights)).sum()\n",
      " 36% (4 of 11) |#########                 | Elapsed Time: 0:01:16 ETA:  0:02:14/Users/davidmodjeska/anaconda/lib/python3.6/site-packages/pygam/utils.py:69: UserWarning: Could not import Scikit-Sparse or Suite-Sparse.\n",
      "This will slow down optimization for models with monotonicity/convexity penalties and many splines.\n",
      "See installation instructions for installing Scikit-Sparse and Suite-Sparse via Conda.\n",
      "  warnings.warn(msg)\n",
      "/Users/davidmodjeska/anaconda/lib/python3.6/site-packages/pygam/pygam.py:597: RuntimeWarning: divide by zero encountered in log\n",
      "  return np.log(self.distribution.pdf(y=y, mu=mu, weights=weights)).sum()\n",
      " 45% (5 of 11) |###########               | Elapsed Time: 0:01:34 ETA:  0:01:53/Users/davidmodjeska/anaconda/lib/python3.6/site-packages/pygam/utils.py:69: UserWarning: Could not import Scikit-Sparse or Suite-Sparse.\n",
      "This will slow down optimization for models with monotonicity/convexity penalties and many splines.\n",
      "See installation instructions for installing Scikit-Sparse and Suite-Sparse via Conda.\n",
      "  warnings.warn(msg)\n",
      "/Users/davidmodjeska/anaconda/lib/python3.6/site-packages/pygam/pygam.py:597: RuntimeWarning: divide by zero encountered in log\n",
      "  return np.log(self.distribution.pdf(y=y, mu=mu, weights=weights)).sum()\n",
      " 54% (6 of 11) |##############            | Elapsed Time: 0:01:52 ETA:  0:01:33/Users/davidmodjeska/anaconda/lib/python3.6/site-packages/pygam/utils.py:69: UserWarning: Could not import Scikit-Sparse or Suite-Sparse.\n",
      "This will slow down optimization for models with monotonicity/convexity penalties and many splines.\n",
      "See installation instructions for installing Scikit-Sparse and Suite-Sparse via Conda.\n",
      "  warnings.warn(msg)\n",
      "/Users/davidmodjeska/anaconda/lib/python3.6/site-packages/pygam/pygam.py:597: RuntimeWarning: divide by zero encountered in log\n",
      "  return np.log(self.distribution.pdf(y=y, mu=mu, weights=weights)).sum()\n",
      " 63% (7 of 11) |################          | Elapsed Time: 0:02:10 ETA:  0:01:14/Users/davidmodjeska/anaconda/lib/python3.6/site-packages/pygam/utils.py:69: UserWarning: Could not import Scikit-Sparse or Suite-Sparse.\n",
      "This will slow down optimization for models with monotonicity/convexity penalties and many splines.\n",
      "See installation instructions for installing Scikit-Sparse and Suite-Sparse via Conda.\n",
      "  warnings.warn(msg)\n",
      " 72% (8 of 11) |##################        | Elapsed Time: 0:02:28 ETA:  0:00:55/Users/davidmodjeska/anaconda/lib/python3.6/site-packages/pygam/utils.py:69: UserWarning: Could not import Scikit-Sparse or Suite-Sparse.\n",
      "This will slow down optimization for models with monotonicity/convexity penalties and many splines.\n",
      "See installation instructions for installing Scikit-Sparse and Suite-Sparse via Conda.\n",
      "  warnings.warn(msg)\n",
      " 81% (9 of 11) |#####################     | Elapsed Time: 0:02:46 ETA:  0:00:37/Users/davidmodjeska/anaconda/lib/python3.6/site-packages/pygam/utils.py:69: UserWarning: Could not import Scikit-Sparse or Suite-Sparse.\n",
      "This will slow down optimization for models with monotonicity/convexity penalties and many splines.\n",
      "See installation instructions for installing Scikit-Sparse and Suite-Sparse via Conda.\n",
      "  warnings.warn(msg)\n",
      " 90% (10 of 11) |######################   | Elapsed Time: 0:03:04 ETA:  0:00:18/Users/davidmodjeska/anaconda/lib/python3.6/site-packages/pygam/utils.py:69: UserWarning: Could not import Scikit-Sparse or Suite-Sparse.\n",
      "This will slow down optimization for models with monotonicity/convexity penalties and many splines.\n",
      "See installation instructions for installing Scikit-Sparse and Suite-Sparse via Conda.\n",
      "  warnings.warn(msg)\n",
      "100% (11 of 11) |#########################| Elapsed Time: 0:03:22 Time: 0:03:22\n",
      "/Users/davidmodjeska/anaconda/lib/python3.6/site-packages/xgboost-0.6-py3.6.egg/xgboost/sklearn.py:201: DeprecationWarning: The seed parameter is deprecated as of version .6.Please use random_state instead.seed is deprecated.\n",
      "  'seed is deprecated.', DeprecationWarning)\n"
     ]
    },
    {
     "data": {
      "text/html": [
       "<h3>Score model on test data</h3>"
      ],
      "text/plain": [
       "<IPython.core.display.HTML object>"
      ]
     },
     "metadata": {},
     "output_type": "display_data"
    },
    {
     "data": {
      "text/html": [
       "<h4>RMSE from naive model that always predicts the previous week's rate</h4>"
      ],
      "text/plain": [
       "<IPython.core.display.HTML object>"
      ]
     },
     "metadata": {},
     "output_type": "display_data"
    },
    {
     "name": "stdout",
     "output_type": "stream",
     "text": [
      "RMSE: 0.01652\n"
     ]
    },
    {
     "data": {
      "text/html": [
       "<h4>RMSE from fitted model</h4>"
      ],
      "text/plain": [
       "<IPython.core.display.HTML object>"
      ]
     },
     "metadata": {},
     "output_type": "display_data"
    },
    {
     "name": "stdout",
     "output_type": "stream",
     "text": [
      "RMSE: 0.00724\n"
     ]
    },
    {
     "data": {
      "image/png": "[encoded data removed]",
      "text/plain": [
       "<matplotlib.figure.Figure at 0x1a22e44780>"
      ]
     },
     "metadata": {},
     "output_type": "display_data"
    },
    {
     "data": {
      "image/png": "[encoded data removed]",
      "text/plain": [
       "<matplotlib.figure.Figure at 0x1a1822a630>"
      ]
     },
     "metadata": {},
     "output_type": "display_data"
    }
   ],
   "source": [
    "cols = [feature_cols[i] for i in range(n_feature_cols) \n",
    "        if re.search('CH_FX', feature_cols[i]) == None]\n",
    "naive_rmse, fx_all_rmse = do_one_model('CHF', feature_col_names = ['CH_FX'] + cols, do_pca = True)"
   ]
  },
  {
   "cell_type": "code",
   "execution_count": 41,
   "metadata": {},
   "outputs": [],
   "source": [
    "all_results = accum_results(all_results, 'CHF', naive_rmse, fx_rmse, fx_features_rmse, fx_all_rmse)"
   ]
  },
  {
   "cell_type": "markdown",
   "metadata": {},
   "source": [
    "## UK"
   ]
  },
  {
   "cell_type": "markdown",
   "metadata": {},
   "source": [
    "### FX rates only"
   ]
  },
  {
   "cell_type": "code",
   "execution_count": 42,
   "metadata": {
    "scrolled": false
   },
   "outputs": [
    {
     "data": {
      "text/html": [
       "<h3>Prepare model data</h3>"
      ],
      "text/plain": [
       "<IPython.core.display.HTML object>"
      ]
     },
     "metadata": {},
     "output_type": "display_data"
    },
    {
     "name": "stdout",
     "output_type": "stream",
     "text": [
      "Time period: 2000-01-03 - 2017-12-09\n"
     ]
    },
    {
     "data": {
      "text/html": [
       "<h4>Features in Model</h4>"
      ],
      "text/plain": [
       "<IPython.core.display.HTML object>"
      ]
     },
     "metadata": {},
     "output_type": "display_data"
    },
    {
     "name": "stdout",
     "output_type": "stream",
     "text": [
      "UK_FX\n",
      "\n",
      "Scaled data shape: (6551, 1)\n",
      "Reframed data shape: (6538, 8)\n"
     ]
    },
    {
     "data": {
      "text/html": [
       "<h3>Fit model</h3>"
      ],
      "text/plain": [
       "<IPython.core.display.HTML object>"
      ]
     },
     "metadata": {},
     "output_type": "display_data"
    },
    {
     "name": "stderr",
     "output_type": "stream",
     "text": [
      "N/A% (0 of 11) |                         | Elapsed Time: 0:00:00 ETA:  --:--:--/Users/davidmodjeska/anaconda/lib/python3.6/site-packages/pygam/utils.py:69: UserWarning: Could not import Scikit-Sparse or Suite-Sparse.\n",
      "This will slow down optimization for models with monotonicity/convexity penalties and many splines.\n",
      "See installation instructions for installing Scikit-Sparse and Suite-Sparse via Conda.\n",
      "  warnings.warn(msg)\n",
      "  9% (1 of 11) |##                        | Elapsed Time: 0:00:00 ETA:  0:00:02/Users/davidmodjeska/anaconda/lib/python3.6/site-packages/pygam/utils.py:69: UserWarning: Could not import Scikit-Sparse or Suite-Sparse.\n",
      "This will slow down optimization for models with monotonicity/convexity penalties and many splines.\n",
      "See installation instructions for installing Scikit-Sparse and Suite-Sparse via Conda.\n",
      "  warnings.warn(msg)\n",
      " 18% (2 of 11) |####                      | Elapsed Time: 0:00:00 ETA:  0:00:02/Users/davidmodjeska/anaconda/lib/python3.6/site-packages/pygam/utils.py:69: UserWarning: Could not import Scikit-Sparse or Suite-Sparse.\n",
      "This will slow down optimization for models with monotonicity/convexity penalties and many splines.\n",
      "See installation instructions for installing Scikit-Sparse and Suite-Sparse via Conda.\n",
      "  warnings.warn(msg)\n",
      " 27% (3 of 11) |#######                   | Elapsed Time: 0:00:00 ETA:  0:00:01/Users/davidmodjeska/anaconda/lib/python3.6/site-packages/pygam/utils.py:69: UserWarning: Could not import Scikit-Sparse or Suite-Sparse.\n",
      "This will slow down optimization for models with monotonicity/convexity penalties and many splines.\n",
      "See installation instructions for installing Scikit-Sparse and Suite-Sparse via Conda.\n",
      "  warnings.warn(msg)\n",
      " 36% (4 of 11) |#########                 | Elapsed Time: 0:00:00 ETA:  0:00:01/Users/davidmodjeska/anaconda/lib/python3.6/site-packages/pygam/utils.py:69: UserWarning: Could not import Scikit-Sparse or Suite-Sparse.\n",
      "This will slow down optimization for models with monotonicity/convexity penalties and many splines.\n",
      "See installation instructions for installing Scikit-Sparse and Suite-Sparse via Conda.\n",
      "  warnings.warn(msg)\n",
      " 45% (5 of 11) |###########               | Elapsed Time: 0:00:01 ETA:  0:00:01/Users/davidmodjeska/anaconda/lib/python3.6/site-packages/pygam/utils.py:69: UserWarning: Could not import Scikit-Sparse or Suite-Sparse.\n",
      "This will slow down optimization for models with monotonicity/convexity penalties and many splines.\n",
      "See installation instructions for installing Scikit-Sparse and Suite-Sparse via Conda.\n",
      "  warnings.warn(msg)\n",
      " 54% (6 of 11) |##############            | Elapsed Time: 0:00:01 ETA:  0:00:01/Users/davidmodjeska/anaconda/lib/python3.6/site-packages/pygam/utils.py:69: UserWarning: Could not import Scikit-Sparse or Suite-Sparse.\n",
      "This will slow down optimization for models with monotonicity/convexity penalties and many splines.\n",
      "See installation instructions for installing Scikit-Sparse and Suite-Sparse via Conda.\n",
      "  warnings.warn(msg)\n",
      " 63% (7 of 11) |################          | Elapsed Time: 0:00:01 ETA:  0:00:00/Users/davidmodjeska/anaconda/lib/python3.6/site-packages/pygam/utils.py:69: UserWarning: Could not import Scikit-Sparse or Suite-Sparse.\n",
      "This will slow down optimization for models with monotonicity/convexity penalties and many splines.\n",
      "See installation instructions for installing Scikit-Sparse and Suite-Sparse via Conda.\n",
      "  warnings.warn(msg)\n",
      " 72% (8 of 11) |##################        | Elapsed Time: 0:00:01 ETA:  0:00:00/Users/davidmodjeska/anaconda/lib/python3.6/site-packages/pygam/utils.py:69: UserWarning: Could not import Scikit-Sparse or Suite-Sparse.\n",
      "This will slow down optimization for models with monotonicity/convexity penalties and many splines.\n",
      "See installation instructions for installing Scikit-Sparse and Suite-Sparse via Conda.\n",
      "  warnings.warn(msg)\n",
      " 81% (9 of 11) |#####################     | Elapsed Time: 0:00:01 ETA:  0:00:00/Users/davidmodjeska/anaconda/lib/python3.6/site-packages/pygam/utils.py:69: UserWarning: Could not import Scikit-Sparse or Suite-Sparse.\n",
      "This will slow down optimization for models with monotonicity/convexity penalties and many splines.\n",
      "See installation instructions for installing Scikit-Sparse and Suite-Sparse via Conda.\n",
      "  warnings.warn(msg)\n",
      " 90% (10 of 11) |######################   | Elapsed Time: 0:00:02 ETA:  0:00:00/Users/davidmodjeska/anaconda/lib/python3.6/site-packages/pygam/utils.py:69: UserWarning: Could not import Scikit-Sparse or Suite-Sparse.\n",
      "This will slow down optimization for models with monotonicity/convexity penalties and many splines.\n",
      "See installation instructions for installing Scikit-Sparse and Suite-Sparse via Conda.\n",
      "  warnings.warn(msg)\n",
      "100% (11 of 11) |#########################| Elapsed Time: 0:00:02 Time: 0:00:02\n",
      "/Users/davidmodjeska/anaconda/lib/python3.6/site-packages/xgboost-0.6-py3.6.egg/xgboost/sklearn.py:201: DeprecationWarning: The seed parameter is deprecated as of version .6.Please use random_state instead.seed is deprecated.\n",
      "  'seed is deprecated.', DeprecationWarning)\n"
     ]
    },
    {
     "data": {
      "text/html": [
       "<h3>Score model on test data</h3>"
      ],
      "text/plain": [
       "<IPython.core.display.HTML object>"
      ]
     },
     "metadata": {},
     "output_type": "display_data"
    },
    {
     "data": {
      "text/html": [
       "<h4>RMSE from naive model that always predicts the previous week's rate</h4>"
      ],
      "text/plain": [
       "<IPython.core.display.HTML object>"
      ]
     },
     "metadata": {},
     "output_type": "display_data"
    },
    {
     "name": "stdout",
     "output_type": "stream",
     "text": [
      "RMSE: 0.02068\n"
     ]
    },
    {
     "data": {
      "text/html": [
       "<h4>RMSE from fitted model</h4>"
      ],
      "text/plain": [
       "<IPython.core.display.HTML object>"
      ]
     },
     "metadata": {},
     "output_type": "display_data"
    },
    {
     "name": "stdout",
     "output_type": "stream",
     "text": [
      "RMSE: 0.02126\n"
     ]
    }
   ],
   "source": [
    "naive_rmse, fx_rmse = do_one_model('GBP', feature_col_names = ['UK_FX'], verbose = 0)"
   ]
  },
  {
   "cell_type": "markdown",
   "metadata": {},
   "source": [
    "### FX rates and other features"
   ]
  },
  {
   "cell_type": "code",
   "execution_count": 43,
   "metadata": {
    "scrolled": false
   },
   "outputs": [
    {
     "data": {
      "text/html": [
       "<h3>Prepare model data</h3>"
      ],
      "text/plain": [
       "<IPython.core.display.HTML object>"
      ]
     },
     "metadata": {},
     "output_type": "display_data"
    },
    {
     "name": "stdout",
     "output_type": "stream",
     "text": [
      "Time period: 2000-01-03 - 2017-12-09\n"
     ]
    },
    {
     "data": {
      "text/html": [
       "<h4>Features in Model</h4>"
      ],
      "text/plain": [
       "<IPython.core.display.HTML object>"
      ]
     },
     "metadata": {},
     "output_type": "display_data"
    },
    {
     "name": "stdout",
     "output_type": "stream",
     "text": [
      "UK_FX, UK_GDP, US_INT_TB\n",
      "\n",
      "Scaled data shape: (6551, 3)\n",
      "Reframed data shape: (6538, 22)\n"
     ]
    },
    {
     "data": {
      "text/html": [
       "<h4>First few rows of supervised data</h4>"
      ],
      "text/plain": [
       "<IPython.core.display.HTML object>"
      ]
     },
     "metadata": {},
     "output_type": "display_data"
    },
    {
     "data": {
      "text/html": [
       "<p>"
      ],
      "text/plain": [
       "<IPython.core.display.HTML object>"
      ]
     },
     "metadata": {},
     "output_type": "display_data"
    },
    {
     "data": {
      "text/html": [
       "<table border=\"1\" class=\"dataframe\">\n",
       "  <thead>\n",
       "    <tr style=\"text-align: right;\">\n",
       "      <th>UK_FX(t-7)</th>\n",
       "      <th>UK_GDP(t-7)</th>\n",
       "      <th>US_INT_TB(t-7)</th>\n",
       "      <th>UK_FX(t-6)</th>\n",
       "      <th>UK_GDP(t-6)</th>\n",
       "      <th>US_INT_TB(t-6)</th>\n",
       "      <th>UK_FX(t-5)</th>\n",
       "      <th>UK_GDP(t-5)</th>\n",
       "      <th>US_INT_TB(t-5)</th>\n",
       "      <th>UK_FX(t-4)</th>\n",
       "      <th>UK_GDP(t-4)</th>\n",
       "      <th>US_INT_TB(t-4)</th>\n",
       "      <th>UK_FX(t-3)</th>\n",
       "      <th>UK_GDP(t-3)</th>\n",
       "      <th>US_INT_TB(t-3)</th>\n",
       "      <th>UK_FX(t-2)</th>\n",
       "      <th>UK_GDP(t-2)</th>\n",
       "      <th>US_INT_TB(t-2)</th>\n",
       "      <th>UK_FX(t-1)</th>\n",
       "      <th>UK_GDP(t-1)</th>\n",
       "      <th>US_INT_TB(t-1)</th>\n",
       "      <th>UK_FX(t+6)</th>\n",
       "    </tr>\n",
       "  </thead>\n",
       "  <tbody>\n",
       "    <tr>\n",
       "      <td>0.462052</td>\n",
       "      <td>0.850790</td>\n",
       "      <td>0.864422</td>\n",
       "      <td>0.473181</td>\n",
       "      <td>0.850158</td>\n",
       "      <td>0.865626</td>\n",
       "      <td>0.478188</td>\n",
       "      <td>0.849526</td>\n",
       "      <td>0.866831</td>\n",
       "      <td>0.484865</td>\n",
       "      <td>0.848894</td>\n",
       "      <td>0.868035</td>\n",
       "      <td>0.474738</td>\n",
       "      <td>0.848261</td>\n",
       "      <td>0.869240</td>\n",
       "      <td>0.474368</td>\n",
       "      <td>0.847629</td>\n",
       "      <td>0.870444</td>\n",
       "      <td>0.473997</td>\n",
       "      <td>0.846997</td>\n",
       "      <td>0.871649</td>\n",
       "      <td>0.472290</td>\n",
       "    </tr>\n",
       "    <tr>\n",
       "      <td>0.473181</td>\n",
       "      <td>0.850158</td>\n",
       "      <td>0.865626</td>\n",
       "      <td>0.478188</td>\n",
       "      <td>0.849526</td>\n",
       "      <td>0.866831</td>\n",
       "      <td>0.484865</td>\n",
       "      <td>0.848894</td>\n",
       "      <td>0.868035</td>\n",
       "      <td>0.474738</td>\n",
       "      <td>0.848261</td>\n",
       "      <td>0.869240</td>\n",
       "      <td>0.474368</td>\n",
       "      <td>0.847629</td>\n",
       "      <td>0.870444</td>\n",
       "      <td>0.473997</td>\n",
       "      <td>0.846997</td>\n",
       "      <td>0.871649</td>\n",
       "      <td>0.473626</td>\n",
       "      <td>0.846365</td>\n",
       "      <td>0.872853</td>\n",
       "      <td>0.472791</td>\n",
       "    </tr>\n",
       "    <tr>\n",
       "      <td>0.478188</td>\n",
       "      <td>0.849526</td>\n",
       "      <td>0.866831</td>\n",
       "      <td>0.484865</td>\n",
       "      <td>0.848894</td>\n",
       "      <td>0.868035</td>\n",
       "      <td>0.474738</td>\n",
       "      <td>0.848261</td>\n",
       "      <td>0.869240</td>\n",
       "      <td>0.474368</td>\n",
       "      <td>0.847629</td>\n",
       "      <td>0.870444</td>\n",
       "      <td>0.473997</td>\n",
       "      <td>0.846997</td>\n",
       "      <td>0.871649</td>\n",
       "      <td>0.473626</td>\n",
       "      <td>0.846365</td>\n",
       "      <td>0.872853</td>\n",
       "      <td>0.485422</td>\n",
       "      <td>0.845732</td>\n",
       "      <td>0.874057</td>\n",
       "      <td>0.474293</td>\n",
       "    </tr>\n",
       "    <tr>\n",
       "      <td>0.484865</td>\n",
       "      <td>0.848894</td>\n",
       "      <td>0.868035</td>\n",
       "      <td>0.474738</td>\n",
       "      <td>0.848261</td>\n",
       "      <td>0.869240</td>\n",
       "      <td>0.474368</td>\n",
       "      <td>0.847629</td>\n",
       "      <td>0.870444</td>\n",
       "      <td>0.473997</td>\n",
       "      <td>0.846997</td>\n",
       "      <td>0.871649</td>\n",
       "      <td>0.473626</td>\n",
       "      <td>0.846365</td>\n",
       "      <td>0.872853</td>\n",
       "      <td>0.485422</td>\n",
       "      <td>0.845732</td>\n",
       "      <td>0.874057</td>\n",
       "      <td>0.483753</td>\n",
       "      <td>0.845100</td>\n",
       "      <td>0.875262</td>\n",
       "      <td>0.480748</td>\n",
       "    </tr>\n",
       "    <tr>\n",
       "      <td>0.474738</td>\n",
       "      <td>0.848261</td>\n",
       "      <td>0.869240</td>\n",
       "      <td>0.474368</td>\n",
       "      <td>0.847629</td>\n",
       "      <td>0.870444</td>\n",
       "      <td>0.473997</td>\n",
       "      <td>0.846997</td>\n",
       "      <td>0.871649</td>\n",
       "      <td>0.473626</td>\n",
       "      <td>0.846365</td>\n",
       "      <td>0.872853</td>\n",
       "      <td>0.485422</td>\n",
       "      <td>0.845732</td>\n",
       "      <td>0.874057</td>\n",
       "      <td>0.483753</td>\n",
       "      <td>0.845100</td>\n",
       "      <td>0.875262</td>\n",
       "      <td>0.485644</td>\n",
       "      <td>0.844468</td>\n",
       "      <td>0.876466</td>\n",
       "      <td>0.491876</td>\n",
       "    </tr>\n",
       "  </tbody>\n",
       "</table>"
      ],
      "text/plain": [
       "<IPython.core.display.HTML object>"
      ]
     },
     "metadata": {},
     "output_type": "display_data"
    },
    {
     "data": {
      "text/html": [
       "<p>"
      ],
      "text/plain": [
       "<IPython.core.display.HTML object>"
      ]
     },
     "metadata": {},
     "output_type": "display_data"
    },
    {
     "data": {
      "text/html": [
       "<h4>Shape of train and test data</h4>"
      ],
      "text/plain": [
       "<IPython.core.display.HTML object>"
      ]
     },
     "metadata": {},
     "output_type": "display_data"
    },
    {
     "name": "stdout",
     "output_type": "stream",
     "text": [
      "(4375, 21) (4375,) (2156, 21) (2156,)\n"
     ]
    },
    {
     "data": {
      "text/html": [
       "<h3>Fit model</h3>"
      ],
      "text/plain": [
       "<IPython.core.display.HTML object>"
      ]
     },
     "metadata": {},
     "output_type": "display_data"
    },
    {
     "name": "stderr",
     "output_type": "stream",
     "text": [
      "N/A% (0 of 11) |                         | Elapsed Time: 0:00:00 ETA:  --:--:--/Users/davidmodjeska/anaconda/lib/python3.6/site-packages/pygam/utils.py:69: UserWarning: Could not import Scikit-Sparse or Suite-Sparse.\n",
      "This will slow down optimization for models with monotonicity/convexity penalties and many splines.\n",
      "See installation instructions for installing Scikit-Sparse and Suite-Sparse via Conda.\n",
      "  warnings.warn(msg)\n",
      "  9% (1 of 11) |##                        | Elapsed Time: 0:00:01 ETA:  0:00:10/Users/davidmodjeska/anaconda/lib/python3.6/site-packages/pygam/utils.py:69: UserWarning: Could not import Scikit-Sparse or Suite-Sparse.\n",
      "This will slow down optimization for models with monotonicity/convexity penalties and many splines.\n",
      "See installation instructions for installing Scikit-Sparse and Suite-Sparse via Conda.\n",
      "  warnings.warn(msg)\n",
      " 18% (2 of 11) |####                      | Elapsed Time: 0:00:01 ETA:  0:00:08/Users/davidmodjeska/anaconda/lib/python3.6/site-packages/pygam/utils.py:69: UserWarning: Could not import Scikit-Sparse or Suite-Sparse.\n",
      "This will slow down optimization for models with monotonicity/convexity penalties and many splines.\n",
      "See installation instructions for installing Scikit-Sparse and Suite-Sparse via Conda.\n",
      "  warnings.warn(msg)\n",
      " 27% (3 of 11) |#######                   | Elapsed Time: 0:00:02 ETA:  0:00:07/Users/davidmodjeska/anaconda/lib/python3.6/site-packages/pygam/utils.py:69: UserWarning: Could not import Scikit-Sparse or Suite-Sparse.\n",
      "This will slow down optimization for models with monotonicity/convexity penalties and many splines.\n",
      "See installation instructions for installing Scikit-Sparse and Suite-Sparse via Conda.\n",
      "  warnings.warn(msg)\n",
      " 36% (4 of 11) |#########                 | Elapsed Time: 0:00:03 ETA:  0:00:06/Users/davidmodjeska/anaconda/lib/python3.6/site-packages/pygam/utils.py:69: UserWarning: Could not import Scikit-Sparse or Suite-Sparse.\n",
      "This will slow down optimization for models with monotonicity/convexity penalties and many splines.\n",
      "See installation instructions for installing Scikit-Sparse and Suite-Sparse via Conda.\n",
      "  warnings.warn(msg)\n",
      " 45% (5 of 11) |###########               | Elapsed Time: 0:00:04 ETA:  0:00:05/Users/davidmodjeska/anaconda/lib/python3.6/site-packages/pygam/utils.py:69: UserWarning: Could not import Scikit-Sparse or Suite-Sparse.\n",
      "This will slow down optimization for models with monotonicity/convexity penalties and many splines.\n",
      "See installation instructions for installing Scikit-Sparse and Suite-Sparse via Conda.\n",
      "  warnings.warn(msg)\n",
      " 54% (6 of 11) |##############            | Elapsed Time: 0:00:05 ETA:  0:00:04/Users/davidmodjeska/anaconda/lib/python3.6/site-packages/pygam/utils.py:69: UserWarning: Could not import Scikit-Sparse or Suite-Sparse.\n",
      "This will slow down optimization for models with monotonicity/convexity penalties and many splines.\n",
      "See installation instructions for installing Scikit-Sparse and Suite-Sparse via Conda.\n",
      "  warnings.warn(msg)\n",
      " 63% (7 of 11) |################          | Elapsed Time: 0:00:06 ETA:  0:00:03/Users/davidmodjeska/anaconda/lib/python3.6/site-packages/pygam/utils.py:69: UserWarning: Could not import Scikit-Sparse or Suite-Sparse.\n",
      "This will slow down optimization for models with monotonicity/convexity penalties and many splines.\n",
      "See installation instructions for installing Scikit-Sparse and Suite-Sparse via Conda.\n",
      "  warnings.warn(msg)\n",
      " 72% (8 of 11) |##################        | Elapsed Time: 0:00:07 ETA:  0:00:02/Users/davidmodjeska/anaconda/lib/python3.6/site-packages/pygam/utils.py:69: UserWarning: Could not import Scikit-Sparse or Suite-Sparse.\n",
      "This will slow down optimization for models with monotonicity/convexity penalties and many splines.\n",
      "See installation instructions for installing Scikit-Sparse and Suite-Sparse via Conda.\n",
      "  warnings.warn(msg)\n",
      " 81% (9 of 11) |#####################     | Elapsed Time: 0:00:08 ETA:  0:00:01/Users/davidmodjeska/anaconda/lib/python3.6/site-packages/pygam/utils.py:69: UserWarning: Could not import Scikit-Sparse or Suite-Sparse.\n",
      "This will slow down optimization for models with monotonicity/convexity penalties and many splines.\n",
      "See installation instructions for installing Scikit-Sparse and Suite-Sparse via Conda.\n",
      "  warnings.warn(msg)\n",
      " 90% (10 of 11) |######################   | Elapsed Time: 0:00:09 ETA:  0:00:00/Users/davidmodjeska/anaconda/lib/python3.6/site-packages/pygam/utils.py:69: UserWarning: Could not import Scikit-Sparse or Suite-Sparse.\n",
      "This will slow down optimization for models with monotonicity/convexity penalties and many splines.\n",
      "See installation instructions for installing Scikit-Sparse and Suite-Sparse via Conda.\n",
      "  warnings.warn(msg)\n",
      "100% (11 of 11) |#########################| Elapsed Time: 0:00:09 Time: 0:00:09\n",
      "/Users/davidmodjeska/anaconda/lib/python3.6/site-packages/xgboost-0.6-py3.6.egg/xgboost/sklearn.py:201: DeprecationWarning: The seed parameter is deprecated as of version .6.Please use random_state instead.seed is deprecated.\n",
      "  'seed is deprecated.', DeprecationWarning)\n"
     ]
    },
    {
     "data": {
      "text/html": [
       "<h3>Score model on test data</h3>"
      ],
      "text/plain": [
       "<IPython.core.display.HTML object>"
      ]
     },
     "metadata": {},
     "output_type": "display_data"
    },
    {
     "data": {
      "text/html": [
       "<h4>RMSE from naive model that always predicts the previous week's rate</h4>"
      ],
      "text/plain": [
       "<IPython.core.display.HTML object>"
      ]
     },
     "metadata": {},
     "output_type": "display_data"
    },
    {
     "name": "stdout",
     "output_type": "stream",
     "text": [
      "RMSE: 0.02068\n"
     ]
    },
    {
     "data": {
      "text/html": [
       "<h4>RMSE from fitted model</h4>"
      ],
      "text/plain": [
       "<IPython.core.display.HTML object>"
      ]
     },
     "metadata": {},
     "output_type": "display_data"
    },
    {
     "name": "stdout",
     "output_type": "stream",
     "text": [
      "RMSE: 0.01282\n"
     ]
    }
   ],
   "source": [
    "naive_rmse, fx_features_rmse = do_one_model('GBP', feature_col_names = ['UK_FX', 'UK_GDP', 'US_INT_TB'])"
   ]
  },
  {
   "cell_type": "markdown",
   "metadata": {},
   "source": [
    "### All features"
   ]
  },
  {
   "cell_type": "code",
   "execution_count": 44,
   "metadata": {
    "scrolled": false
   },
   "outputs": [
    {
     "data": {
      "text/html": [
       "<h3>Prepare model data</h3>"
      ],
      "text/plain": [
       "<IPython.core.display.HTML object>"
      ]
     },
     "metadata": {},
     "output_type": "display_data"
    },
    {
     "name": "stdout",
     "output_type": "stream",
     "text": [
      "Time period: 2000-01-03 - 2012-12-05\n",
      "Scaled data shape: (4721, 141)\n",
      "Reframed data shape: (4708, 988)\n"
     ]
    },
    {
     "data": {
      "image/png": "[encoded data removed]",
      "text/plain": [
       "<matplotlib.figure.Figure at 0x1a182a3748>"
      ]
     },
     "metadata": {},
     "output_type": "display_data"
    },
    {
     "name": "stdout",
     "output_type": "stream",
     "text": [
      "Cumulative variance explained by the first 93 components: 0.999\n"
     ]
    },
    {
     "data": {
      "text/html": [
       "<h4>Shape of train and test data after PCA</h4>"
      ],
      "text/plain": [
       "<IPython.core.display.HTML object>"
      ]
     },
     "metadata": {},
     "output_type": "display_data"
    },
    {
     "name": "stdout",
     "output_type": "stream",
     "text": [
      "Reduced data shape: (4708, 94)\n"
     ]
    },
    {
     "data": {
      "text/html": [
       "<h4>Shape of train and test data</h4>"
      ],
      "text/plain": [
       "<IPython.core.display.HTML object>"
      ]
     },
     "metadata": {},
     "output_type": "display_data"
    },
    {
     "name": "stdout",
     "output_type": "stream",
     "text": [
      "(3149, 93) (3149,) (1552, 93) (1552,)\n"
     ]
    },
    {
     "data": {
      "text/html": [
       "<h3>Fit model</h3>"
      ],
      "text/plain": [
       "<IPython.core.display.HTML object>"
      ]
     },
     "metadata": {},
     "output_type": "display_data"
    },
    {
     "name": "stderr",
     "output_type": "stream",
     "text": [
      "N/A% (0 of 11) |                         | Elapsed Time: 0:00:00 ETA:  --:--:--/Users/davidmodjeska/anaconda/lib/python3.6/site-packages/pygam/utils.py:69: UserWarning: Could not import Scikit-Sparse or Suite-Sparse.\n",
      "This will slow down optimization for models with monotonicity/convexity penalties and many splines.\n",
      "See installation instructions for installing Scikit-Sparse and Suite-Sparse via Conda.\n",
      "  warnings.warn(msg)\n",
      "/Users/davidmodjeska/anaconda/lib/python3.6/site-packages/pygam/pygam.py:597: RuntimeWarning: divide by zero encountered in log\n",
      "  return np.log(self.distribution.pdf(y=y, mu=mu, weights=weights)).sum()\n",
      "  9% (1 of 11) |##                        | Elapsed Time: 0:00:16 ETA:  0:02:41/Users/davidmodjeska/anaconda/lib/python3.6/site-packages/pygam/utils.py:69: UserWarning: Could not import Scikit-Sparse or Suite-Sparse.\n",
      "This will slow down optimization for models with monotonicity/convexity penalties and many splines.\n",
      "See installation instructions for installing Scikit-Sparse and Suite-Sparse via Conda.\n",
      "  warnings.warn(msg)\n",
      "/Users/davidmodjeska/anaconda/lib/python3.6/site-packages/pygam/pygam.py:597: RuntimeWarning: divide by zero encountered in log\n",
      "  return np.log(self.distribution.pdf(y=y, mu=mu, weights=weights)).sum()\n",
      " 18% (2 of 11) |####                      | Elapsed Time: 0:00:33 ETA:  0:02:29/Users/davidmodjeska/anaconda/lib/python3.6/site-packages/pygam/utils.py:69: UserWarning: Could not import Scikit-Sparse or Suite-Sparse.\n",
      "This will slow down optimization for models with monotonicity/convexity penalties and many splines.\n",
      "See installation instructions for installing Scikit-Sparse and Suite-Sparse via Conda.\n",
      "  warnings.warn(msg)\n",
      "/Users/davidmodjeska/anaconda/lib/python3.6/site-packages/pygam/pygam.py:597: RuntimeWarning: divide by zero encountered in log\n",
      "  return np.log(self.distribution.pdf(y=y, mu=mu, weights=weights)).sum()\n",
      " 27% (3 of 11) |#######                   | Elapsed Time: 0:00:50 ETA:  0:02:14/Users/davidmodjeska/anaconda/lib/python3.6/site-packages/pygam/utils.py:69: UserWarning: Could not import Scikit-Sparse or Suite-Sparse.\n",
      "This will slow down optimization for models with monotonicity/convexity penalties and many splines.\n",
      "See installation instructions for installing Scikit-Sparse and Suite-Sparse via Conda.\n",
      "  warnings.warn(msg)\n",
      "/Users/davidmodjeska/anaconda/lib/python3.6/site-packages/pygam/pygam.py:597: RuntimeWarning: divide by zero encountered in log\n",
      "  return np.log(self.distribution.pdf(y=y, mu=mu, weights=weights)).sum()\n",
      " 36% (4 of 11) |#########                 | Elapsed Time: 0:01:07 ETA:  0:01:58/Users/davidmodjeska/anaconda/lib/python3.6/site-packages/pygam/utils.py:69: UserWarning: Could not import Scikit-Sparse or Suite-Sparse.\n",
      "This will slow down optimization for models with monotonicity/convexity penalties and many splines.\n",
      "See installation instructions for installing Scikit-Sparse and Suite-Sparse via Conda.\n",
      "  warnings.warn(msg)\n",
      "/Users/davidmodjeska/anaconda/lib/python3.6/site-packages/pygam/pygam.py:597: RuntimeWarning: divide by zero encountered in log\n",
      "  return np.log(self.distribution.pdf(y=y, mu=mu, weights=weights)).sum()\n",
      " 45% (5 of 11) |###########               | Elapsed Time: 0:01:24 ETA:  0:01:41/Users/davidmodjeska/anaconda/lib/python3.6/site-packages/pygam/utils.py:69: UserWarning: Could not import Scikit-Sparse or Suite-Sparse.\n",
      "This will slow down optimization for models with monotonicity/convexity penalties and many splines.\n",
      "See installation instructions for installing Scikit-Sparse and Suite-Sparse via Conda.\n",
      "  warnings.warn(msg)\n",
      "/Users/davidmodjeska/anaconda/lib/python3.6/site-packages/pygam/pygam.py:597: RuntimeWarning: divide by zero encountered in log\n",
      "  return np.log(self.distribution.pdf(y=y, mu=mu, weights=weights)).sum()\n",
      " 54% (6 of 11) |##############            | Elapsed Time: 0:01:42 ETA:  0:01:25/Users/davidmodjeska/anaconda/lib/python3.6/site-packages/pygam/utils.py:69: UserWarning: Could not import Scikit-Sparse or Suite-Sparse.\n",
      "This will slow down optimization for models with monotonicity/convexity penalties and many splines.\n",
      "See installation instructions for installing Scikit-Sparse and Suite-Sparse via Conda.\n",
      "  warnings.warn(msg)\n",
      "/Users/davidmodjeska/anaconda/lib/python3.6/site-packages/pygam/pygam.py:597: RuntimeWarning: divide by zero encountered in log\n",
      "  return np.log(self.distribution.pdf(y=y, mu=mu, weights=weights)).sum()\n",
      " 63% (7 of 11) |################          | Elapsed Time: 0:01:59 ETA:  0:01:08/Users/davidmodjeska/anaconda/lib/python3.6/site-packages/pygam/utils.py:69: UserWarning: Could not import Scikit-Sparse or Suite-Sparse.\n",
      "This will slow down optimization for models with monotonicity/convexity penalties and many splines.\n",
      "See installation instructions for installing Scikit-Sparse and Suite-Sparse via Conda.\n",
      "  warnings.warn(msg)\n",
      "/Users/davidmodjeska/anaconda/lib/python3.6/site-packages/pygam/pygam.py:597: RuntimeWarning: divide by zero encountered in log\n",
      "  return np.log(self.distribution.pdf(y=y, mu=mu, weights=weights)).sum()\n",
      " 72% (8 of 11) |##################        | Elapsed Time: 0:02:17 ETA:  0:00:51/Users/davidmodjeska/anaconda/lib/python3.6/site-packages/pygam/utils.py:69: UserWarning: Could not import Scikit-Sparse or Suite-Sparse.\n",
      "This will slow down optimization for models with monotonicity/convexity penalties and many splines.\n",
      "See installation instructions for installing Scikit-Sparse and Suite-Sparse via Conda.\n",
      "  warnings.warn(msg)\n",
      " 81% (9 of 11) |#####################     | Elapsed Time: 0:02:35 ETA:  0:00:34/Users/davidmodjeska/anaconda/lib/python3.6/site-packages/pygam/utils.py:69: UserWarning: Could not import Scikit-Sparse or Suite-Sparse.\n",
      "This will slow down optimization for models with monotonicity/convexity penalties and many splines.\n",
      "See installation instructions for installing Scikit-Sparse and Suite-Sparse via Conda.\n",
      "  warnings.warn(msg)\n",
      " 90% (10 of 11) |######################   | Elapsed Time: 0:02:53 ETA:  0:00:17/Users/davidmodjeska/anaconda/lib/python3.6/site-packages/pygam/utils.py:69: UserWarning: Could not import Scikit-Sparse or Suite-Sparse.\n",
      "This will slow down optimization for models with monotonicity/convexity penalties and many splines.\n",
      "See installation instructions for installing Scikit-Sparse and Suite-Sparse via Conda.\n",
      "  warnings.warn(msg)\n",
      "100% (11 of 11) |#########################| Elapsed Time: 0:03:10 Time: 0:03:10\n",
      "/Users/davidmodjeska/anaconda/lib/python3.6/site-packages/xgboost-0.6-py3.6.egg/xgboost/sklearn.py:201: DeprecationWarning: The seed parameter is deprecated as of version .6.Please use random_state instead.seed is deprecated.\n",
      "  'seed is deprecated.', DeprecationWarning)\n"
     ]
    },
    {
     "data": {
      "text/html": [
       "<h3>Score model on test data</h3>"
      ],
      "text/plain": [
       "<IPython.core.display.HTML object>"
      ]
     },
     "metadata": {},
     "output_type": "display_data"
    },
    {
     "data": {
      "text/html": [
       "<h4>RMSE from naive model that always predicts the previous week's rate</h4>"
      ],
      "text/plain": [
       "<IPython.core.display.HTML object>"
      ]
     },
     "metadata": {},
     "output_type": "display_data"
    },
    {
     "name": "stdout",
     "output_type": "stream",
     "text": [
      "RMSE: 0.0229\n"
     ]
    },
    {
     "data": {
      "text/html": [
       "<h4>RMSE from fitted model</h4>"
      ],
      "text/plain": [
       "<IPython.core.display.HTML object>"
      ]
     },
     "metadata": {},
     "output_type": "display_data"
    },
    {
     "name": "stdout",
     "output_type": "stream",
     "text": [
      "RMSE: 0.01008\n"
     ]
    },
    {
     "data": {
      "image/png": "[encoded data removed]",
      "text/plain": [
       "<matplotlib.figure.Figure at 0x1a18273a58>"
      ]
     },
     "metadata": {},
     "output_type": "display_data"
    },
    {
     "data": {
      "image/png": "[encoded data removed]",
      "text/plain": [
       "<matplotlib.figure.Figure at 0x1a19304630>"
      ]
     },
     "metadata": {},
     "output_type": "display_data"
    }
   ],
   "source": [
    "cols = [feature_cols[i] for i in range(n_feature_cols) \n",
    "        if re.search('UK_FX', feature_cols[i]) == None]\n",
    "naive_rmse, fx_all_rmse = do_one_model('GBP', feature_col_names = ['UK_FX'] + cols, do_pca = True)"
   ]
  },
  {
   "cell_type": "code",
   "execution_count": 45,
   "metadata": {},
   "outputs": [],
   "source": [
    "all_results = accum_results(all_results, 'GBP', naive_rmse, fx_rmse, fx_features_rmse, fx_all_rmse)"
   ]
  },
  {
   "cell_type": "markdown",
   "metadata": {},
   "source": [
    "# Summary of results for stacking model"
   ]
  },
  {
   "cell_type": "markdown",
   "metadata": {},
   "source": [
    "#### Test RMSE for all FX rates (relative to USD)"
   ]
  },
  {
   "cell_type": "code",
   "execution_count": 46,
   "metadata": {},
   "outputs": [
    {
     "data": {
      "text/html": [
       "<p>"
      ],
      "text/plain": [
       "<IPython.core.display.HTML object>"
      ]
     },
     "metadata": {},
     "output_type": "display_data"
    },
    {
     "data": {
      "text/html": [
       "<table border=\"1\" class=\"dataframe\">\n",
       "  <thead>\n",
       "    <tr style=\"text-align: right;\">\n",
       "      <th>Currency</th>\n",
       "      <th>Naive</th>\n",
       "      <th>FX Only</th>\n",
       "      <th>FX + Features</th>\n",
       "      <th>All Features</th>\n",
       "    </tr>\n",
       "  </thead>\n",
       "  <tbody>\n",
       "    <tr>\n",
       "      <td>AUD</td>\n",
       "      <td>0.01553</td>\n",
       "      <td>0.01451</td>\n",
       "      <td>0.00968</td>\n",
       "      <td>0.00769</td>\n",
       "    </tr>\n",
       "    <tr>\n",
       "      <td>CAD</td>\n",
       "      <td>0.01205</td>\n",
       "      <td>0.01105</td>\n",
       "      <td>0.00831</td>\n",
       "      <td>0.00556</td>\n",
       "    </tr>\n",
       "    <tr>\n",
       "      <td>EUR</td>\n",
       "      <td>0.01811</td>\n",
       "      <td>0.01708</td>\n",
       "      <td>0.01054</td>\n",
       "      <td>0.00833</td>\n",
       "    </tr>\n",
       "    <tr>\n",
       "      <td>JPY</td>\n",
       "      <td>0.00015</td>\n",
       "      <td>0.00014</td>\n",
       "      <td>0.00007</td>\n",
       "      <td>0.00007</td>\n",
       "    </tr>\n",
       "    <tr>\n",
       "      <td>CHF</td>\n",
       "      <td>0.01652</td>\n",
       "      <td>0.01786</td>\n",
       "      <td>0.00908</td>\n",
       "      <td>0.00724</td>\n",
       "    </tr>\n",
       "    <tr>\n",
       "      <td>GBP</td>\n",
       "      <td>0.02290</td>\n",
       "      <td>0.02126</td>\n",
       "      <td>0.01282</td>\n",
       "      <td>0.01008</td>\n",
       "    </tr>\n",
       "  </tbody>\n",
       "</table>"
      ],
      "text/plain": [
       "<IPython.core.display.HTML object>"
      ]
     },
     "metadata": {},
     "output_type": "display_data"
    }
   ],
   "source": [
    "all_results = all_results[['Currency', 'Naive', 'FX Only', 'FX + Features', 'All Features']]\n",
    "all_results.to_csv('RMSE_Stack_7.csv', index = False)\n",
    "\n",
    "pd.options.display.float_format = '{:,.5f}'.format\n",
    "my_linespace()\n",
    "my_display_df(all_results)"
   ]
  },
  {
   "cell_type": "markdown",
   "metadata": {},
   "source": [
    "#### Test RMSE as a share of naive RMSE for all FX rates (relative to USD)"
   ]
  },
  {
   "cell_type": "code",
   "execution_count": 47,
   "metadata": {},
   "outputs": [
    {
     "data": {
      "text/html": [
       "<p>"
      ],
      "text/plain": [
       "<IPython.core.display.HTML object>"
      ]
     },
     "metadata": {},
     "output_type": "display_data"
    },
    {
     "data": {
      "text/html": [
       "<table border=\"1\" class=\"dataframe\">\n",
       "  <thead>\n",
       "    <tr style=\"text-align: right;\">\n",
       "      <th>Currency</th>\n",
       "      <th>FX Only</th>\n",
       "      <th>FX + Features</th>\n",
       "      <th>All Features</th>\n",
       "    </tr>\n",
       "  </thead>\n",
       "  <tbody>\n",
       "    <tr>\n",
       "      <td>AUD</td>\n",
       "      <td>0.94</td>\n",
       "      <td>0.62</td>\n",
       "      <td>0.49</td>\n",
       "    </tr>\n",
       "    <tr>\n",
       "      <td>CAD</td>\n",
       "      <td>0.92</td>\n",
       "      <td>0.69</td>\n",
       "      <td>0.46</td>\n",
       "    </tr>\n",
       "    <tr>\n",
       "      <td>EUR</td>\n",
       "      <td>0.94</td>\n",
       "      <td>0.58</td>\n",
       "      <td>0.46</td>\n",
       "    </tr>\n",
       "    <tr>\n",
       "      <td>JPY</td>\n",
       "      <td>0.93</td>\n",
       "      <td>0.49</td>\n",
       "      <td>0.48</td>\n",
       "    </tr>\n",
       "    <tr>\n",
       "      <td>CHF</td>\n",
       "      <td>1.08</td>\n",
       "      <td>0.55</td>\n",
       "      <td>0.44</td>\n",
       "    </tr>\n",
       "    <tr>\n",
       "      <td>GBP</td>\n",
       "      <td>0.93</td>\n",
       "      <td>0.56</td>\n",
       "      <td>0.44</td>\n",
       "    </tr>\n",
       "  </tbody>\n",
       "</table>"
      ],
      "text/plain": [
       "<IPython.core.display.HTML object>"
      ]
     },
     "metadata": {},
     "output_type": "display_data"
    }
   ],
   "source": [
    "pd.options.display.float_format = '{:,.2f}'.format\n",
    "\n",
    "all_results_2 = all_results.drop('Naive', axis = 1)\n",
    "all_results_2['FX Only'] = np.round(all_results['FX Only'] / all_results['Naive'], 3)\n",
    "all_results_2['FX + Features'] = np.round(all_results['FX + Features'] / all_results['Naive'], 3)\n",
    "all_results_2['All Features'] = np.round(all_results['All Features'] / all_results['Naive'], 3)\n",
    "all_results_2 = all_results_2[['Currency', 'FX Only', 'FX + Features', 'All Features']]\n",
    "all_results_2.to_csv('Test_Naive_Stack_7.csv', index = False)\n",
    "\n",
    "my_linespace()\n",
    "my_display_df(all_results_2)"
   ]
  },
  {
   "cell_type": "markdown",
   "metadata": {},
   "source": [
    "#### Visualize test RMSE as a share of naive RMSE"
   ]
  },
  {
   "cell_type": "code",
   "execution_count": 48,
   "metadata": {
    "scrolled": true
   },
   "outputs": [
    {
     "name": "stdout",
     "output_type": "stream",
     "text": [
      "\n"
     ]
    },
    {
     "data": {
      "image/png": "[encoded data removed]",
      "text/plain": [
       "<matplotlib.figure.Figure at 0x1a1931b898>"
      ]
     },
     "metadata": {},
     "output_type": "display_data"
    }
   ],
   "source": [
    "n_items = all_results.shape[0]\n",
    "\n",
    "print()\n",
    "fig, ax = plt.subplots(figsize = (8, 4))\n",
    "\n",
    "ax.axhline(y = 1.0, color = '0.6', linestyle = '--', label = 'Naive')\n",
    "\n",
    "ax.plot(range(n_items), all_results_2['FX Only'], label = 'FX Only')\n",
    "ax.plot(range(n_items), all_results_2['FX + Features'], label = 'FX + Features')\n",
    "ax.plot(range(n_items), all_results_2['All Features'], label = 'All Features')\n",
    "\n",
    "ax.set_ylim((0., 1.2))\n",
    "ax.set_xticks(range(n_items))\n",
    "ax.set_xticklabels(all_results_2['Currency'])\n",
    "\n",
    "ax.set_xlabel('Currency')\n",
    "ax.set_ylabel('Test/naive RMSE')\n",
    "ax.set_title('Test/naive RMSE by currency')\n",
    "\n",
    "plt.legend(loc = 'lower right')\n",
    "plt.show()"
   ]
  },
  {
   "cell_type": "code",
   "execution_count": null,
   "metadata": {},
   "outputs": [],
   "source": []
  }
 ],
 "metadata": {
  "kernelspec": {
   "display_name": "Python 3",
   "language": "python",
   "name": "python3"
  },
  "language_info": {
   "codemirror_mode": {
    "name": "ipython",
    "version": 3
   },
   "file_extension": ".py",
   "mimetype": "text/x-python",
   "name": "python",
   "nbconvert_exporter": "python",
   "pygments_lexer": "ipython3",
   "version": "3.6.3"
  }
 },
 "nbformat": 4,
 "nbformat_minor": 2
}
